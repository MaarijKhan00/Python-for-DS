{
 "cells": [
  {
   "cell_type": "code",
   "execution_count": 1,
   "id": "249f3917-bae8-439f-b517-5a27aad9dbec",
   "metadata": {},
   "outputs": [],
   "source": [
    "# default argument\n",
    "# positional argument\n",
    "# key words argument"
   ]
  },
  {
   "cell_type": "code",
   "execution_count": 1,
   "id": "00c286cc-8cbf-4f2b-83e4-23976f79d532",
   "metadata": {},
   "outputs": [
    {
     "data": {
      "text/plain": [
       "8"
      ]
     },
     "execution_count": 1,
     "metadata": {},
     "output_type": "execute_result"
    }
   ],
   "source": [
    "def power(a,b):\n",
    "    return a**b\n",
    "power(2,3)"
   ]
  },
  {
   "cell_type": "code",
   "execution_count": 3,
   "id": "9bae0425-277c-42b7-b5c1-eb268ae44922",
   "metadata": {},
   "outputs": [
    {
     "data": {
      "text/plain": [
       "27"
      ]
     },
     "execution_count": 3,
     "metadata": {},
     "output_type": "execute_result"
    }
   ],
   "source": [
    "power(3,3)"
   ]
  },
  {
   "cell_type": "code",
   "execution_count": 4,
   "id": "bb99f977-a864-48d7-850c-0668d630983d",
   "metadata": {},
   "outputs": [
    {
     "ename": "TypeError",
     "evalue": "power() missing 2 required positional arguments: 'a' and 'b'",
     "output_type": "error",
     "traceback": [
      "\u001b[1;31m---------------------------------------------------------------------------\u001b[0m",
      "\u001b[1;31mTypeError\u001b[0m                                 Traceback (most recent call last)",
      "Cell \u001b[1;32mIn[4], line 1\u001b[0m\n\u001b[1;32m----> 1\u001b[0m power()\n",
      "\u001b[1;31mTypeError\u001b[0m: power() missing 2 required positional arguments: 'a' and 'b'"
     ]
    }
   ],
   "source": [
    "power()"
   ]
  },
  {
   "cell_type": "code",
   "execution_count": null,
   "id": "f6b8c66f-53f6-471a-a292-708a766012fb",
   "metadata": {},
   "outputs": [],
   "source": [
    "# using default values to prevent error in code\n",
    "def power(a=1,b=1):\n",
    "    return a**b\n",
    "power()"
   ]
  },
  {
   "cell_type": "code",
   "execution_count": 7,
   "id": "5975d1c0-585f-48ed-8c73-83c00d5f16e2",
   "metadata": {},
   "outputs": [
    {
     "data": {
      "text/plain": [
       "8"
      ]
     },
     "execution_count": 7,
     "metadata": {},
     "output_type": "execute_result"
    }
   ],
   "source": [
    "# postional arguments, giving defined positions to prevent positional faults\n",
    "power(b=3,a=2)"
   ]
  },
  {
   "cell_type": "code",
   "execution_count": 9,
   "id": "e504ad54-4265-4f5a-86d4-59e369e0741b",
   "metadata": {},
   "outputs": [
    {
     "data": {
      "text/plain": [
       "54.87199999999999"
      ]
     },
     "execution_count": 9,
     "metadata": {},
     "output_type": "execute_result"
    }
   ],
   "source": [
    "# keeping one value constant\n",
    "def power(c=3.8,b=1):\n",
    "    return c**b\n",
    "power(b=3)"
   ]
  },
  {
   "cell_type": "code",
   "execution_count": 11,
   "id": "05aa4d58-87a2-4c61-9365-fa9406cb5091",
   "metadata": {},
   "outputs": [
    {
     "data": {
      "text/plain": [
       "(1, 2, 3, 4, 5)"
      ]
     },
     "execution_count": 11,
     "metadata": {},
     "output_type": "execute_result"
    }
   ],
   "source": [
    "# *args, **keywargs when we donot know how user will behave\n",
    "a,b,c,d,e = (1,2,3,4,5)\n",
    "a,b,c,d,e"
   ]
  },
  {
   "cell_type": "code",
   "execution_count": 33,
   "id": "3eb6b53f-e828-4fb2-b5d3-460c646ff330",
   "metadata": {},
   "outputs": [
    {
     "data": {
      "text/plain": [
       "[3, 4, 5, 6]"
      ]
     },
     "execution_count": 33,
     "metadata": {},
     "output_type": "execute_result"
    }
   ],
   "source": [
    "a,b,*others = (1,2,3,4,5,6)\n",
    "others"
   ]
  },
  {
   "cell_type": "code",
   "execution_count": 35,
   "id": "fdd11aa6-f711-4745-bc93-8bdf02f3d8d7",
   "metadata": {},
   "outputs": [],
   "source": [
    "def pro_tup(*args):\n",
    "    prod = 1\n",
    "    for i in args:\n",
    "        prod = prod*i\n",
    "    print(*args)\n",
    "    return prod"
   ]
  },
  {
   "cell_type": "code",
   "execution_count": 37,
   "id": "2f94593e-1c5e-42d2-a6b5-bde0bdef07b4",
   "metadata": {},
   "outputs": [
    {
     "name": "stdout",
     "output_type": "stream",
     "text": [
      "1 2 3 4 5 6 7 8\n"
     ]
    },
    {
     "data": {
      "text/plain": [
       "40320"
      ]
     },
     "execution_count": 37,
     "metadata": {},
     "output_type": "execute_result"
    }
   ],
   "source": [
    "pro_tup(1,2,3,4,5,6,7,8)"
   ]
  },
  {
   "cell_type": "code",
   "execution_count": 1,
   "id": "3496cf6d-cc06-4e75-bc55-01812aaa8d69",
   "metadata": {},
   "outputs": [
    {
     "name": "stdin",
     "output_type": "stream",
     "text": [
      "Enter Your first name: maarij\n",
      "Enter your age 24\n",
      "Enter your profession banker\n",
      "Enter gender male\n"
     ]
    },
    {
     "data": {
      "text/plain": [
       "('maarij', 24, 'banker', 'male')"
      ]
     },
     "execution_count": 1,
     "metadata": {},
     "output_type": "execute_result"
    }
   ],
   "source": [
    "def portfolio(*args):\n",
    "    return args\n",
    "name = input('Enter Your first name:')\n",
    "age = int(input('Enter your age'))\n",
    "profession = input('Enter your profession')\n",
    "gender = input('Enter gender')\n",
    "portfolio(name,age,profession,gender)"
   ]
  },
  {
   "cell_type": "code",
   "execution_count": 11,
   "id": "dbd54a2a-47eb-4477-bf06-d5f209dabe82",
   "metadata": {},
   "outputs": [
    {
     "name": "stdin",
     "output_type": "stream",
     "text": [
      "Enter Your first name: maarij\n",
      "Enter your age 24\n",
      "Enter your profession banker\n",
      "Enter gender male\n"
     ]
    },
    {
     "data": {
      "text/plain": [
       "{'name': 'maarij', 'age': 24, 'profession': 'banker', 'gender': 'male'}"
      ]
     },
     "execution_count": 11,
     "metadata": {},
     "output_type": "execute_result"
    }
   ],
   "source": [
    "def user_details(**kwargs):\n",
    "    for key,value in kwargs.items():\n",
    "        return kwargs\n",
    "name = input('Enter Your first name:')\n",
    "age = int(input('Enter your age'))\n",
    "profession = input('Enter your profession')\n",
    "gender = input('Enter gender')\n",
    "user_details(name=name,age=age,profession=profession,gender=gender)"
   ]
  },
  {
   "cell_type": "code",
   "execution_count": 3,
   "id": "5f82f7ed-8a75-41e5-933d-808d6da80e9a",
   "metadata": {},
   "outputs": [
    {
     "name": "stdin",
     "output_type": "stream",
     "text": [
      "Enter Your college name: m\n",
      "Enter University g\n",
      "Enter your organistaion f\n"
     ]
    },
    {
     "name": "stdout",
     "output_type": "stream",
     "text": [
      "college ---> m\n",
      "university ---> g\n",
      "organisation ---> f\n"
     ]
    }
   ],
   "source": [
    "def study_values(**kwargs):\n",
    "    for key,value in kwargs.items():\n",
    "        print(key,'--->',value)\n",
    "college = input('Enter Your college name:')\n",
    "university = input('Enter University')\n",
    "organisation = input('Enter your organistaion')\n",
    "study_values(college=college,university=university,organisation=organisation)"
   ]
  },
  {
   "cell_type": "code",
   "execution_count": 5,
   "id": "71896c63-0d00-4723-867e-b774806252bf",
   "metadata": {},
   "outputs": [
    {
     "name": "stdin",
     "output_type": "stream",
     "text": [
      "Enter your first number 10\n",
      "Enter your second number 2\n"
     ]
    },
    {
     "name": "stdout",
     "output_type": "stream",
     "text": [
      "12.0\n",
      "8.0\n",
      "20.0\n",
      "5.0\n"
     ]
    }
   ],
   "source": [
    "def sum(num1,num2):\n",
    "    return round(num1+num2,2)\n",
    "def sub(num1,num2):\n",
    "    return round(num1-num2,2)\n",
    "def multi(num1,num2):\n",
    "    return round(num1*num2,2)\n",
    "def div(num1,num2):\n",
    "    return round(num1/num2,2)\n",
    "num1 = float(input('Enter your first number'))\n",
    "num2 = float(input('Enter your second number'))\n",
    "print(sum(num1,num2))\n",
    "print(sub(num1,num2))\n",
    "print(multi(num1,num2))\n",
    "print(div(num1,num2))"
   ]
  },
  {
   "cell_type": "code",
   "execution_count": 4,
   "id": "29b1faeb-de56-4ca4-8d21-8fc28ee9a7d0",
   "metadata": {},
   "outputs": [
    {
     "data": {
      "text/plain": [
       "-1.0"
      ]
     },
     "execution_count": 4,
     "metadata": {},
     "output_type": "execute_result"
    }
   ],
   "source": []
  },
  {
   "cell_type": "code",
   "execution_count": null,
   "id": "9395c939-e318-40d9-8a17-11834b8461f2",
   "metadata": {},
   "outputs": [],
   "source": []
  }
 ],
 "metadata": {
  "kernelspec": {
   "display_name": "Python 3 (ipykernel)",
   "language": "python",
   "name": "python3"
  },
  "language_info": {
   "codemirror_mode": {
    "name": "ipython",
    "version": 3
   },
   "file_extension": ".py",
   "mimetype": "text/x-python",
   "name": "python",
   "nbconvert_exporter": "python",
   "pygments_lexer": "ipython3",
   "version": "3.12.4"
  }
 },
 "nbformat": 4,
 "nbformat_minor": 5
}
