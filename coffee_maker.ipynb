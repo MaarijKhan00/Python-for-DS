{
 "cells": [
  {
   "cell_type": "code",
   "execution_count": 2,
   "id": "7a7bfac5-0d93-4380-ae7e-8b48a04563b4",
   "metadata": {},
   "outputs": [
    {
     "name": "stdin",
     "output_type": "stream",
     "text": [
      "\n",
      "What would you like?\n",
      "Type 'espresso', 'latte', or 'cappuccino' to order.\n",
      "Type code to off machine.\n",
      "Type report to generate resource report\n",
      "Type exit to exit menu\n",
      " espresso\n"
     ]
    },
    {
     "name": "stdout",
     "output_type": "stream",
     "text": [
      "Insert coins\n"
     ]
    },
    {
     "name": "stdin",
     "output_type": "stream",
     "text": [
      "How many quarters?: 5\n",
      "How many dimes?: 0\n",
      "How many nickels?: 9\n",
      "How many pennies?: 0\n"
     ]
    },
    {
     "name": "stdout",
     "output_type": "stream",
     "text": [
      "Here is your change 0.19999999999999996\n",
      "receipt are: \n",
      "Drink: espresso \n",
      "Cost: 1.5\n",
      "Your  espresso  is ready! Take it!\n"
     ]
    },
    {
     "name": "stdin",
     "output_type": "stream",
     "text": [
      "\n",
      "What would you like?\n",
      "Type 'espresso', 'latte', or 'cappuccino' to order.\n",
      "Type code to off machine.\n",
      "Type report to generate resource report\n",
      "Type exit to exit menu\n",
      " exit\n"
     ]
    },
    {
     "name": "stdout",
     "output_type": "stream",
     "text": [
      "Thank you for using coffee maker\n"
     ]
    },
    {
     "name": "stdin",
     "output_type": "stream",
     "text": [
      "\n",
      "What would you like?\n",
      "Type 'espresso', 'latte', or 'cappuccino' to order.\n",
      "Type code to off machine.\n",
      "Type report to generate resource report\n",
      "Type exit to exit menu\n",
      " off\n"
     ]
    },
    {
     "name": "stdout",
     "output_type": "stream",
     "text": [
      "Coffee maker is going to turn off!\n"
     ]
    }
   ],
   "source": [
    "#coffee maker\n",
    "resources = {\n",
    "    'milk': 20,\n",
    "    'water': 1000,\n",
    "    'coffee': 100,\n",
    "    'money' : 0\n",
    "}\n",
    "menu = {\n",
    "    \"espresso\": {'water': 50, 'milk': 0, 'coffee': 18, 'cost': 1.5},\n",
    "    \"latte\": {'water': 200, 'milk': 150, 'coffee': 24, 'cost': 2.5},\n",
    "    \"cappuccino\": {'water': 250, 'milk': 100, 'coffee': 24, 'cost': 3.0}\n",
    "}\n",
    "while True:\n",
    "    options = input('''\n",
    "What would you like?\n",
    "Type 'espresso', 'latte', or 'cappuccino' to order.\n",
    "Type code to off machine.\n",
    "Type report to generate resource report\n",
    "Type exit to exit menu\n",
    "''').lower()\n",
    "    if options == 'report':\n",
    "        print('Current resources are:','\\nWater:',resources['water'],'\\nMilk:',resources['milk'],'\\nCoffee:',resources['coffee'],'\\nMoney',resources['money'])\n",
    "    elif options == 'exit':\n",
    "        print('Thank you for using coffee maker')\n",
    "    elif options == 'off':\n",
    "        print('Coffee maker is going to turn off!')\n",
    "        break\n",
    "    elif options in menu:\n",
    "        if menu[options]['water']>resources['water']:\n",
    "            print('Not enough water to make ',options)\n",
    "        elif menu[options]['milk']>resources['milk']:\n",
    "            print('Not enough milk to make ',options)\n",
    "        elif menu[options]['coffee']>resources['coffee']:\n",
    "            print('Not enough coffee to make ',options)\n",
    "        else:\n",
    "            print('Insert coins')\n",
    "            quarters = int(input('How many quarters?:'))\n",
    "            dimes = int(input('How many dimes?:'))\n",
    "            nickels = int(input('How many nickels?:'))\n",
    "            pennies = int(input('How many pennies?:'))\n",
    "            total_amount = quarters*.25+dimes*.10+nickels*.05+pennies*.01\n",
    "            if total_amount>=menu[options]['cost']:\n",
    "                change = total_amount-menu[options]['cost']\n",
    "                print('Here is your change',change)\n",
    "                resources['milk']-=menu[options]['milk']\n",
    "                resources['water']-=menu[options]['water']\n",
    "                resources['coffee']-=menu[options]['coffee']\n",
    "                resources['money']+=menu[options]['cost']\n",
    "                print('receipt are:','\\nDrink:',options,'\\nCost:',menu[options]['cost'])\n",
    "                print('Your ',options,' is ready! Take it!')\n",
    "            else:\n",
    "                print('you do not have enough amount! your amount is refunded:$',total_amount)\n",
    "    else:\n",
    "        print('Enter valid option')"
   ]
  },
  {
   "cell_type": "code",
   "execution_count": 8,
   "id": "fae9ede0-1bc6-4908-98da-d99c4b9035d9",
   "metadata": {},
   "outputs": [
    {
     "name": "stdin",
     "output_type": "stream",
     "text": [
      "Enter Your Atm pin 89\n",
      "Enter Your Atm pin 90\n",
      "Enter Your Atm pin 900\n"
     ]
    },
    {
     "name": "stdout",
     "output_type": "stream",
     "text": [
      "You are restricted to enter pin\n"
     ]
    }
   ],
   "source": [
    "# atm machine\n",
    "passw = 1234\n",
    "balance1=4500\n",
    "trial = 0\n",
    "while trial <3:\n",
    "    # print('Your try number is :',trial)\n",
    "    atm_pin = int(input('Enter Your Atm pin'))\n",
    "    if atm_pin == passw:\n",
    "        print('Welcome to Atm machine')\n",
    "        option = input('''\n",
    "        1.Balance Check\n",
    "        2.Deposit Amount\n",
    "        3.Withdraw Amount\n",
    "        4.Exit\n",
    "        ''')\n",
    "        if option == '1':\n",
    "            print('Your Balance is :',balance1)\n",
    "        elif option == '2':\n",
    "            add_amount = int(input('Enter Amount to deposit:'))\n",
    "            if add_amount>0:\n",
    "                balance1+=add_amount\n",
    "                print('Your new balance is:',balance1)\n",
    "            else:\n",
    "                print('Enter Valid Amount')\n",
    "        elif option == '3':\n",
    "            withdr = int(input('Enter amount to withdraw:'))\n",
    "            if 0<withdr<balance1:\n",
    "                balance1-=withdr\n",
    "                print('Balance after withdraw is :',balance1)\n",
    "            else:\n",
    "                print('You donot have enough amount in your account:',balance1)\n",
    "        elif option == '4':\n",
    "            print('Thank you for using our Atm')\n",
    "        else:\n",
    "            print('Enter valid option')\n",
    "        break\n",
    "    else:\n",
    "        trial+=1\n",
    "if trial == 3:\n",
    "    print('You are restricted to enter pin')"
   ]
  },
  {
   "cell_type": "code",
   "execution_count": null,
   "id": "4640362a-274e-4351-85fe-b1aec4ce6183",
   "metadata": {},
   "outputs": [],
   "source": []
  }
 ],
 "metadata": {
  "kernelspec": {
   "display_name": "Python 3 (ipykernel)",
   "language": "python",
   "name": "python3"
  },
  "language_info": {
   "codemirror_mode": {
    "name": "ipython",
    "version": 3
   },
   "file_extension": ".py",
   "mimetype": "text/x-python",
   "name": "python",
   "nbconvert_exporter": "python",
   "pygments_lexer": "ipython3",
   "version": "3.12.4"
  }
 },
 "nbformat": 4,
 "nbformat_minor": 5
}
