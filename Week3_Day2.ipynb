{
 "cells": [
  {
   "cell_type": "code",
   "execution_count": 1,
   "id": "d671b46b-7762-4e24-b273-c40aaf3e4d47",
   "metadata": {},
   "outputs": [],
   "source": [
    "#set itself is mutable, unordered, and unique with no duplicates, cannot obbtain mutable datatypes and elements\n",
    "# {} represented"
   ]
  },
  {
   "cell_type": "code",
   "execution_count": 2,
   "id": "6a00c0da-8c3e-49cd-bb3f-abee1cd4dbf9",
   "metadata": {},
   "outputs": [
    {
     "data": {
      "text/plain": [
       "dict"
      ]
     },
     "execution_count": 2,
     "metadata": {},
     "output_type": "execute_result"
    }
   ],
   "source": [
    "name = {}\n",
    "type(name)"
   ]
  },
  {
   "cell_type": "code",
   "execution_count": 3,
   "id": "a1f01306-e756-4c15-83b3-4f56f71a8a74",
   "metadata": {},
   "outputs": [],
   "source": [
    "# if we keep something in curly brackets it becomes set if empty then dictionary"
   ]
  },
  {
   "cell_type": "code",
   "execution_count": 4,
   "id": "cc71d5f0-a26c-4bb2-88fc-ec0ef19a3e3e",
   "metadata": {},
   "outputs": [
    {
     "data": {
      "text/plain": [
       "set"
      ]
     },
     "execution_count": 4,
     "metadata": {},
     "output_type": "execute_result"
    }
   ],
   "source": [
    "s = set()\n",
    "type(s)\n"
   ]
  },
  {
   "cell_type": "code",
   "execution_count": 5,
   "id": "23a5e7bb-d236-418f-a6d7-00ab44a7ab1a",
   "metadata": {},
   "outputs": [
    {
     "name": "stdout",
     "output_type": "stream",
     "text": [
      "{3, 4, 5}\n"
     ]
    }
   ],
   "source": [
    "m = {5,3,3,4}\n",
    "print(m)"
   ]
  },
  {
   "cell_type": "code",
   "execution_count": 6,
   "id": "18714d54-3c22-418a-b6bb-a3690b80eb9c",
   "metadata": {},
   "outputs": [],
   "source": [
    "# set itself is mutable but its element cant be mutable like list can not be its element and tuple which is immutable can be its element"
   ]
  },
  {
   "cell_type": "code",
   "execution_count": 7,
   "id": "89e37f96-093b-481b-a93e-3affdf92e4a3",
   "metadata": {},
   "outputs": [
    {
     "ename": "TypeError",
     "evalue": "unhashable type: 'list'",
     "output_type": "error",
     "traceback": [
      "\u001b[1;31m---------------------------------------------------------------------------\u001b[0m",
      "\u001b[1;31mTypeError\u001b[0m                                 Traceback (most recent call last)",
      "Cell \u001b[1;32mIn[7], line 1\u001b[0m\n\u001b[1;32m----> 1\u001b[0m n \u001b[38;5;241m=\u001b[39m {\u001b[38;5;241m1\u001b[39m,\u001b[38;5;241m2\u001b[39m,\u001b[38;5;241m3\u001b[39m,\u001b[38;5;241m4\u001b[39m,[\u001b[38;5;241m5\u001b[39m,\u001b[38;5;241m6\u001b[39m,\u001b[38;5;241m7\u001b[39m]}\n\u001b[0;32m      2\u001b[0m \u001b[38;5;28mprint\u001b[39m(n)\n",
      "\u001b[1;31mTypeError\u001b[0m: unhashable type: 'list'"
     ]
    }
   ],
   "source": [
    "n = {1,2,3,4,[5,6,7]}\n",
    "print(n)"
   ]
  },
  {
   "cell_type": "code",
   "execution_count": 3,
   "id": "909c953c-485c-4bfb-b694-b50e22f2e821",
   "metadata": {},
   "outputs": [
    {
     "name": "stdout",
     "output_type": "stream",
     "text": [
      "{(5, 6, 7), 1, 2, 3, 4}\n"
     ]
    }
   ],
   "source": [
    "b = {1,2,3,4,(5,6,7)}\n",
    "print(b)"
   ]
  },
  {
   "cell_type": "code",
   "execution_count": null,
   "id": "f9ccae41-9665-413b-aaf1-5f8cf54cea2b",
   "metadata": {},
   "outputs": [],
   "source": [
    "# 0 and 1 are considered as true annd false thats why skips 0 or 1 in case false or true are in set because repetition is not allowed"
   ]
  },
  {
   "cell_type": "code",
   "execution_count": null,
   "id": "dac7fd1c-6ff0-4cb4-b2b5-d352746a15c0",
   "metadata": {},
   "outputs": [],
   "source": [
    "i = {1,2,'Maarij',1.8,True}\n",
    "print(i)"
   ]
  },
  {
   "cell_type": "code",
   "execution_count": 2,
   "id": "3ca3b39e-d503-4ddb-ad8d-944ddac5aac4",
   "metadata": {},
   "outputs": [
    {
     "name": "stdout",
     "output_type": "stream",
     "text": [
      "{False, 1, 2, 1.8, 'Maarij'}\n"
     ]
    }
   ],
   "source": [
    "i = {1,2,'Maarij',1.8,False}\n",
    "print(i)"
   ]
  },
  {
   "cell_type": "code",
   "execution_count": null,
   "id": "6aae0e43-0051-443d-b986-f1cac4a1c85f",
   "metadata": {},
   "outputs": [],
   "source": [
    "fruit = set(['Kiwi','Mango','Banana','Apple'])\n",
    "print(fruit)\n",
    "print(type(fruit))"
   ]
  },
  {
   "cell_type": "code",
   "execution_count": null,
   "id": "0c8cc8dd-8d94-41bb-860a-249513dc4bff",
   "metadata": {},
   "outputs": [],
   "source": [
    "# because set is unordered so order doesn't matter"
   ]
  },
  {
   "cell_type": "code",
   "execution_count": null,
   "id": "0becfc48-f84b-4f75-9f05-e53a48ffeecb",
   "metadata": {},
   "outputs": [],
   "source": [
    "s1 = {1,2,3,4}\n",
    "s2 = {4,3,2,1}\n",
    "s1 == s2"
   ]
  },
  {
   "cell_type": "code",
   "execution_count": 4,
   "id": "9b18f021-b7d3-425e-995c-1e73536470d8",
   "metadata": {},
   "outputs": [
    {
     "data": {
      "text/plain": [
       "False"
      ]
     },
     "execution_count": 4,
     "metadata": {},
     "output_type": "execute_result"
    }
   ],
   "source": [
    "s1 = {1,2,3,4}\n",
    "s2 = {5,4,3,2,1}\n",
    "s1 == s2"
   ]
  },
  {
   "cell_type": "code",
   "execution_count": null,
   "id": "f6a2db3f-6a38-4f8f-9ddb-76405c993f77",
   "metadata": {},
   "outputs": [],
   "source": [
    "# Accessing elements, we can not access the elements through index method because set is not ordered and  indexing is not going to happen in set\n",
    "print(s1)"
   ]
  },
  {
   "cell_type": "code",
   "execution_count": 11,
   "id": "afeef2a3-8ec1-4ecc-969c-0da8addd365a",
   "metadata": {},
   "outputs": [
    {
     "ename": "TypeError",
     "evalue": "'set' object is not subscriptable",
     "output_type": "error",
     "traceback": [
      "\u001b[1;31m---------------------------------------------------------------------------\u001b[0m",
      "\u001b[1;31mTypeError\u001b[0m                                 Traceback (most recent call last)",
      "Cell \u001b[1;32mIn[11], line 1\u001b[0m\n\u001b[1;32m----> 1\u001b[0m \u001b[38;5;28mprint\u001b[39m(s1[\u001b[38;5;241m0\u001b[39m])\n",
      "\u001b[1;31mTypeError\u001b[0m: 'set' object is not subscriptable"
     ]
    }
   ],
   "source": [
    "print(s1[0])"
   ]
  },
  {
   "cell_type": "code",
   "execution_count": 13,
   "id": "95440de5-5d03-4e34-97ae-2bad9c05da6d",
   "metadata": {},
   "outputs": [
    {
     "name": "stdout",
     "output_type": "stream",
     "text": [
      "{1, 2, 3, 4}\n"
     ]
    }
   ],
   "source": [
    "print(s1)"
   ]
  },
  {
   "cell_type": "code",
   "execution_count": 15,
   "id": "932d8165-c640-4870-b155-582512537252",
   "metadata": {},
   "outputs": [
    {
     "name": "stdout",
     "output_type": "stream",
     "text": [
      "{1, 2, 3, 4, 5}\n"
     ]
    }
   ],
   "source": [
    "s1.add(5)\n",
    "print(s1)"
   ]
  },
  {
   "cell_type": "code",
   "execution_count": null,
   "id": "8f9baa30-0c35-4fab-9854-fdb686ba9f23",
   "metadata": {},
   "outputs": [],
   "source": [
    "# we cannot add multiple items through add"
   ]
  },
  {
   "cell_type": "code",
   "execution_count": 17,
   "id": "4a68ac7b-9cf6-4837-90e6-43f07dfe83cf",
   "metadata": {},
   "outputs": [
    {
     "ename": "TypeError",
     "evalue": "set.add() takes exactly one argument (2 given)",
     "output_type": "error",
     "traceback": [
      "\u001b[1;31m---------------------------------------------------------------------------\u001b[0m",
      "\u001b[1;31mTypeError\u001b[0m                                 Traceback (most recent call last)",
      "Cell \u001b[1;32mIn[17], line 1\u001b[0m\n\u001b[1;32m----> 1\u001b[0m s1\u001b[38;5;241m.\u001b[39madd(\u001b[38;5;241m6\u001b[39m,\u001b[38;5;241m7\u001b[39m)\n\u001b[0;32m      2\u001b[0m \u001b[38;5;28mprint\u001b[39m(s1)\n",
      "\u001b[1;31mTypeError\u001b[0m: set.add() takes exactly one argument (2 given)"
     ]
    }
   ],
   "source": [
    "s1.add(6,7)\n",
    "print(s1)"
   ]
  },
  {
   "cell_type": "code",
   "execution_count": null,
   "id": "d98539b2-e3bb-494b-a7d9-157540ac580e",
   "metadata": {},
   "outputs": [],
   "source": [
    "# to add multiple items we use update"
   ]
  },
  {
   "cell_type": "code",
   "execution_count": null,
   "id": "c5bd1373-9154-47b6-8d66-88d5a6e78b56",
   "metadata": {},
   "outputs": [],
   "source": [
    "# structure remains the same because it does nt takes mutable items , it transformed that list into set"
   ]
  },
  {
   "cell_type": "code",
   "execution_count": 19,
   "id": "1196ccd9-639f-485d-a557-fba2864b42cc",
   "metadata": {},
   "outputs": [
    {
     "name": "stdout",
     "output_type": "stream",
     "text": [
      "{1, 2, 3, 4, 5, 6, 7, 8, 9}\n"
     ]
    }
   ],
   "source": [
    "s1.update([6,7,8,9])\n",
    "print(s1)"
   ]
  },
  {
   "cell_type": "code",
   "execution_count": 21,
   "id": "ff04fb72-444b-44ec-aead-03181249cc39",
   "metadata": {},
   "outputs": [
    {
     "name": "stdout",
     "output_type": "stream",
     "text": [
      "{'Irfan', 'Ali', 'Umair', 'Ahmad'}\n"
     ]
    }
   ],
   "source": [
    "s3 = {'Irfan','Umair','Ahmad','Ali'}\n",
    "print(s3)"
   ]
  },
  {
   "cell_type": "code",
   "execution_count": null,
   "id": "5a858933-060c-4b86-96c8-48d358ef06b2",
   "metadata": {},
   "outputs": [],
   "source": [
    "type(s3)"
   ]
  },
  {
   "cell_type": "code",
   "execution_count": 23,
   "id": "7e356920-0b6a-4c06-b24d-b8086ef5742b",
   "metadata": {},
   "outputs": [
    {
     "name": "stdout",
     "output_type": "stream",
     "text": [
      "{'Irfan', 'Ahmad', 'Umair', 'Aslam', 'Ali'}\n"
     ]
    }
   ],
   "source": [
    "s3.add('Aslam')\n",
    "print(s3)"
   ]
  },
  {
   "cell_type": "code",
   "execution_count": null,
   "id": "2e296f82-1bca-4980-a181-52e446ab492f",
   "metadata": {},
   "outputs": [],
   "source": [
    "# because in string update case set takes every alphapet of string as single value"
   ]
  },
  {
   "cell_type": "code",
   "execution_count": 25,
   "id": "eae446e2-72a0-4922-a40a-76d516165329",
   "metadata": {},
   "outputs": [
    {
     "name": "stdout",
     "output_type": "stream",
     "text": [
      "{'Irfan', 'a', 'Ahmad', 'z', 'A', 'Umair', 'i', 'Aslam', 'j', 'Ali'}\n"
     ]
    }
   ],
   "source": [
    "s3.update(('Aijaz'))\n",
    "print(s3)"
   ]
  },
  {
   "cell_type": "code",
   "execution_count": 27,
   "id": "7bba3d2e-089e-46bd-b683-e1091317226d",
   "metadata": {},
   "outputs": [
    {
     "name": "stdout",
     "output_type": "stream",
     "text": [
      "{'Irfan', 'a', 'Ahmad', 'z', 'Makwal', 'A', 'Umair', 'i', 'Aslam', 'j', 'Ali'}\n"
     ]
    }
   ],
   "source": [
    "s3.update({'Makwal'})\n",
    "print(s3)"
   ]
  },
  {
   "cell_type": "code",
   "execution_count": null,
   "id": "d4f04d1b-56ba-4e5f-8cc6-3de33c3ae30c",
   "metadata": {},
   "outputs": [],
   "source": [
    "# pop removes the first because no indexing, sometimes del random\n",
    "# remove and discard act same. pop is not much used because of random deletion"
   ]
  },
  {
   "cell_type": "code",
   "execution_count": 29,
   "id": "b831f741-27e7-4e61-a3bd-f835b00ec16a",
   "metadata": {},
   "outputs": [
    {
     "name": "stdout",
     "output_type": "stream",
     "text": [
      "{'a', 'Ahmad', 'z', 'Makwal', 'A', 'Umair', 'i', 'Aslam', 'j', 'Ali'}\n"
     ]
    }
   ],
   "source": [
    "s3.pop()\n",
    "print(s3)"
   ]
  },
  {
   "cell_type": "code",
   "execution_count": 31,
   "id": "c600918d-f252-4482-9e4e-9fd0c2dc829e",
   "metadata": {},
   "outputs": [],
   "source": [
    "s3.remove('Ahmad')"
   ]
  },
  {
   "cell_type": "code",
   "execution_count": 5,
   "id": "34fae483-d0e1-4c59-afbe-100cb8aac213",
   "metadata": {},
   "outputs": [
    {
     "ename": "NameError",
     "evalue": "name 's3' is not defined",
     "output_type": "error",
     "traceback": [
      "\u001b[1;31m---------------------------------------------------------------------------\u001b[0m",
      "\u001b[1;31mNameError\u001b[0m                                 Traceback (most recent call last)",
      "Cell \u001b[1;32mIn[5], line 1\u001b[0m\n\u001b[1;32m----> 1\u001b[0m \u001b[38;5;28mprint\u001b[39m(s3)\n",
      "\u001b[1;31mNameError\u001b[0m: name 's3' is not defined"
     ]
    }
   ],
   "source": [
    "print(s3)"
   ]
  },
  {
   "cell_type": "code",
   "execution_count": null,
   "id": "52496db6-a736-4944-92ad-759c56938579",
   "metadata": {},
   "outputs": [],
   "source": []
  },
  {
   "cell_type": "code",
   "execution_count": 33,
   "id": "cfa5d437-e103-41e2-ad03-d322a5e31b4a",
   "metadata": {},
   "outputs": [
    {
     "name": "stdout",
     "output_type": "stream",
     "text": [
      "{'a', 'z', 'Makwal', 'A', 'Umair', 'i', 'j', 'Ali'}\n"
     ]
    }
   ],
   "source": [
    "s3.discard('Aslam')\n",
    "print(s3)"
   ]
  },
  {
   "cell_type": "code",
   "execution_count": 35,
   "id": "afde9d47-9681-4922-857f-0120b432b726",
   "metadata": {},
   "outputs": [
    {
     "ename": "TypeError",
     "evalue": "'set' object doesn't support item deletion",
     "output_type": "error",
     "traceback": [
      "\u001b[1;31m---------------------------------------------------------------------------\u001b[0m",
      "\u001b[1;31mTypeError\u001b[0m                                 Traceback (most recent call last)",
      "Cell \u001b[1;32mIn[35], line 1\u001b[0m\n\u001b[1;32m----> 1\u001b[0m \u001b[38;5;28;01mdel\u001b[39;00m s3[\u001b[38;5;241m2\u001b[39m]\n\u001b[0;32m      2\u001b[0m \u001b[38;5;28mprint\u001b[39m(s3)\n",
      "\u001b[1;31mTypeError\u001b[0m: 'set' object doesn't support item deletion"
     ]
    }
   ],
   "source": [
    "del s3[2]\n",
    "print(s3)"
   ]
  },
  {
   "cell_type": "code",
   "execution_count": 37,
   "id": "ff40a755-7076-4498-ab1c-83600336b8cb",
   "metadata": {},
   "outputs": [
    {
     "name": "stdout",
     "output_type": "stream",
     "text": [
      "set()\n"
     ]
    }
   ],
   "source": [
    "s3.clear()\n",
    "print(s3)"
   ]
  },
  {
   "cell_type": "code",
   "execution_count": 18,
   "id": "c57ba648-9171-4e20-9fd9-f3b0256388de",
   "metadata": {},
   "outputs": [
    {
     "name": "stdout",
     "output_type": "stream",
     "text": [
      "{2, 3, 4, 5, 6, 10, 12, 13}\n"
     ]
    }
   ],
   "source": [
    "# operation in set\n",
    "# union (|) pipe is symbol\n",
    "s3 = {2,3,4,5,6}\n",
    "s4 = {3,4,5,10,12,13}\n",
    "print(s3|s4)"
   ]
  },
  {
   "cell_type": "code",
   "execution_count": 20,
   "id": "59489ab2-6b10-47de-9fe7-dad0682d2546",
   "metadata": {},
   "outputs": [
    {
     "name": "stdout",
     "output_type": "stream",
     "text": [
      "{3, 4, 5}\n"
     ]
    }
   ],
   "source": [
    "# intersection\n",
    "# symbol (&)\n",
    "s3 = {2,3,4,5,6}\n",
    "s4 = {3,4,5,10,12,13}\n",
    "print(s3&s4)"
   ]
  },
  {
   "cell_type": "code",
   "execution_count": 22,
   "id": "7dfde5ad-274c-430a-b435-d4828b15d31a",
   "metadata": {},
   "outputs": [
    {
     "data": {
      "text/plain": [
       "{2, 6}"
      ]
     },
     "execution_count": 22,
     "metadata": {},
     "output_type": "execute_result"
    }
   ],
   "source": [
    "# difference , first set remaining elements remain in output\n",
    "# symbol (-)\n",
    "s3-s4"
   ]
  },
  {
   "cell_type": "code",
   "execution_count": 24,
   "id": "80f5d348-efc4-471e-be2b-66e84e5a7a26",
   "metadata": {},
   "outputs": [
    {
     "data": {
      "text/plain": [
       "{10, 12, 13}"
      ]
     },
     "execution_count": 24,
     "metadata": {},
     "output_type": "execute_result"
    }
   ],
   "source": [
    "s4-s3"
   ]
  },
  {
   "cell_type": "code",
   "execution_count": 26,
   "id": "8b878354-f4e2-492a-992d-e1bebac03db1",
   "metadata": {},
   "outputs": [
    {
     "data": {
      "text/plain": [
       "{2, 6, 10, 12, 13}"
      ]
     },
     "execution_count": 26,
     "metadata": {},
     "output_type": "execute_result"
    }
   ],
   "source": [
    "# symmetric difference (^) common elements of both are deleted and remaining of both elements are output\n",
    "s3^s4\n"
   ]
  },
  {
   "cell_type": "code",
   "execution_count": 28,
   "id": "65daee8a-5f60-4764-8023-827d0c93449f",
   "metadata": {},
   "outputs": [
    {
     "data": {
      "text/plain": [
       "{2, 6, 10, 12, 13}"
      ]
     },
     "execution_count": 28,
     "metadata": {},
     "output_type": "execute_result"
    }
   ],
   "source": [
    "s4^s3"
   ]
  },
  {
   "cell_type": "code",
   "execution_count": 30,
   "id": "edfabb8c-94ca-402e-86e1-8ba690e738f2",
   "metadata": {},
   "outputs": [
    {
     "ename": "KeyError",
     "evalue": "45",
     "output_type": "error",
     "traceback": [
      "\u001b[1;31m---------------------------------------------------------------------------\u001b[0m",
      "\u001b[1;31mKeyError\u001b[0m                                  Traceback (most recent call last)",
      "Cell \u001b[1;32mIn[30], line 1\u001b[0m\n\u001b[1;32m----> 1\u001b[0m s3\u001b[38;5;241m.\u001b[39mremove(\u001b[38;5;241m45\u001b[39m)\n",
      "\u001b[1;31mKeyError\u001b[0m: 45"
     ]
    }
   ],
   "source": [
    "s3.remove(45)"
   ]
  },
  {
   "cell_type": "code",
   "execution_count": 40,
   "id": "2c21d9d4-45ce-4e97-9189-5a07389e78c1",
   "metadata": {},
   "outputs": [
    {
     "ename": "SyntaxError",
     "evalue": "incomplete input (1712254545.py, line 7)",
     "output_type": "error",
     "traceback": [
      "\u001b[1;36m  Cell \u001b[1;32mIn[40], line 7\u001b[1;36m\u001b[0m\n\u001b[1;33m    print(sorted(s,reverse = True)\u001b[0m\n\u001b[1;37m                                  ^\u001b[0m\n\u001b[1;31mSyntaxError\u001b[0m\u001b[1;31m:\u001b[0m incomplete input\n"
     ]
    }
   ],
   "source": [
    "# len/sum/min/max/rev\n",
    "s= {1,2,3,4,5,6,7}\n",
    "print(sum(s))\n",
    "print(len(s))\n",
    "print(min(s))\n",
    "print(max(s))\n",
    "print(sorted(s,reverse = True)"
   ]
  },
  {
   "cell_type": "code",
   "execution_count": 48,
   "id": "7a151cae-b311-461b-ab94-4c48b49ec781",
   "metadata": {},
   "outputs": [
    {
     "name": "stdout",
     "output_type": "stream",
     "text": [
      "{1, 2, 3, 4, 5, 6, 7, 8, 9}\n",
      "{1, 2, 3, 4, 5}\n",
      "{5, 6, 7, 8, 9}\n"
     ]
    }
   ],
   "source": [
    "# union / update , in union we have to declare union to be stored in other variable\n",
    "s1 = {1,2,3,4,5}\n",
    "s2 = {5,6,7,8,9}\n",
    "print(s1.union(s2))\n",
    "print(s1)\n",
    "print(s2)"
   ]
  },
  {
   "cell_type": "code",
   "execution_count": 50,
   "id": "f1daee8e-638a-4578-8c78-78bd068b58d1",
   "metadata": {},
   "outputs": [
    {
     "name": "stdout",
     "output_type": "stream",
     "text": [
      "{1, 2, 3, 4, 5, 6, 7, 8, 9}\n"
     ]
    }
   ],
   "source": [
    "s1.update(s2)\n",
    "print(s1)"
   ]
  },
  {
   "cell_type": "code",
   "execution_count": 39,
   "id": "21dd7be4-5962-449a-a5e7-32db5508420e",
   "metadata": {},
   "outputs": [
    {
     "name": "stdout",
     "output_type": "stream",
     "text": [
      "frozenset({1, 2, 3})\n"
     ]
    }
   ],
   "source": [
    "# frozen set to make set immutable\n",
    "fs1 = frozenset([1,2,3])\n",
    "print(fs1)\n"
   ]
  },
  {
   "cell_type": "code",
   "execution_count": 43,
   "id": "8fbdebe2-2304-4297-a948-e16b09580d44",
   "metadata": {},
   "outputs": [
    {
     "ename": "TypeError",
     "evalue": "unhashable type: 'list'",
     "output_type": "error",
     "traceback": [
      "\u001b[1;31m---------------------------------------------------------------------------\u001b[0m",
      "\u001b[1;31mTypeError\u001b[0m                                 Traceback (most recent call last)",
      "Cell \u001b[1;32mIn[43], line 3\u001b[0m\n\u001b[0;32m      1\u001b[0m \u001b[38;5;66;03m# add update cannot be performed\u001b[39;00m\n\u001b[0;32m      2\u001b[0m \u001b[38;5;66;03m# all read function work but write dont work\u001b[39;00m\n\u001b[1;32m----> 3\u001b[0m fs1 \u001b[38;5;241m=\u001b[39m \u001b[38;5;28mfrozenset\u001b[39m([\u001b[38;5;241m1\u001b[39m,\u001b[38;5;241m2\u001b[39m,\u001b[38;5;241m3\u001b[39m,\u001b[38;5;241m4\u001b[39m,[]])\n",
      "\u001b[1;31mTypeError\u001b[0m: unhashable type: 'list'"
     ]
    }
   ],
   "source": [
    "# add update cannot be performed\n",
    "# all read function work but write dont work\n",
    "fs1 = frozenset([1,2,3,4,[]])"
   ]
  },
  {
   "cell_type": "code",
   "execution_count": null,
   "id": "60b520f5-4fe5-406d-8916-cec49aa25e30",
   "metadata": {},
   "outputs": [],
   "source": []
  }
 ],
 "metadata": {
  "kernelspec": {
   "display_name": "Python 3 (ipykernel)",
   "language": "python",
   "name": "python3"
  },
  "language_info": {
   "codemirror_mode": {
    "name": "ipython",
    "version": 3
   },
   "file_extension": ".py",
   "mimetype": "text/x-python",
   "name": "python",
   "nbconvert_exporter": "python",
   "pygments_lexer": "ipython3",
   "version": "3.12.4"
  }
 },
 "nbformat": 4,
 "nbformat_minor": 5
}
