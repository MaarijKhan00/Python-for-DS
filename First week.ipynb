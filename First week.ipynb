{
 "cells": [
  {
   "cell_type": "raw",
   "id": "3437e0c5-e32c-40ec-9694-0cdc623d6c6f",
   "metadata": {},
   "source": [
    "Operators"
   ]
  },
  {
   "cell_type": "code",
   "execution_count": null,
   "id": "3ab6f636-8584-41ba-89b1-7af66edf5792",
   "metadata": {},
   "outputs": [],
   "source": [
    "num1 =  float(input('Type number 1 ='))\n",
    "num2 =  float(input('Type number 2 =')) \n",
    "print('Resut for not equal to is =',num1!=num2)\n",
    "print('Resut for less than equal to is =',num1<=num2)\n",
    "print('Resut for greater than equal to is =',num1>=num2)"
   ]
  },
  {
   "cell_type": "code",
   "execution_count": null,
   "id": "be8b3a8e-70d6-4105-8194-34a278482741",
   "metadata": {},
   "outputs": [],
   "source": [
    "num1 =  float(input('Type number 1 ='))\n",
    "num2 =  float(input('Type number 2 ='))\n",
    "num3 =  float(input('Type number 3 ='))\n",
    "print('Resut for not equal to is =',num1!=num2!=num3)\n",
    "print('Resut for greater than to is =',num1!=num2)\n"
   ]
  },
  {
   "cell_type": "code",
   "execution_count": 5,
   "id": "286ec9f5-3b12-4289-abd1-f4b24c1e4085",
   "metadata": {},
   "outputs": [
    {
     "name": "stdin",
     "output_type": "stream",
     "text": [
      "Enter number 1= True\n",
      "Enter number 2= False\n"
     ]
    },
    {
     "name": "stdout",
     "output_type": "stream",
     "text": [
      "Answer for And gate is = True\n"
     ]
    }
   ],
   "source": [
    "num1 = bool(input('Enter number 1='))\n",
    "num2 = bool(input('Enter number 2='))\n",
    "print('Answer for And gate is =',num1 and num2)"
   ]
  },
  {
   "cell_type": "code",
   "execution_count": null,
   "id": "5e61f70f-73b4-4fa7-bdef-79bab253ba84",
   "metadata": {},
   "outputs": [
    {
     "name": "stdin",
     "output_type": "stream",
     "text": [
      "Enter number 1= True\n"
     ]
    }
   ],
   "source": [
    "num1 = bool(input('Enter number 1='))\n",
    "num2 = bool(input('Enter number 2='))\n",
    "print('Answer for And gate is =',num1 and num2)"
   ]
  },
  {
   "cell_type": "markdown",
   "id": "78031aab-aef7-4efe-9d48-6ef0371f2ec2",
   "metadata": {},
   "source": [
    "Assignment operator"
   ]
  },
  {
   "cell_type": "code",
   "execution_count": 4,
   "id": "41ef325d-fe11-4528-a125-8d171fab639c",
   "metadata": {},
   "outputs": [
    {
     "data": {
      "text/plain": [
       "15"
      ]
     },
     "execution_count": 4,
     "metadata": {},
     "output_type": "execute_result"
    }
   ],
   "source": [
    "num= 10\n",
    "num+=5\n",
    "num"
   ]
  },
  {
   "cell_type": "code",
   "execution_count": 6,
   "id": "49022bc1-ee74-4288-94fa-ad5ad091d57a",
   "metadata": {},
   "outputs": [
    {
     "data": {
      "text/plain": [
       "False"
      ]
     },
     "execution_count": 6,
     "metadata": {},
     "output_type": "execute_result"
    }
   ],
   "source": [
    "passage1 = 'The different types of passages commonly found in English reading comprehension tests include narrative, expository, descriptive, and persuasive passages.'\n",
    "passage2 = 'Reading comprehension is the capability to comprehend or understand, what you are reading. This is an intended and active part of reading and takes place before'\n",
    "passage1 is passage2"
   ]
  },
  {
   "cell_type": "code",
   "execution_count": 13,
   "id": "a999e6b8-c2fb-4d04-8436-a9c7dec3c103",
   "metadata": {},
   "outputs": [
    {
     "name": "stdout",
     "output_type": "stream",
     "text": [
      "True\n",
      "2044567524480\n",
      "2044568592976\n"
     ]
    }
   ],
   "source": [
    "passage3 ='Reading comprehension is the capability to comprehend or understand, what you are reading. This is an intended and active part of reading and takes place before'\n",
    "passage4 ='Reading comprehension is the capability to comprehend or understand, what you are reading. This is an intended and active part of reading and takes place before'\n",
    "print(passage3 is not passage4)\n",
    "print(id(passage3))\n",
    "print(id(passage4))"
   ]
  },
  {
   "cell_type": "code",
   "execution_count": 3,
   "id": "2836cbed-20d5-4e72-87ec-a92e461221c6",
   "metadata": {},
   "outputs": [
    {
     "data": {
      "text/plain": [
       "True"
      ]
     },
     "execution_count": 3,
     "metadata": {},
     "output_type": "execute_result"
    }
   ],
   "source": [
    "p = 5\n",
    "o =5\n",
    "p is o"
   ]
  },
  {
   "cell_type": "markdown",
   "id": "113baf26-8a70-4afc-9614-dc9e2adfdb94",
   "metadata": {},
   "source": [
    "Membership operator 'in' and 'not in'"
   ]
  },
  {
   "cell_type": "code",
   "execution_count": 20,
   "id": "9ed27e48-c980-4e92-b0f4-7f40baaba838",
   "metadata": {},
   "outputs": [
    {
     "name": "stdout",
     "output_type": "stream",
     "text": [
      "True\n",
      "True\n"
     ]
    }
   ],
   "source": [
    "a = 'Python'\n",
    "print('P' in a)\n",
    "print('n' in a)"
   ]
  },
  {
   "cell_type": "code",
   "execution_count": null,
   "id": "d1818aff-1932-42b8-b2a9-8d84b8d7a3ad",
   "metadata": {},
   "outputs": [],
   "source": []
  }
 ],
 "metadata": {
  "kernelspec": {
   "display_name": "Python 3 (ipykernel)",
   "language": "python",
   "name": "python3"
  },
  "language_info": {
   "codemirror_mode": {
    "name": "ipython",
    "version": 3
   },
   "file_extension": ".py",
   "mimetype": "text/x-python",
   "name": "python",
   "nbconvert_exporter": "python",
   "pygments_lexer": "ipython3",
   "version": "3.12.4"
  }
 },
 "nbformat": 4,
 "nbformat_minor": 5
}
