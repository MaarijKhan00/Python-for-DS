{
 "cells": [
  {
   "cell_type": "code",
   "execution_count": 4,
   "id": "6f6e733a-bd74-48ce-9fe8-4b7594f4734b",
   "metadata": {},
   "outputs": [
    {
     "name": "stdout",
     "output_type": "stream",
     "text": [
      "[1, 2, 3, 4, [5, 6]]\n"
     ]
    }
   ],
   "source": [
    "#Maarij Irfan\n",
    "#mcq1 : ans = b)5\n",
    "#mcq2 : ans = b)tuples can contain duplicate elements\n",
    "#mcq3 : ans = b)4\n",
    "#mcq4 : ans = b)Hello\n",
    "#mcq5 : ans = none\n",
    "#mcq6 : ans = c){1,2,3,4,5}\n",
    "#Q6: Mutable data types allow modification of their contents after they have been created.\n",
    "#You can add, remove, or modify elements within a mutable data type without creating a new instance.\n",
    "# Lists, dictionaries, sets\n",
    "#Immutable data types do not allow modification once created. \n",
    "#Any operation that changes the data will create a new instance rather than modifying the existing one.\n",
    "#like tuples\n",
    "my = [1,2,3,4]\n",
    "my.append([5,6])\n",
    "print(my)"
   ]
  },
  {
   "cell_type": "code",
   "execution_count": 15,
   "id": "2cbb4b82-1988-45fe-8c92-11eb128e818c",
   "metadata": {},
   "outputs": [
    {
     "name": "stdout",
     "output_type": "stream",
     "text": [
      "[19, 19, 20, 22, 24, 24, 24, 25, 25, 26]\n"
     ]
    }
   ],
   "source": [
    "# Initial list of ages\n",
    "ages = [19, 22, 19, 24, 20, 25, 26, 24, 25, 24]\n",
    "\n",
    "# Step 1:\n",
    "ages.sort()\n",
    "print(ages)\n"
   ]
  },
  {
   "cell_type": "code",
   "execution_count": 17,
   "id": "97712496-65d9-41f1-a0f4-33ce5fba5a52",
   "metadata": {},
   "outputs": [],
   "source": [
    "min_age = ages[0]\n",
    "max_age = ages[-1]"
   ]
  },
  {
   "cell_type": "code",
   "execution_count": 19,
   "id": "8f4c7b59-3e5a-4db3-8137-12e41e13f8db",
   "metadata": {},
   "outputs": [
    {
     "name": "stdout",
     "output_type": "stream",
     "text": [
      "19\n",
      "26\n"
     ]
    }
   ],
   "source": [
    "print(min_age)\n",
    "print(max_age)"
   ]
  },
  {
   "cell_type": "code",
   "execution_count": 21,
   "id": "e067684d-ff1c-4197-a03c-ec60eee6aaed",
   "metadata": {},
   "outputs": [
    {
     "name": "stdout",
     "output_type": "stream",
     "text": [
      "[19, 19, 20, 22, 24, 24, 24, 25, 25, 26, 19, 26]\n"
     ]
    }
   ],
   "source": [
    "ages.extend([min_age,max_age])\n",
    "print(ages)"
   ]
  },
  {
   "cell_type": "code",
   "execution_count": 23,
   "id": "10299f88-d5f8-480a-aa52-68954faa4d39",
   "metadata": {},
   "outputs": [],
   "source": [
    "ages.sort()"
   ]
  },
  {
   "cell_type": "code",
   "execution_count": 25,
   "id": "d947920e-171c-4759-9705-f15e4bc50378",
   "metadata": {},
   "outputs": [
    {
     "name": "stdout",
     "output_type": "stream",
     "text": [
      "[19, 19, 19, 20, 22, 24, 24, 24, 25, 25, 26, 26]\n"
     ]
    }
   ],
   "source": [
    "print(ages)"
   ]
  },
  {
   "cell_type": "code",
   "execution_count": 59,
   "id": "43ee0a06-24aa-4124-baf1-afa46087198e",
   "metadata": {},
   "outputs": [
    {
     "name": "stdout",
     "output_type": "stream",
     "text": [
      "[24, 24]\n",
      "24.0\n"
     ]
    }
   ],
   "source": [
    "median_ages = ages[5:7]\n",
    "print(median_ages)\n",
    "med_age = (ages[5]+ages[6])/2\n",
    "print(med_age)"
   ]
  },
  {
   "cell_type": "code",
   "execution_count": 35,
   "id": "3497bb56-3944-4d9a-bef8-bf4b2a656564",
   "metadata": {},
   "outputs": [
    {
     "name": "stdout",
     "output_type": "stream",
     "text": [
      "median age is: 24.0\n"
     ]
    }
   ],
   "source": [
    "med = (24+24)/2\n",
    "print('median age is:',med )"
   ]
  },
  {
   "cell_type": "code",
   "execution_count": 37,
   "id": "3d8b9fa2-0e7f-4b00-a2f2-5e680d1e3564",
   "metadata": {},
   "outputs": [],
   "source": [
    "avg_age = sum(ages) / len(ages)"
   ]
  },
  {
   "cell_type": "code",
   "execution_count": 39,
   "id": "47268aa3-7772-420e-bb61-1912fc8b0565",
   "metadata": {},
   "outputs": [
    {
     "name": "stdout",
     "output_type": "stream",
     "text": [
      "22.75\n"
     ]
    }
   ],
   "source": [
    "print(avg_age)"
   ]
  },
  {
   "cell_type": "code",
   "execution_count": 41,
   "id": "a16238a7-5bc3-432b-bbb2-fb37da1013e8",
   "metadata": {},
   "outputs": [
    {
     "name": "stdout",
     "output_type": "stream",
     "text": [
      "Age range: 7\n"
     ]
    }
   ],
   "source": [
    "age_range = max_age - min_age\n",
    "print(\"Age range:\", age_range)"
   ]
  },
  {
   "cell_type": "code",
   "execution_count": 43,
   "id": "6ba42ee4-70a7-47b6-8c14-9fc30ecd2de4",
   "metadata": {},
   "outputs": [],
   "source": [
    "#2\n",
    "empty_tuple = ()"
   ]
  },
  {
   "cell_type": "code",
   "execution_count": 45,
   "id": "a4371530-dfc4-420e-a115-8c81b42e7b17",
   "metadata": {},
   "outputs": [],
   "source": [
    "sisters = (\"Ayesha\", \"Maryam\")\n",
    "brothers = (\"Ahmad\", \"Ali\")"
   ]
  },
  {
   "cell_type": "code",
   "execution_count": 47,
   "id": "f744625e-d2d8-49c1-ba48-e834756e35d8",
   "metadata": {},
   "outputs": [
    {
     "name": "stdout",
     "output_type": "stream",
     "text": [
      "Siblings: ('Ahmad', 'Ali', 'Ayesha', 'Maryam')\n"
     ]
    }
   ],
   "source": [
    "siblings = brothers + sisters\n",
    "print(\"Siblings:\", siblings)"
   ]
  },
  {
   "cell_type": "code",
   "execution_count": 49,
   "id": "b62f81ff-aa66-484f-a009-9e274e263fad",
   "metadata": {},
   "outputs": [
    {
     "name": "stdout",
     "output_type": "stream",
     "text": [
      "Number of siblings: 4\n"
     ]
    }
   ],
   "source": [
    "number_of_siblings = len(siblings)\n",
    "print(\"Number of siblings:\", number_of_siblings)"
   ]
  },
  {
   "cell_type": "code",
   "execution_count": 51,
   "id": "8e48bad2-9e2c-4f2f-badd-607817b1b3fb",
   "metadata": {},
   "outputs": [
    {
     "name": "stdout",
     "output_type": "stream",
     "text": [
      "Family members: ('Ahmad', 'Ali', 'Ayesha', 'Maryam', 'Irfan', 'Shazia')\n"
     ]
    }
   ],
   "source": [
    "father = \"Irfan\"\n",
    "mother = \"Shazia\"\n",
    "family_members = siblings + (father, mother)\n",
    "print(\"Family members:\", family_members)"
   ]
  },
  {
   "cell_type": "code",
   "execution_count": 53,
   "id": "707a83ef-324e-4953-9ce5-b0c2e1e03669",
   "metadata": {},
   "outputs": [
    {
     "name": "stdout",
     "output_type": "stream",
     "text": [
      "Unpacked siblings: ('Ahmad', 'Ali', 'Ayesha', 'Maryam')\n",
      "Father: Irfan\n",
      "Mother: Shazia\n"
     ]
    }
   ],
   "source": [
    "siblings, father, mother = family_members[:-2], family_members[-2], family_members[-1]\n",
    "print(\"Unpacked siblings:\", siblings)\n",
    "print(\"Father:\", father)\n",
    "print(\"Mother:\", mother)"
   ]
  }
 ],
 "metadata": {
  "kernelspec": {
   "display_name": "Python 3 (ipykernel)",
   "language": "python",
   "name": "python3"
  },
  "language_info": {
   "codemirror_mode": {
    "name": "ipython",
    "version": 3
   },
   "file_extension": ".py",
   "mimetype": "text/x-python",
   "name": "python",
   "nbconvert_exporter": "python",
   "pygments_lexer": "ipython3",
   "version": "3.12.4"
  }
 },
 "nbformat": 4,
 "nbformat_minor": 5
}
