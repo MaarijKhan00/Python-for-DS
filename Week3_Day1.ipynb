{
 "cells": [
  {
   "cell_type": "code",
   "execution_count": 4,
   "id": "bd3efd9f-f6da-4dd1-9728-ae6636352a1a",
   "metadata": {},
   "outputs": [],
   "source": [
    "favourite_fruits = ['Pineapple','Orange','kiwi','Dragon fruit']\n",
    "fruits_not_liked = ['Mango','Banana','Berries','Avocado']\n",
    "occasionally_fruits = ['Cherry','Coconut','Cocumber','Dates']"
   ]
  },
  {
   "cell_type": "code",
   "execution_count": 6,
   "id": "18d591e7-a5f4-4ac1-bb3c-705b73ee6a81",
   "metadata": {},
   "outputs": [
    {
     "name": "stdout",
     "output_type": "stream",
     "text": [
      "['Pineapple', 'Orange', 'kiwi', 'Dragon fruit', ['Mango', 'Banana', 'Berries', 'Avocado']]\n"
     ]
    }
   ],
   "source": [
    "favourite_fruits.append(fruits_not_liked)\n",
    "print(favourite_fruits)"
   ]
  },
  {
   "cell_type": "code",
   "execution_count": 8,
   "id": "465ab707-677e-4473-a40b-ed3f916073e5",
   "metadata": {},
   "outputs": [
    {
     "name": "stdout",
     "output_type": "stream",
     "text": [
      "[['Cherry', 'Coconut', 'Cocumber', 'Dates'], 'Pineapple', 'Orange', 'kiwi', 'Dragon fruit', ['Mango', 'Banana', 'Berries', 'Avocado']]\n"
     ]
    }
   ],
   "source": [
    "favourite_fruits.insert(0,occasionally_fruits)\n",
    "print(favourite_fruits)"
   ]
  },
  {
   "cell_type": "code",
   "execution_count": 10,
   "id": "2aab7844-a2c4-4546-be74-79685f729544",
   "metadata": {},
   "outputs": [
    {
     "data": {
      "text/plain": [
       "['Banana', 'Berries']"
      ]
     },
     "execution_count": 10,
     "metadata": {},
     "output_type": "execute_result"
    }
   ],
   "source": [
    "favourite_fruits[5][1:3:]"
   ]
  },
  {
   "cell_type": "markdown",
   "id": "335afa5d-0fa8-44ef-bdc6-84b87c0c07ad",
   "metadata": {},
   "source": [
    "len(favourite_fruits)"
   ]
  },
  {
   "cell_type": "code",
   "execution_count": 13,
   "id": "b74823c3-af41-4249-a31b-c2914e33be9d",
   "metadata": {},
   "outputs": [
    {
     "data": {
      "text/plain": [
       "4"
      ]
     },
     "execution_count": 13,
     "metadata": {},
     "output_type": "execute_result"
    }
   ],
   "source": [
    "len(favourite_fruits[5])"
   ]
  },
  {
   "cell_type": "code",
   "execution_count": 15,
   "id": "8a8593f7-7399-48b1-b8cf-6fdee2804294",
   "metadata": {},
   "outputs": [
    {
     "data": {
      "text/plain": [
       "0"
      ]
     },
     "execution_count": 15,
     "metadata": {},
     "output_type": "execute_result"
    }
   ],
   "source": [
    "favourite_fruits.count('Mango')"
   ]
  },
  {
   "cell_type": "code",
   "execution_count": 17,
   "id": "bda46087-eb10-4d32-9328-268f19c7f0bf",
   "metadata": {},
   "outputs": [
    {
     "data": {
      "text/plain": [
       "['Cherry', 'Coconut', 'Cocumber', 'Dates']"
      ]
     },
     "execution_count": 17,
     "metadata": {},
     "output_type": "execute_result"
    }
   ],
   "source": [
    "favourite_fruits.pop(0)"
   ]
  },
  {
   "cell_type": "code",
   "execution_count": 19,
   "id": "c4c11e4b-3b3b-4489-ab59-a549024b830c",
   "metadata": {},
   "outputs": [
    {
     "name": "stdout",
     "output_type": "stream",
     "text": [
      "['Pineapple', 'Orange', 'kiwi', 'Dragon fruit', ['Mango', 'Banana', 'Berries', 'Avocado']]\n"
     ]
    }
   ],
   "source": [
    "print(favourite_fruits)"
   ]
  },
  {
   "cell_type": "code",
   "execution_count": 21,
   "id": "338b9136-7261-412e-8e0f-778d39345812",
   "metadata": {},
   "outputs": [],
   "source": [
    "favourite_fruits.insert(0,occasionally_fruits)"
   ]
  },
  {
   "cell_type": "code",
   "execution_count": 23,
   "id": "699de0d1-a264-4006-9887-c50e4b4e3a75",
   "metadata": {},
   "outputs": [
    {
     "name": "stdout",
     "output_type": "stream",
     "text": [
      "[['Cherry', 'Coconut', 'Cocumber', 'Dates'], 'Pineapple', 'Orange', 'kiwi', 'Dragon fruit', ['Mango', 'Banana', 'Berries', 'Avocado']]\n"
     ]
    }
   ],
   "source": [
    "print(favourite_fruits)"
   ]
  },
  {
   "cell_type": "code",
   "execution_count": 27,
   "id": "b8e777f5-a984-4167-85cc-c06aab31bdf0",
   "metadata": {},
   "outputs": [
    {
     "name": "stdout",
     "output_type": "stream",
     "text": [
      "[['Cherry', 'Coconut', 'Cocumber', 'Dates'], 'Pineapple', 'Melon', 'kiwi', 'Dragon fruit', ['Mango', 'Banana', 'Berries', 'Avocado']]\n"
     ]
    }
   ],
   "source": [
    "favourite_fruits[2] = 'Melon'\n",
    "print(favourite_fruits)"
   ]
  },
  {
   "cell_type": "code",
   "execution_count": 22,
   "id": "f70896bb-6251-46e6-b460-2eeea133c43a",
   "metadata": {},
   "outputs": [
    {
     "ename": "AttributeError",
     "evalue": "'str' object has no attribute 'remove'",
     "output_type": "error",
     "traceback": [
      "\u001b[1;31m---------------------------------------------------------------------------\u001b[0m",
      "\u001b[1;31mAttributeError\u001b[0m                            Traceback (most recent call last)",
      "Cell \u001b[1;32mIn[22], line 1\u001b[0m\n\u001b[1;32m----> 1\u001b[0m favourite_fruits[\u001b[38;5;241m4\u001b[39m]\u001b[38;5;241m.\u001b[39mremove(\u001b[38;5;124m'\u001b[39m\u001b[38;5;124mBanana\u001b[39m\u001b[38;5;124m'\u001b[39m)\n",
      "\u001b[1;31mAttributeError\u001b[0m: 'str' object has no attribute 'remove'"
     ]
    }
   ],
   "source": [
    "favourite_fruits[4].remove('Banana')"
   ]
  },
  {
   "cell_type": "code",
   "execution_count": null,
   "id": "b08b8ad8-7bb9-4660-a0c8-aa77f010ac4a",
   "metadata": {},
   "outputs": [],
   "source": [
    "print(favourite_fruits)"
   ]
  },
  {
   "cell_type": "code",
   "execution_count": 25,
   "id": "a2fe878c-3517-4d57-ac33-ebb0285b5f4d",
   "metadata": {},
   "outputs": [],
   "source": [
    "favourite_fruits.clear()"
   ]
  },
  {
   "cell_type": "code",
   "execution_count": 27,
   "id": "bf58e62e-c637-4d0d-b331-92d86e12bb80",
   "metadata": {},
   "outputs": [
    {
     "name": "stdout",
     "output_type": "stream",
     "text": [
      "[]\n"
     ]
    }
   ],
   "source": [
    "print(favourite_fruits)"
   ]
  },
  {
   "cell_type": "code",
   "execution_count": 29,
   "id": "426de742-d4ae-40a6-89a2-ec9edbfd4ff1",
   "metadata": {},
   "outputs": [
    {
     "ename": "NameError",
     "evalue": "name 'favourite_fruits' is not defined",
     "output_type": "error",
     "traceback": [
      "\u001b[1;31m---------------------------------------------------------------------------\u001b[0m",
      "\u001b[1;31mNameError\u001b[0m                                 Traceback (most recent call last)",
      "Cell \u001b[1;32mIn[29], line 2\u001b[0m\n\u001b[0;32m      1\u001b[0m \u001b[38;5;28;01mdel\u001b[39;00m favourite_fruits\n\u001b[1;32m----> 2\u001b[0m \u001b[38;5;28mprint\u001b[39m(favourite_fruits)\n",
      "\u001b[1;31mNameError\u001b[0m: name 'favourite_fruits' is not defined"
     ]
    }
   ],
   "source": [
    "del favourite_fruits\n",
    "print(favourite_fruits)"
   ]
  },
  {
   "cell_type": "code",
   "execution_count": 31,
   "id": "b1f5bcc3-2d58-44ff-b59b-57409f7e2b6f",
   "metadata": {},
   "outputs": [
    {
     "ename": "NameError",
     "evalue": "name 'favourite_fruits' is not defined",
     "output_type": "error",
     "traceback": [
      "\u001b[1;31m---------------------------------------------------------------------------\u001b[0m",
      "\u001b[1;31mNameError\u001b[0m                                 Traceback (most recent call last)",
      "Cell \u001b[1;32mIn[31], line 1\u001b[0m\n\u001b[1;32m----> 1\u001b[0m \u001b[38;5;28mprint\u001b[39m(favourite_fruits)\n",
      "\u001b[1;31mNameError\u001b[0m: name 'favourite_fruits' is not defined"
     ]
    }
   ],
   "source": [
    "print(favourite_fruits)"
   ]
  },
  {
   "cell_type": "code",
   "execution_count": 33,
   "id": "7314f5f9-e171-4013-8039-4fae6108bca5",
   "metadata": {},
   "outputs": [
    {
     "ename": "NameError",
     "evalue": "name 'favourite_fruits' is not defined",
     "output_type": "error",
     "traceback": [
      "\u001b[1;31m---------------------------------------------------------------------------\u001b[0m",
      "\u001b[1;31mNameError\u001b[0m                                 Traceback (most recent call last)",
      "Cell \u001b[1;32mIn[33], line 2\u001b[0m\n\u001b[0;32m      1\u001b[0m \u001b[38;5;66;03m# membership operator\u001b[39;00m\n\u001b[1;32m----> 2\u001b[0m \u001b[38;5;124m'\u001b[39m\u001b[38;5;124mkiwi\u001b[39m\u001b[38;5;124m'\u001b[39m \u001b[38;5;129;01min\u001b[39;00m favourite_fruits\n",
      "\u001b[1;31mNameError\u001b[0m: name 'favourite_fruits' is not defined"
     ]
    }
   ],
   "source": [
    "# membership operator\n",
    "'kiwi' in favourite_fruits"
   ]
  },
  {
   "cell_type": "code",
   "execution_count": 35,
   "id": "3390cd12-4357-4d56-828e-73812bb4cc92",
   "metadata": {},
   "outputs": [
    {
     "ename": "NameError",
     "evalue": "name 'favourite_fruits' is not defined",
     "output_type": "error",
     "traceback": [
      "\u001b[1;31m---------------------------------------------------------------------------\u001b[0m",
      "\u001b[1;31mNameError\u001b[0m                                 Traceback (most recent call last)",
      "Cell \u001b[1;32mIn[35], line 1\u001b[0m\n\u001b[1;32m----> 1\u001b[0m \u001b[38;5;124m'\u001b[39m\u001b[38;5;124mBanana\u001b[39m\u001b[38;5;124m'\u001b[39m \u001b[38;5;129;01min\u001b[39;00m favourite_fruits\n",
      "\u001b[1;31mNameError\u001b[0m: name 'favourite_fruits' is not defined"
     ]
    }
   ],
   "source": [
    "'Banana' in favourite_fruits"
   ]
  },
  {
   "cell_type": "code",
   "execution_count": 37,
   "id": "aab84f23-c41c-478a-a566-c9d0b41dc41b",
   "metadata": {},
   "outputs": [
    {
     "ename": "NameError",
     "evalue": "name 'favourite_fruits' is not defined",
     "output_type": "error",
     "traceback": [
      "\u001b[1;31m---------------------------------------------------------------------------\u001b[0m",
      "\u001b[1;31mNameError\u001b[0m                                 Traceback (most recent call last)",
      "Cell \u001b[1;32mIn[37], line 1\u001b[0m\n\u001b[1;32m----> 1\u001b[0m \u001b[38;5;124m'\u001b[39m\u001b[38;5;124mBanana\u001b[39m\u001b[38;5;124m'\u001b[39m \u001b[38;5;129;01min\u001b[39;00m favourite_fruits[\u001b[38;5;241m5\u001b[39m]\n",
      "\u001b[1;31mNameError\u001b[0m: name 'favourite_fruits' is not defined"
     ]
    }
   ],
   "source": [
    "'Banana' in favourite_fruits[5]"
   ]
  },
  {
   "cell_type": "code",
   "execution_count": 39,
   "id": "f608ce25-a706-46b8-8fab-0243819d9166",
   "metadata": {},
   "outputs": [],
   "source": [
    "#mutable means changable/editable while immutable means not changable\n",
    "#tuple\n",
    "#() is the symbol"
   ]
  },
  {
   "cell_type": "code",
   "execution_count": 41,
   "id": "d7b8466c-2d27-4300-b8b4-7b40ad648c5f",
   "metadata": {},
   "outputs": [
    {
     "name": "stdout",
     "output_type": "stream",
     "text": [
      "(1, 2, 3, 4, 5, 6, 7, 8, 9)\n"
     ]
    }
   ],
   "source": [
    "numbers = (1,2,3,4,5,6,7,8,9)\n",
    "print(numbers)"
   ]
  },
  {
   "cell_type": "code",
   "execution_count": 43,
   "id": "18952e06-d0c0-4b4f-b49b-db8d63b0d886",
   "metadata": {},
   "outputs": [
    {
     "name": "stdout",
     "output_type": "stream",
     "text": [
      "<class 'tuple'>\n"
     ]
    }
   ],
   "source": [
    "print(type(numbers))"
   ]
  },
  {
   "cell_type": "code",
   "execution_count": 45,
   "id": "50704800-b63c-48c2-a754-d30b919441f6",
   "metadata": {},
   "outputs": [],
   "source": [
    "odd_num = (1,3,5,7,9,11,13,15)"
   ]
  },
  {
   "cell_type": "code",
   "execution_count": 47,
   "id": "a0ad6f66-e21f-4858-8231-10d1ff7bf55b",
   "metadata": {},
   "outputs": [
    {
     "name": "stdout",
     "output_type": "stream",
     "text": [
      "(1, 3, 5, 7, 9, 11, 13, 15)\n"
     ]
    }
   ],
   "source": [
    "print(odd_num)"
   ]
  },
  {
   "cell_type": "code",
   "execution_count": 49,
   "id": "8e03a259-272d-4f9d-b71a-60ec8e7577fa",
   "metadata": {},
   "outputs": [
    {
     "name": "stdout",
     "output_type": "stream",
     "text": [
      "<class 'tuple'>\n"
     ]
    }
   ],
   "source": [
    "print(type(odd_num))"
   ]
  },
  {
   "cell_type": "code",
   "execution_count": 51,
   "id": "1fc20cbe-ee4f-4efc-97a0-6286b56bd5cb",
   "metadata": {},
   "outputs": [],
   "source": [
    "#indexing always comes in []"
   ]
  },
  {
   "cell_type": "code",
   "execution_count": 53,
   "id": "33cfa2f3-a79c-4303-a7c4-e9915050c8d4",
   "metadata": {},
   "outputs": [
    {
     "data": {
      "text/plain": [
       "3"
      ]
     },
     "execution_count": 53,
     "metadata": {},
     "output_type": "execute_result"
    }
   ],
   "source": [
    "numbers[2]"
   ]
  },
  {
   "cell_type": "code",
   "execution_count": 55,
   "id": "fe584ae7-afb1-4952-a6c8-60c995d57645",
   "metadata": {},
   "outputs": [],
   "source": [
    "#tuple is unchangable data type , no append no insert not anything like that because immutable"
   ]
  },
  {
   "cell_type": "code",
   "execution_count": 57,
   "id": "99af2e5c-a2fe-40bf-bfbc-83e35f3edc64",
   "metadata": {},
   "outputs": [
    {
     "ename": "AttributeError",
     "evalue": "'tuple' object has no attribute 'append'",
     "output_type": "error",
     "traceback": [
      "\u001b[1;31m---------------------------------------------------------------------------\u001b[0m",
      "\u001b[1;31mAttributeError\u001b[0m                            Traceback (most recent call last)",
      "Cell \u001b[1;32mIn[57], line 1\u001b[0m\n\u001b[1;32m----> 1\u001b[0m numbers\u001b[38;5;241m.\u001b[39mappend()\n",
      "\u001b[1;31mAttributeError\u001b[0m: 'tuple' object has no attribute 'append'"
     ]
    }
   ],
   "source": [
    "numbers.append()"
   ]
  },
  {
   "cell_type": "code",
   "execution_count": 59,
   "id": "b929200f-968a-462e-b27f-4bbb9efd9a5b",
   "metadata": {},
   "outputs": [
    {
     "data": {
      "text/plain": [
       "1"
      ]
     },
     "execution_count": 59,
     "metadata": {},
     "output_type": "execute_result"
    }
   ],
   "source": [
    "numbers.count(2)"
   ]
  },
  {
   "cell_type": "code",
   "execution_count": 61,
   "id": "558a00db-1ed8-4e37-8375-3d37860fc261",
   "metadata": {},
   "outputs": [],
   "source": [
    "#This concept is concatenation , not addition because nothing is added"
   ]
  },
  {
   "cell_type": "code",
   "execution_count": 63,
   "id": "e1752f79-f336-466b-b1f5-461bd911e81a",
   "metadata": {},
   "outputs": [],
   "source": [
    "numbers_2 = (10,11,12,13,14,15,16,17,18)"
   ]
  },
  {
   "cell_type": "code",
   "execution_count": 65,
   "id": "619e1e63-8c08-4379-8fd5-29145f266b60",
   "metadata": {},
   "outputs": [],
   "source": [
    "number_list = numbers+numbers_2"
   ]
  },
  {
   "cell_type": "code",
   "execution_count": 67,
   "id": "9f29283c-0a39-4e08-8c94-d643231fa177",
   "metadata": {},
   "outputs": [
    {
     "name": "stdout",
     "output_type": "stream",
     "text": [
      "(1, 2, 3, 4, 5, 6, 7, 8, 9, 10, 11, 12, 13, 14, 15, 16, 17, 18)\n"
     ]
    }
   ],
   "source": [
    "print(number_list)"
   ]
  },
  {
   "cell_type": "code",
   "execution_count": 69,
   "id": "51008289-4119-4623-83d0-f057a0d114ea",
   "metadata": {},
   "outputs": [
    {
     "data": {
      "text/plain": [
       "(10,\n",
       " 11,\n",
       " 12,\n",
       " 13,\n",
       " 14,\n",
       " 15,\n",
       " 16,\n",
       " 17,\n",
       " 18,\n",
       " 10,\n",
       " 11,\n",
       " 12,\n",
       " 13,\n",
       " 14,\n",
       " 15,\n",
       " 16,\n",
       " 17,\n",
       " 18,\n",
       " 10,\n",
       " 11,\n",
       " 12,\n",
       " 13,\n",
       " 14,\n",
       " 15,\n",
       " 16,\n",
       " 17,\n",
       " 18)"
      ]
     },
     "execution_count": 69,
     "metadata": {},
     "output_type": "execute_result"
    }
   ],
   "source": [
    "numbers_2*3"
   ]
  },
  {
   "cell_type": "code",
   "execution_count": 71,
   "id": "4b4b585a-edf7-41ee-a231-5b789534bac8",
   "metadata": {},
   "outputs": [
    {
     "data": {
      "text/plain": [
       "8"
      ]
     },
     "execution_count": 71,
     "metadata": {},
     "output_type": "execute_result"
    }
   ],
   "source": [
    "3+5"
   ]
  },
  {
   "cell_type": "code",
   "execution_count": 73,
   "id": "685249eb-50e3-4419-96e3-ad5d4b03a833",
   "metadata": {},
   "outputs": [
    {
     "data": {
      "text/plain": [
       "'35'"
      ]
     },
     "execution_count": 73,
     "metadata": {},
     "output_type": "execute_result"
    }
   ],
   "source": [
    "'3'+'5'"
   ]
  },
  {
   "cell_type": "code",
   "execution_count": 75,
   "id": "cff06ebf-cbaf-402e-8666-c4e8ab44c4bd",
   "metadata": {},
   "outputs": [
    {
     "ename": "TypeError",
     "evalue": "unsupported operand type(s) for -: 'tuple' and 'tuple'",
     "output_type": "error",
     "traceback": [
      "\u001b[1;31m---------------------------------------------------------------------------\u001b[0m",
      "\u001b[1;31mTypeError\u001b[0m                                 Traceback (most recent call last)",
      "Cell \u001b[1;32mIn[75], line 1\u001b[0m\n\u001b[1;32m----> 1\u001b[0m number_list\u001b[38;5;241m-\u001b[39mnumbers\n",
      "\u001b[1;31mTypeError\u001b[0m: unsupported operand type(s) for -: 'tuple' and 'tuple'"
     ]
    }
   ],
   "source": [
    "number_list-numbers"
   ]
  },
  {
   "cell_type": "code",
   "execution_count": 77,
   "id": "578de383-9fd2-422b-9354-ddc574840bd5",
   "metadata": {},
   "outputs": [
    {
     "ename": "TypeError",
     "evalue": "unsupported operand type(s) for /: 'tuple' and 'tuple'",
     "output_type": "error",
     "traceback": [
      "\u001b[1;31m---------------------------------------------------------------------------\u001b[0m",
      "\u001b[1;31mTypeError\u001b[0m                                 Traceback (most recent call last)",
      "Cell \u001b[1;32mIn[77], line 1\u001b[0m\n\u001b[1;32m----> 1\u001b[0m number_list\u001b[38;5;241m/\u001b[39mnumbers\n",
      "\u001b[1;31mTypeError\u001b[0m: unsupported operand type(s) for /: 'tuple' and 'tuple'"
     ]
    }
   ],
   "source": [
    "number_list/numbers"
   ]
  },
  {
   "cell_type": "code",
   "execution_count": 79,
   "id": "36f0c503-180c-4e7c-97d0-ac39d5738797",
   "metadata": {},
   "outputs": [
    {
     "data": {
      "text/plain": [
       "(1, 2, 3, 4, 5, 6, 7, 8, 9, 10, 11, 12, 13, 14, 15, 16, 17, 18)"
      ]
     },
     "execution_count": 79,
     "metadata": {},
     "output_type": "execute_result"
    }
   ],
   "source": [
    "numbers+numbers_2"
   ]
  },
  {
   "cell_type": "code",
   "execution_count": 81,
   "id": "c75cae91-bf05-4a87-a9bf-8526fec5ba31",
   "metadata": {},
   "outputs": [],
   "source": [
    "# index concept basically looks for element and gives the index of that element in tuple"
   ]
  },
  {
   "cell_type": "code",
   "execution_count": 83,
   "id": "1b78250d-87b7-46a9-8fef-6f52c619fcb7",
   "metadata": {},
   "outputs": [
    {
     "data": {
      "text/plain": [
       "12"
      ]
     },
     "execution_count": 83,
     "metadata": {},
     "output_type": "execute_result"
    }
   ],
   "source": [
    "number_list.index(13)"
   ]
  },
  {
   "cell_type": "code",
   "execution_count": 85,
   "id": "77c9c619-1608-4927-bac2-4d2b4be4d937",
   "metadata": {},
   "outputs": [
    {
     "data": {
      "text/plain": [
       "<function tuple.index(value, start=0, stop=9223372036854775807, /)>"
      ]
     },
     "execution_count": 85,
     "metadata": {},
     "output_type": "execute_result"
    }
   ],
   "source": [
    "number_list.index"
   ]
  },
  {
   "cell_type": "code",
   "execution_count": 87,
   "id": "f88cf126-c1a8-4661-97cf-0c98af51a2e7",
   "metadata": {},
   "outputs": [
    {
     "ename": "TypeError",
     "evalue": "index expected at least 1 argument, got 0",
     "output_type": "error",
     "traceback": [
      "\u001b[1;31m---------------------------------------------------------------------------\u001b[0m",
      "\u001b[1;31mTypeError\u001b[0m                                 Traceback (most recent call last)",
      "Cell \u001b[1;32mIn[87], line 1\u001b[0m\n\u001b[1;32m----> 1\u001b[0m number_list\u001b[38;5;241m.\u001b[39mindex()\n",
      "\u001b[1;31mTypeError\u001b[0m: index expected at least 1 argument, got 0"
     ]
    }
   ],
   "source": [
    "number_list.index()"
   ]
  },
  {
   "cell_type": "code",
   "execution_count": 89,
   "id": "f58afce2-dcf2-4c8f-a951-7dcb5b31d306",
   "metadata": {},
   "outputs": [],
   "source": [
    "fruits = ('Mango','Banana','Apple','Kiwi','Orange','Kiwi')"
   ]
  },
  {
   "cell_type": "code",
   "execution_count": 91,
   "id": "681a82d7-ed38-490c-bcc0-50d1217cbe29",
   "metadata": {},
   "outputs": [
    {
     "data": {
      "text/plain": [
       "1"
      ]
     },
     "execution_count": 91,
     "metadata": {},
     "output_type": "execute_result"
    }
   ],
   "source": [
    "fruits.count('Banana')"
   ]
  },
  {
   "cell_type": "code",
   "execution_count": 93,
   "id": "e0a136f2-0a48-46ef-a7c7-873d6e13b6cd",
   "metadata": {},
   "outputs": [],
   "source": [
    "# index gives the index value of firstly found element"
   ]
  },
  {
   "cell_type": "code",
   "execution_count": 95,
   "id": "1a8eb53f-234c-4324-89db-81e4edfbf879",
   "metadata": {},
   "outputs": [
    {
     "data": {
      "text/plain": [
       "3"
      ]
     },
     "execution_count": 95,
     "metadata": {},
     "output_type": "execute_result"
    }
   ],
   "source": [
    "fruits.index('Kiwi')"
   ]
  },
  {
   "cell_type": "code",
   "execution_count": 97,
   "id": "f4fea01c-c86b-43ac-8868-abb7433041ed",
   "metadata": {},
   "outputs": [],
   "source": [
    "# this is also index but in above index working as a method"
   ]
  },
  {
   "cell_type": "code",
   "execution_count": 99,
   "id": "43d369d0-957c-4c6c-a581-ea43e3764d44",
   "metadata": {},
   "outputs": [
    {
     "data": {
      "text/plain": [
       "'Kiwi'"
      ]
     },
     "execution_count": 99,
     "metadata": {},
     "output_type": "execute_result"
    }
   ],
   "source": [
    "fruits[5]"
   ]
  },
  {
   "cell_type": "code",
   "execution_count": 101,
   "id": "d3c97d1c-f508-42d9-83c4-27cb662db09c",
   "metadata": {},
   "outputs": [],
   "source": [
    "# appending tuple in list"
   ]
  },
  {
   "cell_type": "code",
   "execution_count": 103,
   "id": "c9769b24-0c81-4548-a10a-7bc11e171ace",
   "metadata": {},
   "outputs": [
    {
     "ename": "NameError",
     "evalue": "name 'favourite_fruits' is not defined",
     "output_type": "error",
     "traceback": [
      "\u001b[1;31m---------------------------------------------------------------------------\u001b[0m",
      "\u001b[1;31mNameError\u001b[0m                                 Traceback (most recent call last)",
      "Cell \u001b[1;32mIn[103], line 1\u001b[0m\n\u001b[1;32m----> 1\u001b[0m favourite_fruits\u001b[38;5;241m.\u001b[39mappend(number_list)\n",
      "\u001b[1;31mNameError\u001b[0m: name 'favourite_fruits' is not defined"
     ]
    }
   ],
   "source": [
    "favourite_fruits.append(number_list)"
   ]
  },
  {
   "cell_type": "code",
   "execution_count": 105,
   "id": "0690a46a-b132-4ec1-933a-315bef999574",
   "metadata": {},
   "outputs": [
    {
     "ename": "NameError",
     "evalue": "name 'favourite_fruits' is not defined",
     "output_type": "error",
     "traceback": [
      "\u001b[1;31m---------------------------------------------------------------------------\u001b[0m",
      "\u001b[1;31mNameError\u001b[0m                                 Traceback (most recent call last)",
      "Cell \u001b[1;32mIn[105], line 1\u001b[0m\n\u001b[1;32m----> 1\u001b[0m \u001b[38;5;28mprint\u001b[39m(favourite_fruits)\n",
      "\u001b[1;31mNameError\u001b[0m: name 'favourite_fruits' is not defined"
     ]
    }
   ],
   "source": [
    "print(favourite_fruits)"
   ]
  },
  {
   "cell_type": "code",
   "execution_count": 107,
   "id": "02d5468a-7bbc-4212-b89d-e47f8eeeb3cf",
   "metadata": {},
   "outputs": [
    {
     "ename": "NameError",
     "evalue": "name 'favourite_fruits' is not defined",
     "output_type": "error",
     "traceback": [
      "\u001b[1;31m---------------------------------------------------------------------------\u001b[0m",
      "\u001b[1;31mNameError\u001b[0m                                 Traceback (most recent call last)",
      "Cell \u001b[1;32mIn[107], line 1\u001b[0m\n\u001b[1;32m----> 1\u001b[0m favourite_fruits\u001b[38;5;241m.\u001b[39mpop(\u001b[38;5;241m6\u001b[39m)\n",
      "\u001b[1;31mNameError\u001b[0m: name 'favourite_fruits' is not defined"
     ]
    }
   ],
   "source": [
    "favourite_fruits.pop(6)"
   ]
  },
  {
   "cell_type": "code",
   "execution_count": 109,
   "id": "58b6d199-d676-4c52-84e8-7a4b8ffab213",
   "metadata": {},
   "outputs": [
    {
     "ename": "NameError",
     "evalue": "name 'favourite_fruits' is not defined",
     "output_type": "error",
     "traceback": [
      "\u001b[1;31m---------------------------------------------------------------------------\u001b[0m",
      "\u001b[1;31mNameError\u001b[0m                                 Traceback (most recent call last)",
      "Cell \u001b[1;32mIn[109], line 1\u001b[0m\n\u001b[1;32m----> 1\u001b[0m \u001b[38;5;28mprint\u001b[39m(favourite_fruits)\n",
      "\u001b[1;31mNameError\u001b[0m: name 'favourite_fruits' is not defined"
     ]
    }
   ],
   "source": [
    "print(favourite_fruits)"
   ]
  },
  {
   "cell_type": "code",
   "execution_count": 111,
   "id": "7e58157c-083d-4388-b529-874ea21db3f3",
   "metadata": {},
   "outputs": [],
   "source": [
    "# cannot concatenates list and tuple"
   ]
  },
  {
   "cell_type": "code",
   "execution_count": 113,
   "id": "e13b6a9a-f5d1-4581-8781-245a706d9635",
   "metadata": {},
   "outputs": [
    {
     "ename": "NameError",
     "evalue": "name 'favourite_fruits' is not defined",
     "output_type": "error",
     "traceback": [
      "\u001b[1;31m---------------------------------------------------------------------------\u001b[0m",
      "\u001b[1;31mNameError\u001b[0m                                 Traceback (most recent call last)",
      "Cell \u001b[1;32mIn[113], line 1\u001b[0m\n\u001b[1;32m----> 1\u001b[0m fruitsss\u001b[38;5;241m=\u001b[39mfruits\u001b[38;5;241m+\u001b[39mfavourite_fruits\n\u001b[0;32m      2\u001b[0m \u001b[38;5;28mprint\u001b[39m(fruitsss)\n",
      "\u001b[1;31mNameError\u001b[0m: name 'favourite_fruits' is not defined"
     ]
    }
   ],
   "source": [
    "fruitsss=fruits+favourite_fruits\n",
    "print(fruitsss)"
   ]
  },
  {
   "cell_type": "code",
   "execution_count": 115,
   "id": "fe8b1007-3683-4c99-af75-5d2d426a84de",
   "metadata": {},
   "outputs": [
    {
     "name": "stdout",
     "output_type": "stream",
     "text": [
      "(1, 2, 3, 4, 5, 6, 7, 8, 9, 10, 11, 12, 13, 14, 15, 16, 17, 18)\n"
     ]
    }
   ],
   "source": [
    "print(number_list)"
   ]
  },
  {
   "cell_type": "code",
   "execution_count": 117,
   "id": "505b07d3-7bc5-4af8-9c06-2f2c7c76a3c6",
   "metadata": {},
   "outputs": [
    {
     "data": {
      "text/plain": [
       "18"
      ]
     },
     "execution_count": 117,
     "metadata": {},
     "output_type": "execute_result"
    }
   ],
   "source": [
    "max(number_list)"
   ]
  },
  {
   "cell_type": "code",
   "execution_count": 119,
   "id": "996d1e95-2d8d-48cc-98a7-878d48559cd6",
   "metadata": {},
   "outputs": [
    {
     "data": {
      "text/plain": [
       "1"
      ]
     },
     "execution_count": 119,
     "metadata": {},
     "output_type": "execute_result"
    }
   ],
   "source": [
    "min(number_list)"
   ]
  },
  {
   "cell_type": "code",
   "execution_count": 121,
   "id": "97788b6b-8567-4c31-810b-489cbc5f1a3f",
   "metadata": {},
   "outputs": [
    {
     "data": {
      "text/plain": [
       "[1, 2, 3, 4, 5, 6, 7, 8, 9, 10, 11, 12, 13, 14, 15, 16, 17, 18]"
      ]
     },
     "execution_count": 121,
     "metadata": {},
     "output_type": "execute_result"
    }
   ],
   "source": [
    "sorted(number_list)"
   ]
  },
  {
   "cell_type": "code",
   "execution_count": 123,
   "id": "0f255739-bb16-4069-bd78-19968ec6c4a5",
   "metadata": {},
   "outputs": [
    {
     "data": {
      "text/plain": [
       "[18, 17, 16, 15, 14, 13, 12, 11, 10, 9, 8, 7, 6, 5, 4, 3, 2, 1]"
      ]
     },
     "execution_count": 123,
     "metadata": {},
     "output_type": "execute_result"
    }
   ],
   "source": [
    "sorted(number_list , reverse = True)"
   ]
  },
  {
   "cell_type": "code",
   "execution_count": 125,
   "id": "61ffb0ce-6eac-40fa-9039-56362336fb58",
   "metadata": {},
   "outputs": [],
   "source": [
    "# declaring all variables in single line and iinitializing them"
   ]
  },
  {
   "cell_type": "code",
   "execution_count": 127,
   "id": "29e3e82f-ee10-4df0-9db2-897171f4f3c2",
   "metadata": {},
   "outputs": [
    {
     "name": "stdout",
     "output_type": "stream",
     "text": [
      "6 67 45\n"
     ]
    }
   ],
   "source": [
    "num1,num2,num3 = 6,67,45\n",
    "print(num1,num2,num3)"
   ]
  },
  {
   "cell_type": "code",
   "execution_count": 129,
   "id": "d1c69a40-8720-4e3e-a84c-3ede4e9f6ebc",
   "metadata": {},
   "outputs": [],
   "source": [
    "# unpacking of element of a tuple, number of elementss on both sides should be same\n",
    "# others is used to store data to avoid both side distribution thats why it is list"
   ]
  },
  {
   "cell_type": "code",
   "execution_count": 131,
   "id": "897d01e6-d643-4067-aa9d-5b29746fd807",
   "metadata": {},
   "outputs": [
    {
     "name": "stdout",
     "output_type": "stream",
     "text": [
      "<class 'int'>\n",
      "6 67 45\n"
     ]
    }
   ],
   "source": [
    "num1,num2,num3 = (6,67,45)\n",
    "print(type(num1))\n",
    "print(num1,num2,num3)"
   ]
  },
  {
   "cell_type": "code",
   "execution_count": 133,
   "id": "c8305be9-e193-4f6a-9abf-787b2919ce0f",
   "metadata": {},
   "outputs": [
    {
     "ename": "ValueError",
     "evalue": "too many values to unpack (expected 2)",
     "output_type": "error",
     "traceback": [
      "\u001b[1;31m---------------------------------------------------------------------------\u001b[0m",
      "\u001b[1;31mValueError\u001b[0m                                Traceback (most recent call last)",
      "Cell \u001b[1;32mIn[133], line 1\u001b[0m\n\u001b[1;32m----> 1\u001b[0m num1,num2 \u001b[38;5;241m=\u001b[39m (\u001b[38;5;241m6\u001b[39m,\u001b[38;5;241m67\u001b[39m,\u001b[38;5;241m45\u001b[39m)\n",
      "\u001b[1;31mValueError\u001b[0m: too many values to unpack (expected 2)"
     ]
    }
   ],
   "source": [
    "num1,num2 = (6,67,45)"
   ]
  },
  {
   "cell_type": "code",
   "execution_count": 135,
   "id": "6956279d-39b4-4ef1-a610-90969de7b14c",
   "metadata": {},
   "outputs": [
    {
     "name": "stdout",
     "output_type": "stream",
     "text": [
      "<class 'list'>\n",
      "[67, 45]\n"
     ]
    }
   ],
   "source": [
    "num1,*others = (6,67,45)\n",
    "print(type(others))\n",
    "print(others)"
   ]
  },
  {
   "cell_type": "code",
   "execution_count": 137,
   "id": "4db0c34e-45d4-4376-a946-c59056411a86",
   "metadata": {},
   "outputs": [
    {
     "data": {
      "text/plain": [
       "list"
      ]
     },
     "execution_count": 137,
     "metadata": {},
     "output_type": "execute_result"
    }
   ],
   "source": [
    "type(list(number_list))"
   ]
  },
  {
   "cell_type": "code",
   "execution_count": 139,
   "id": "fac86943-becc-4ce4-8dee-3c3f1c300f5d",
   "metadata": {},
   "outputs": [
    {
     "data": {
      "text/plain": [
       "(1, 2, 3, 4, 5, 6, 7, 8, 9, 10, 11, 12, 13, 14, 15, 16, 17, 18)"
      ]
     },
     "execution_count": 139,
     "metadata": {},
     "output_type": "execute_result"
    }
   ],
   "source": [
    "number_list"
   ]
  },
  {
   "cell_type": "code",
   "execution_count": 141,
   "id": "ab7a18e2-0f86-48f1-b7c2-3da9a48f7708",
   "metadata": {},
   "outputs": [
    {
     "data": {
      "text/plain": [
       "tuple"
      ]
     },
     "execution_count": 141,
     "metadata": {},
     "output_type": "execute_result"
    }
   ],
   "source": [
    "type(tuple(number_list))"
   ]
  },
  {
   "cell_type": "code",
   "execution_count": 143,
   "id": "f515008d-3068-49c9-b2cd-5e396065a63a",
   "metadata": {},
   "outputs": [
    {
     "data": {
      "text/plain": [
       "tuple"
      ]
     },
     "execution_count": 143,
     "metadata": {},
     "output_type": "execute_result"
    }
   ],
   "source": [
    "type(number_list)"
   ]
  },
  {
   "cell_type": "code",
   "execution_count": 145,
   "id": "e37afc30-6856-4f60-ad76-0e972a2239d2",
   "metadata": {},
   "outputs": [
    {
     "data": {
      "text/plain": [
       "list"
      ]
     },
     "execution_count": 145,
     "metadata": {},
     "output_type": "execute_result"
    }
   ],
   "source": [
    "type(list(number_list))"
   ]
  },
  {
   "cell_type": "code",
   "execution_count": 147,
   "id": "ff48e256-0c3e-4ea6-a8ee-6ee6d0e345cf",
   "metadata": {},
   "outputs": [
    {
     "data": {
      "text/plain": [
       "tuple"
      ]
     },
     "execution_count": 147,
     "metadata": {},
     "output_type": "execute_result"
    }
   ],
   "source": [
    "type(number_list)"
   ]
  },
  {
   "cell_type": "code",
   "execution_count": 153,
   "id": "a7f89a4f-49df-4df6-ad62-60cfa9614b65",
   "metadata": {},
   "outputs": [],
   "source": [
    "names = ('Kamran','Ahmed','Khan','Ali')"
   ]
  },
  {
   "cell_type": "code",
   "execution_count": 155,
   "id": "2adf8164-738f-4853-ba79-f4686aa46875",
   "metadata": {},
   "outputs": [
    {
     "data": {
      "text/plain": [
       "tuple"
      ]
     },
     "execution_count": 155,
     "metadata": {},
     "output_type": "execute_result"
    }
   ],
   "source": [
    "type(names)"
   ]
  },
  {
   "cell_type": "code",
   "execution_count": 157,
   "id": "3a686482-8039-45d2-bfe6-5d800eb086be",
   "metadata": {},
   "outputs": [
    {
     "data": {
      "text/plain": [
       "list"
      ]
     },
     "execution_count": 157,
     "metadata": {},
     "output_type": "execute_result"
    }
   ],
   "source": [
    "type(list(names))"
   ]
  },
  {
   "cell_type": "code",
   "execution_count": 159,
   "id": "78655d8f-4591-4338-8a27-b1b794cc4a1a",
   "metadata": {},
   "outputs": [
    {
     "data": {
      "text/plain": [
       "tuple"
      ]
     },
     "execution_count": 159,
     "metadata": {},
     "output_type": "execute_result"
    }
   ],
   "source": [
    "type(names)"
   ]
  },
  {
   "cell_type": "code",
   "execution_count": null,
   "id": "d44b820f-6d18-43ef-b030-cfb08c489881",
   "metadata": {},
   "outputs": [],
   "source": []
  }
 ],
 "metadata": {
  "kernelspec": {
   "display_name": "Python 3 (ipykernel)",
   "language": "python",
   "name": "python3"
  },
  "language_info": {
   "codemirror_mode": {
    "name": "ipython",
    "version": 3
   },
   "file_extension": ".py",
   "mimetype": "text/x-python",
   "name": "python",
   "nbconvert_exporter": "python",
   "pygments_lexer": "ipython3",
   "version": "3.12.4"
  }
 },
 "nbformat": 4,
 "nbformat_minor": 5
}
