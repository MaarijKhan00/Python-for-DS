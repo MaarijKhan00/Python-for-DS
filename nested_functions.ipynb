{
 "cells": [
  {
   "cell_type": "code",
   "execution_count": 1,
   "id": "f38306e1-b27e-48f5-b373-eda055ae8ce3",
   "metadata": {},
   "outputs": [
    {
     "name": "stdout",
     "output_type": "stream",
     "text": [
      "hello from outer function\n",
      "hello from inner function\n"
     ]
    }
   ],
   "source": [
    "# in nested functions, nested function must be called in parent function:because function calling gives the print value otherwise it will just execute and print nothing\n",
    "def function1():\n",
    "    print('hello from outer function')\n",
    "    def function2():\n",
    "        print('hello from inner function')\n",
    "    function2()\n",
    "function1()"
   ]
  },
  {
   "cell_type": "code",
   "execution_count": 1,
   "id": "d6390010-7de1-4fb0-a87a-9e2537bf6034",
   "metadata": {},
   "outputs": [
    {
     "name": "stdout",
     "output_type": "stream",
     "text": [
      "<function num1.<locals>.num2 at 0x0000028513853920>\n",
      "50\n"
     ]
    }
   ],
   "source": [
    "# argument passing is important as first function argument we stored value in res and in brackets gave value , same for second function we have to give argument in brackets of stored first function value res()\n",
    "def num1(x):\n",
    "    def num2(y):\n",
    "        return x * y\n",
    "    return num2\n",
    "res = num1(10)\n",
    "print(res)\n",
    "print(res(5))"
   ]
  },
  {
   "cell_type": "code",
   "execution_count": 21,
   "id": "772ec6b7-bbef-439b-9ea6-f3075dc2715d",
   "metadata": {},
   "outputs": [
    {
     "ename": "NameError",
     "evalue": "name 'num3' is not defined",
     "output_type": "error",
     "traceback": [
      "\u001b[1;31m---------------------------------------------------------------------------\u001b[0m",
      "\u001b[1;31mNameError\u001b[0m                                 Traceback (most recent call last)",
      "Cell \u001b[1;32mIn[21], line 7\u001b[0m\n\u001b[0;32m      5\u001b[0m         \u001b[38;5;28;01mreturn\u001b[39;00m num2\n\u001b[0;32m      6\u001b[0m     \u001b[38;5;28;01mreturn\u001b[39;00m num3\n\u001b[1;32m----> 7\u001b[0m res \u001b[38;5;241m=\u001b[39m num1(\u001b[38;5;241m2\u001b[39m)\n\u001b[0;32m      8\u001b[0m res1 \u001b[38;5;241m=\u001b[39m res(\u001b[38;5;241m3\u001b[39m)\n\u001b[0;32m      9\u001b[0m \u001b[38;5;28mprint\u001b[39m(res)\n",
      "Cell \u001b[1;32mIn[21], line 6\u001b[0m, in \u001b[0;36mnum1\u001b[1;34m(x)\u001b[0m\n\u001b[0;32m      4\u001b[0m         \u001b[38;5;28;01mreturn\u001b[39;00m x\u001b[38;5;241m*\u001b[39my\u001b[38;5;241m*\u001b[39mz\n\u001b[0;32m      5\u001b[0m     \u001b[38;5;28;01mreturn\u001b[39;00m num2\n\u001b[1;32m----> 6\u001b[0m \u001b[38;5;28;01mreturn\u001b[39;00m num3\n",
      "\u001b[1;31mNameError\u001b[0m: name 'num3' is not defined"
     ]
    }
   ],
   "source": [
    "def num1(x):\n",
    "    def num2(y):\n",
    "        def num3(z):\n",
    "            return x*y*z\n",
    "        return num2\n",
    "    return num3\n",
    "res = num1(2)\n",
    "res1 = res(3)\n",
    "print(res)\n",
    "print(res1(4))"
   ]
  },
  {
   "cell_type": "code",
   "execution_count": 17,
   "id": "84b41ba9-f33c-45a3-8b8a-f9e635e0a1d1",
   "metadata": {},
   "outputs": [
    {
     "name": "stdout",
     "output_type": "stream",
     "text": [
      "<function name1.<locals>.name2 at 0x0000028514FF7C40>\n",
      "MNihalIqbal\n"
     ]
    }
   ],
   "source": [
    "def name1(x):\n",
    "  def name2(y):\n",
    "    def name3(z):\n",
    "      return x+y+z;\n",
    "    return name3;\n",
    "  return name2;   \n",
    "\n",
    "res = name1('M')\n",
    "print(res)\n",
    "res1 = res('Nihal')\n",
    "print(res1(\"Iqbal\"))"
   ]
  },
  {
   "cell_type": "code",
   "execution_count": null,
   "id": "c9a81680-732f-48b0-9a45-90cab164642d",
   "metadata": {},
   "outputs": [],
   "source": []
  }
 ],
 "metadata": {
  "kernelspec": {
   "display_name": "Python 3 (ipykernel)",
   "language": "python",
   "name": "python3"
  },
  "language_info": {
   "codemirror_mode": {
    "name": "ipython",
    "version": 3
   },
   "file_extension": ".py",
   "mimetype": "text/x-python",
   "name": "python",
   "nbconvert_exporter": "python",
   "pygments_lexer": "ipython3",
   "version": "3.12.4"
  }
 },
 "nbformat": 4,
 "nbformat_minor": 5
}
