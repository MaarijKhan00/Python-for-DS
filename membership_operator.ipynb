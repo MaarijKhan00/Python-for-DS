{
 "cells": [
  {
   "cell_type": "code",
   "execution_count": 13,
   "id": "23e0ef82-45fb-41bd-8500-56b62a3d31eb",
   "metadata": {},
   "outputs": [
    {
     "name": "stdin",
     "output_type": "stream",
     "text": [
      "Your full name maarij irfan\n"
     ]
    },
    {
     "name": "stdout",
     "output_type": "stream",
     "text": [
      "True\n",
      "False\n"
     ]
    }
   ],
   "source": [
    "full_name = str(input('Your full name'))\n",
    "print('maarij' in full_name)\n",
    "print('maarij' not in full_name)"
   ]
  },
  {
   "cell_type": "raw",
   "id": "1361089f-0be7-434f-8b7c-f1772d41e543",
   "metadata": {},
   "source": []
  },
  {
   "cell_type": "code",
   "execution_count": 3,
   "id": "1aab2c5e-0d78-474e-af62-400b67943b3b",
   "metadata": {},
   "outputs": [
    {
     "name": "stdout",
     "output_type": "stream",
     "text": [
      "['Arslan', 'Tahir', 'Hamza', 'Bilal', 'Hanzla']\n"
     ]
    }
   ],
   "source": [
    "fellows = ['Arslan','Tahir','Hamza','Bilal','Hanzla']\n",
    "print(fellows)\n"
   ]
  },
  {
   "cell_type": "code",
   "execution_count": 5,
   "id": "c79a37ef-99cd-4d92-988b-9b685435994c",
   "metadata": {},
   "outputs": [
    {
     "name": "stdout",
     "output_type": "stream",
     "text": [
      "['Arslan', 'Tahir', 'Hamza', 'Bilal', 'Hanzla', 'Hanzla']\n"
     ]
    }
   ],
   "source": [
    "fellows.append('Hanzla')\n",
    "print(fellows)"
   ]
  },
  {
   "cell_type": "code",
   "execution_count": 7,
   "id": "43de3e89-498c-41a6-aa49-6e9b4a6d025b",
   "metadata": {},
   "outputs": [
    {
     "name": "stdout",
     "output_type": "stream",
     "text": [
      "3\n"
     ]
    }
   ],
   "source": [
    "fellows.index('Bilal')\n",
    "print(fellows.index('Bilal'))"
   ]
  },
  {
   "cell_type": "code",
   "execution_count": 29,
   "id": "9facea4a-d888-4989-9fbe-fad9789e283a",
   "metadata": {},
   "outputs": [
    {
     "data": {
      "text/plain": [
       "2"
      ]
     },
     "execution_count": 29,
     "metadata": {},
     "output_type": "execute_result"
    }
   ],
   "source": [
    "fellows.count('Hanzla')"
   ]
  },
  {
   "cell_type": "code",
   "execution_count": 33,
   "id": "08551571-c6ae-4db1-aa76-59214d37a770",
   "metadata": {},
   "outputs": [
    {
     "data": {
      "text/plain": [
       "'Bilal'"
      ]
     },
     "execution_count": 33,
     "metadata": {},
     "output_type": "execute_result"
    }
   ],
   "source": [
    "fellows.pop(3)"
   ]
  },
  {
   "cell_type": "code",
   "execution_count": 39,
   "id": "d0bf90e8-7202-4ef2-b5d4-f5c1aba2ae72",
   "metadata": {},
   "outputs": [],
   "source": [
    "fellows.sort()"
   ]
  },
  {
   "cell_type": "code",
   "execution_count": 41,
   "id": "517d19d0-3b4e-462a-8493-f671bf670013",
   "metadata": {},
   "outputs": [
    {
     "data": {
      "text/plain": [
       "['Arslan', 'Hamza', 'Hanzla', 'Hanzla', 'Tahir']"
      ]
     },
     "execution_count": 41,
     "metadata": {},
     "output_type": "execute_result"
    }
   ],
   "source": [
    "fellows"
   ]
  },
  {
   "cell_type": "code",
   "execution_count": 9,
   "id": "00ec5ab4-794e-46f5-a5f8-80cce4c188a0",
   "metadata": {},
   "outputs": [
    {
     "name": "stdout",
     "output_type": "stream",
     "text": [
      "Bilal\n"
     ]
    }
   ],
   "source": [
    "print(fellows[3])"
   ]
  },
  {
   "cell_type": "code",
   "execution_count": 11,
   "id": "50707fe0-9e74-455d-b695-79c7b4046b0f",
   "metadata": {},
   "outputs": [
    {
     "data": {
      "text/plain": [
       "'Arslan'"
      ]
     },
     "execution_count": 11,
     "metadata": {},
     "output_type": "execute_result"
    }
   ],
   "source": [
    "fellows[0]"
   ]
  },
  {
   "cell_type": "markdown",
   "id": "0e9196d9-db9c-42a0-98d7-e907969d859c",
   "metadata": {},
   "source": [
    "inclusive : exclusive"
   ]
  },
  {
   "cell_type": "code",
   "execution_count": 13,
   "id": "50bff865-cd92-49de-92e5-afc5e9e3c76e",
   "metadata": {},
   "outputs": [
    {
     "name": "stdout",
     "output_type": "stream",
     "text": [
      "['Arslan', 'Tahir', 'Hamza', 'Bilal']\n"
     ]
    }
   ],
   "source": [
    "print(fellows[0:4])"
   ]
  },
  {
   "cell_type": "code",
   "execution_count": 17,
   "id": "b7ca1fdb-d0eb-4fea-997a-a11082623ddb",
   "metadata": {},
   "outputs": [
    {
     "name": "stdout",
     "output_type": "stream",
     "text": [
      "['Arslan', 'Tahir', 'Hamza', 'Bilal', 'Hanzla', 'Hanzla']\n"
     ]
    }
   ],
   "source": [
    "print(fellows)"
   ]
  },
  {
   "cell_type": "code",
   "execution_count": 15,
   "id": "2c31d0bd-13a2-4901-92c3-86373562b02f",
   "metadata": {},
   "outputs": [
    {
     "name": "stdout",
     "output_type": "stream",
     "text": [
      "['Tahir', 'Hamza', 'Bilal']\n"
     ]
    }
   ],
   "source": [
    "print(fellows[1:4])"
   ]
  },
  {
   "cell_type": "code",
   "execution_count": 21,
   "id": "994094a6-31f1-4127-9e44-5e795aef9583",
   "metadata": {},
   "outputs": [
    {
     "name": "stdout",
     "output_type": "stream",
     "text": [
      "['Tahir', 'Hamza', 'Bilal', 'Hanzla']\n"
     ]
    }
   ],
   "source": [
    "print(fellows[1:5])"
   ]
  },
  {
   "cell_type": "markdown",
   "id": "0ab31587-036b-4839-a9a1-05d6e07882a1",
   "metadata": {},
   "source": [
    "step"
   ]
  },
  {
   "cell_type": "code",
   "execution_count": 3,
   "id": "a6c9a37e-ea00-486f-a7c9-cee57d95a44d",
   "metadata": {},
   "outputs": [],
   "source": [
    "fruits= ['Mango','Banana','grapes','Avacado','Berry','Apple','Dragon fruit']"
   ]
  },
  {
   "cell_type": "code",
   "execution_count": 5,
   "id": "bd42f13d-665f-4ced-82af-e1aaf83bbc41",
   "metadata": {},
   "outputs": [
    {
     "data": {
      "text/plain": [
       "['Banana', 'Avacado']"
      ]
     },
     "execution_count": 5,
     "metadata": {},
     "output_type": "execute_result"
    }
   ],
   "source": [
    "fruits[1:5:2]"
   ]
  },
  {
   "cell_type": "markdown",
   "id": "bb7da000-19e6-401e-8efd-070d9793b369",
   "metadata": {},
   "source": [
    "negative indexing[-4,-3,-2,-1]"
   ]
  },
  {
   "cell_type": "code",
   "execution_count": 8,
   "id": "c059d940-bdb3-48da-9e9a-d2bced018ffc",
   "metadata": {},
   "outputs": [
    {
     "name": "stdout",
     "output_type": "stream",
     "text": [
      "grapes\n"
     ]
    }
   ],
   "source": [
    "print(fruits[-5])"
   ]
  },
  {
   "cell_type": "code",
   "execution_count": 10,
   "id": "954a79da-9f8e-4416-835e-3531d24f82d2",
   "metadata": {},
   "outputs": [
    {
     "name": "stdout",
     "output_type": "stream",
     "text": [
      "['grapes', 'Avacado', 'Berry', 'Apple']\n"
     ]
    }
   ],
   "source": [
    "print(fruits[-5:-1])"
   ]
  },
  {
   "cell_type": "code",
   "execution_count": 12,
   "id": "56b2d867-1c13-4d48-9a19-d054019eac71",
   "metadata": {},
   "outputs": [
    {
     "name": "stdout",
     "output_type": "stream",
     "text": [
      "['Banana', 'Avacado', 'Apple']\n"
     ]
    }
   ],
   "source": [
    "print(fruits[-6::2])"
   ]
  },
  {
   "cell_type": "markdown",
   "id": "51238b5f-3a4d-4302-b79e-fcd425e3ba10",
   "metadata": {},
   "source": [
    "insert"
   ]
  },
  {
   "cell_type": "code",
   "execution_count": 15,
   "id": "5cf13072-74d2-4fa9-b998-d04e6acd9a94",
   "metadata": {},
   "outputs": [],
   "source": [
    "fruits.insert(1,'Apricot')"
   ]
  },
  {
   "cell_type": "code",
   "execution_count": 17,
   "id": "6540c785-607d-44ea-bcd4-9d1cff95916a",
   "metadata": {},
   "outputs": [
    {
     "name": "stdout",
     "output_type": "stream",
     "text": [
      "['Mango', 'Apricot', 'Banana', 'grapes', 'Avacado', 'Berry', 'Apple', 'Dragon fruit']\n"
     ]
    }
   ],
   "source": [
    "print(fruits)"
   ]
  },
  {
   "cell_type": "code",
   "execution_count": 19,
   "id": "f2d1ff13-f932-4513-aeda-2498da3cb732",
   "metadata": {},
   "outputs": [],
   "source": [
    "fruits.insert(7,'Watermelon')"
   ]
  },
  {
   "cell_type": "code",
   "execution_count": 21,
   "id": "385a1a52-8776-435e-adfe-c59ba604edf4",
   "metadata": {},
   "outputs": [
    {
     "name": "stdout",
     "output_type": "stream",
     "text": [
      "['Mango', 'Apricot', 'Banana', 'grapes', 'Avacado', 'Berry', 'Apple', 'Watermelon', 'Dragon fruit']\n"
     ]
    }
   ],
   "source": [
    "print(fruits)"
   ]
  },
  {
   "cell_type": "markdown",
   "id": "88464576-cb35-4dbf-8dbf-c6847f445432",
   "metadata": {},
   "source": [
    "pop ... removes last element by default having no value, opposite of append and if we give index then deletes indexwise"
   ]
  },
  {
   "cell_type": "code",
   "execution_count": 24,
   "id": "89456564-51bc-4865-820f-64ced261068b",
   "metadata": {},
   "outputs": [
    {
     "data": {
      "text/plain": [
       "'Dragon fruit'"
      ]
     },
     "execution_count": 24,
     "metadata": {},
     "output_type": "execute_result"
    }
   ],
   "source": [
    "fruits.pop()"
   ]
  },
  {
   "cell_type": "code",
   "execution_count": 26,
   "id": "8825c53a-910c-4c28-94ee-0a5cffca66c2",
   "metadata": {},
   "outputs": [
    {
     "name": "stdout",
     "output_type": "stream",
     "text": [
      "['Mango', 'Apricot', 'Banana', 'grapes', 'Avacado', 'Berry', 'Apple', 'Watermelon']\n"
     ]
    }
   ],
   "source": [
    "print(fruits)"
   ]
  },
  {
   "cell_type": "code",
   "execution_count": 28,
   "id": "72714ebb-8c74-4ad8-ba36-e457bdab6f93",
   "metadata": {},
   "outputs": [
    {
     "data": {
      "text/plain": [
       "'Mango'"
      ]
     },
     "execution_count": 28,
     "metadata": {},
     "output_type": "execute_result"
    }
   ],
   "source": [
    "fruits.pop(0)"
   ]
  },
  {
   "cell_type": "code",
   "execution_count": 30,
   "id": "5abdba2a-2e99-46d8-bee8-94032dd36f11",
   "metadata": {},
   "outputs": [
    {
     "name": "stdout",
     "output_type": "stream",
     "text": [
      "['Apricot', 'Banana', 'grapes', 'Avacado', 'Berry', 'Apple', 'Watermelon']\n"
     ]
    }
   ],
   "source": [
    "print(fruits)"
   ]
  },
  {
   "cell_type": "markdown",
   "id": "3ed86526-586c-4eb0-8c17-d2804e03fe9a",
   "metadata": {},
   "source": [
    "remove"
   ]
  },
  {
   "cell_type": "code",
   "execution_count": 33,
   "id": "e88c2489-891d-4cb9-95ab-4c116965d6aa",
   "metadata": {},
   "outputs": [],
   "source": [
    "fruits.remove('grapes')"
   ]
  },
  {
   "cell_type": "code",
   "execution_count": 35,
   "id": "a0fc50f5-9ade-44ac-9dfc-8d9f05d0c7c7",
   "metadata": {},
   "outputs": [
    {
     "name": "stdout",
     "output_type": "stream",
     "text": [
      "['Apricot', 'Banana', 'Avacado', 'Berry', 'Apple', 'Watermelon']\n"
     ]
    }
   ],
   "source": [
    "print(fruits)"
   ]
  },
  {
   "cell_type": "code",
   "execution_count": 37,
   "id": "56afdb2c-a645-4c1a-bc91-a14c9b9d2876",
   "metadata": {},
   "outputs": [
    {
     "ename": "TypeError",
     "evalue": "'str' object cannot be interpreted as an integer",
     "output_type": "error",
     "traceback": [
      "\u001b[1;31m---------------------------------------------------------------------------\u001b[0m",
      "\u001b[1;31mTypeError\u001b[0m                                 Traceback (most recent call last)",
      "Cell \u001b[1;32mIn[37], line 1\u001b[0m\n\u001b[1;32m----> 1\u001b[0m fruits\u001b[38;5;241m.\u001b[39mpop(\u001b[38;5;124m'\u001b[39m\u001b[38;5;124mBerry\u001b[39m\u001b[38;5;124m'\u001b[39m)\n\u001b[0;32m      2\u001b[0m \u001b[38;5;28mprint\u001b[39m(fruits)\n",
      "\u001b[1;31mTypeError\u001b[0m: 'str' object cannot be interpreted as an integer"
     ]
    }
   ],
   "source": [
    "fruits.pop('Berry')\n",
    "print(fruits)"
   ]
  },
  {
   "cell_type": "code",
   "execution_count": 39,
   "id": "acce9f1c-765d-4c10-b298-14021e2467ae",
   "metadata": {},
   "outputs": [
    {
     "data": {
      "text/plain": [
       "['Apricot', 'Banana', 'Avacado', 'Berry', 'Apple']"
      ]
     },
     "execution_count": 39,
     "metadata": {},
     "output_type": "execute_result"
    }
   ],
   "source": [
    "fruits.pop(-1)\n",
    "fruits"
   ]
  },
  {
   "cell_type": "code",
   "execution_count": 41,
   "id": "f6062437-e863-4437-976a-81bf9792ced3",
   "metadata": {},
   "outputs": [],
   "source": [
    "fruits.append('Watermelon')"
   ]
  },
  {
   "cell_type": "code",
   "execution_count": 43,
   "id": "e4936092-bff7-441c-afbd-2d51fb307125",
   "metadata": {},
   "outputs": [
    {
     "data": {
      "text/plain": [
       "['Apricot', 'Banana', 'Avacado', 'Berry', 'Apple', 'Watermelon']"
      ]
     },
     "execution_count": 43,
     "metadata": {},
     "output_type": "execute_result"
    }
   ],
   "source": [
    "fruits"
   ]
  },
  {
   "cell_type": "code",
   "execution_count": 45,
   "id": "6e967d9f-4281-4e8a-8528-480ac306a8cd",
   "metadata": {},
   "outputs": [],
   "source": [
    "summer_fruits = ['melon','mango','kiwi']"
   ]
  },
  {
   "cell_type": "code",
   "execution_count": 47,
   "id": "d58a2a8e-3ad3-4a9f-84b1-440bf7a21c46",
   "metadata": {},
   "outputs": [],
   "source": [
    "fruits.append(summer_fruits)"
   ]
  },
  {
   "cell_type": "code",
   "execution_count": 49,
   "id": "6ac6526c-915e-4aaa-9489-6af9cb3e5252",
   "metadata": {},
   "outputs": [
    {
     "data": {
      "text/plain": [
       "['Apricot',\n",
       " 'Banana',\n",
       " 'Avacado',\n",
       " 'Berry',\n",
       " 'Apple',\n",
       " 'Watermelon',\n",
       " ['melon', 'mango', 'kiwi']]"
      ]
     },
     "execution_count": 49,
     "metadata": {},
     "output_type": "execute_result"
    }
   ],
   "source": [
    "fruits"
   ]
  },
  {
   "cell_type": "code",
   "execution_count": 51,
   "id": "4a9b0737-e375-4c5d-a29b-c2d7a47114e5",
   "metadata": {},
   "outputs": [
    {
     "data": {
      "text/plain": [
       "['melon', 'mango', 'kiwi']"
      ]
     },
     "execution_count": 51,
     "metadata": {},
     "output_type": "execute_result"
    }
   ],
   "source": [
    "fruits[6]"
   ]
  },
  {
   "cell_type": "code",
   "execution_count": 53,
   "id": "11b27eb3-9a88-4f44-937b-2bf42e8964e8",
   "metadata": {},
   "outputs": [
    {
     "data": {
      "text/plain": [
       "['mango', 'kiwi']"
      ]
     },
     "execution_count": 53,
     "metadata": {},
     "output_type": "execute_result"
    }
   ],
   "source": [
    "fruits[6][1:3]"
   ]
  },
  {
   "cell_type": "code",
   "execution_count": 55,
   "id": "5e04025a-28ec-4668-a82f-122936117f56",
   "metadata": {},
   "outputs": [
    {
     "data": {
      "text/plain": [
       "['Apricot',\n",
       " 'Banana',\n",
       " 'Avacado',\n",
       " 'Berry',\n",
       " 'Apple',\n",
       " 'Watermelon',\n",
       " ['melon', 'mango', 'kiwi']]"
      ]
     },
     "execution_count": 55,
     "metadata": {},
     "output_type": "execute_result"
    }
   ],
   "source": [
    "fruits"
   ]
  },
  {
   "cell_type": "code",
   "execution_count": 57,
   "id": "f306dbf6-c793-43e7-ab67-a745714560cf",
   "metadata": {},
   "outputs": [
    {
     "data": {
      "text/plain": [
       "'kiwi'"
      ]
     },
     "execution_count": 57,
     "metadata": {},
     "output_type": "execute_result"
    }
   ],
   "source": [
    "fruits[6][-1]"
   ]
  },
  {
   "cell_type": "code",
   "execution_count": 59,
   "id": "14fbd364-c631-4674-b101-7dce07d4bcff",
   "metadata": {},
   "outputs": [
    {
     "data": {
      "text/plain": [
       "['melon', 'kiwi']"
      ]
     },
     "execution_count": 59,
     "metadata": {},
     "output_type": "execute_result"
    }
   ],
   "source": [
    "fruits[6][0:3:2]"
   ]
  },
  {
   "cell_type": "markdown",
   "id": "f8f687f9-9d8b-48cd-affc-d6eda27b11c9",
   "metadata": {},
   "source": [
    "count always returns occurence of element not the indexing, it only sees how much elements are there in the list"
   ]
  },
  {
   "cell_type": "code",
   "execution_count": 62,
   "id": "050a6ed5-cc37-4c42-8050-4b9d86d2347a",
   "metadata": {},
   "outputs": [
    {
     "data": {
      "text/plain": [
       "1"
      ]
     },
     "execution_count": 62,
     "metadata": {},
     "output_type": "execute_result"
    }
   ],
   "source": [
    "fruits.count('Watermelon')"
   ]
  },
  {
   "cell_type": "code",
   "execution_count": 64,
   "id": "22b9a9ae-9af8-4de4-81ea-5b7016f388e6",
   "metadata": {},
   "outputs": [
    {
     "data": {
      "text/plain": [
       "1"
      ]
     },
     "execution_count": 64,
     "metadata": {},
     "output_type": "execute_result"
    }
   ],
   "source": [
    "fruits[6].count('kiwi')"
   ]
  },
  {
   "cell_type": "markdown",
   "id": "f9f47ca5-c5cf-443e-8cf0-15c0b5368e06",
   "metadata": {},
   "source": [
    "reverse function"
   ]
  },
  {
   "cell_type": "code",
   "execution_count": 67,
   "id": "d0e417fe-d30a-4591-9b15-f3aec2eab555",
   "metadata": {},
   "outputs": [
    {
     "data": {
      "text/plain": [
       "['Apricot',\n",
       " 'Banana',\n",
       " 'Avacado',\n",
       " 'Berry',\n",
       " 'Apple',\n",
       " 'Watermelon',\n",
       " ['melon', 'mango', 'kiwi']]"
      ]
     },
     "execution_count": 67,
     "metadata": {},
     "output_type": "execute_result"
    }
   ],
   "source": [
    "fruits"
   ]
  },
  {
   "cell_type": "code",
   "execution_count": 74,
   "id": "64a16de0-6829-4940-8132-2b99f1feb25b",
   "metadata": {},
   "outputs": [
    {
     "name": "stdout",
     "output_type": "stream",
     "text": [
      "None\n"
     ]
    }
   ],
   "source": [
    "print(fruits.reverse())"
   ]
  },
  {
   "cell_type": "code",
   "execution_count": 76,
   "id": "edde5e4d-3a52-4ef9-9e14-d2f3ceb76316",
   "metadata": {},
   "outputs": [
    {
     "name": "stdout",
     "output_type": "stream",
     "text": [
      "[['melon', 'mango', 'kiwi'], 'Watermelon', 'Apple', 'Berry', 'Avacado', 'Banana', 'Apricot']\n"
     ]
    }
   ],
   "source": [
    "print(fruits)"
   ]
  },
  {
   "cell_type": "code",
   "execution_count": 78,
   "id": "ac33c77b-b078-4b0f-8084-31ac40430f1e",
   "metadata": {},
   "outputs": [
    {
     "data": {
      "text/plain": [
       "['Watermelon', 'Berry', 'Banana']"
      ]
     },
     "execution_count": 78,
     "metadata": {},
     "output_type": "execute_result"
    }
   ],
   "source": [
    "fruits[1::2]"
   ]
  },
  {
   "cell_type": "code",
   "execution_count": null,
   "id": "8aa4e9f5-6bdb-49bd-9909-c285c01b28d8",
   "metadata": {},
   "outputs": [],
   "source": []
  }
 ],
 "metadata": {
  "kernelspec": {
   "display_name": "Python 3 (ipykernel)",
   "language": "python",
   "name": "python3"
  },
  "language_info": {
   "codemirror_mode": {
    "name": "ipython",
    "version": 3
   },
   "file_extension": ".py",
   "mimetype": "text/x-python",
   "name": "python",
   "nbconvert_exporter": "python",
   "pygments_lexer": "ipython3",
   "version": "3.12.4"
  }
 },
 "nbformat": 4,
 "nbformat_minor": 5
}
