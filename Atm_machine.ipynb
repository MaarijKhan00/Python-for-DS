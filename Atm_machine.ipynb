{
 "cells": [
  {
   "cell_type": "code",
   "execution_count": 20,
   "id": "8c5bc8cf-4420-40ae-8bd9-c6a8cb7f642a",
   "metadata": {},
   "outputs": [
    {
     "name": "stdout",
     "output_type": "stream",
     "text": [
      "Welcome to our Atm machine\n"
     ]
    },
    {
     "name": "stdin",
     "output_type": "stream",
     "text": [
      "\n",
      "1.Check Balance\n",
      "2.Deposit Amount\n",
      "3.Withdraw Amount\n",
      "4.Exit\n",
      " 3\n",
      "Enter amount to withdraw: 6000\n"
     ]
    },
    {
     "name": "stdout",
     "output_type": "stream",
     "text": [
      "You do not have enough balance\n"
     ]
    }
   ],
   "source": [
    "# Atm machine\n",
    "balance = 5000\n",
    "print('Welcome to our Atm machine')\n",
    "option = input('''\n",
    "1.Check Balance\n",
    "2.Deposit Amount\n",
    "3.Withdraw Amount\n",
    "4.Exit\n",
    "''')\n",
    "if option == '1':\n",
    "    print('Your current balance is:',balance)\n",
    "elif option == '2':\n",
    "    deposit_amount = float(input('Enter your Amount to deposit:'))\n",
    "    if deposit_amount>0:\n",
    "        balance+=deposit_amount\n",
    "        print('Your new balance is:',balance)\n",
    "    else:\n",
    "        print('Enter valid amount')\n",
    "elif option == '3':\n",
    "    withdraw_amount= float(input('Enter amount to withdraw:'))\n",
    "    if 0>withdraw_amount>balance:\n",
    "        balance-=withdraw_amount\n",
    "        print('Your new amount after withdraw is:',balance)\n",
    "    else :\n",
    "        print('You do not have enough balance')\n",
    "elif option == '4':\n",
    "    print('Thankyou for using our Atm')\n",
    "else:\n",
    "    print('Enter valid option from menu')"
   ]
  },
  {
   "cell_type": "code",
   "execution_count": 1,
   "id": "56ac764b-032d-4b82-8fe8-a5454665df40",
   "metadata": {},
   "outputs": [],
   "source": [
    "i=0\n",
    "while i<10:\n",
    "    i+=1   \n",
    "    if i == 5:\n",
    "        continue\n",
    "        print(i)"
   ]
  },
  {
   "cell_type": "code",
   "execution_count": 5,
   "id": "144f8d60-9766-442a-820b-3789fe24bd09",
   "metadata": {},
   "outputs": [
    {
     "name": "stdout",
     "output_type": "stream",
     "text": [
      "1\n",
      "2\n",
      "3\n",
      "4\n",
      "5\n",
      "6\n",
      "7\n",
      "8\n",
      "9\n",
      "10\n",
      "11\n",
      "12\n",
      "13\n",
      "14\n",
      "15\n",
      "16\n",
      "17\n",
      "18\n",
      "19\n",
      "20\n",
      "21\n",
      "22\n",
      "23\n",
      "24\n",
      "26\n",
      "27\n",
      "28\n",
      "29\n",
      "30\n",
      "31\n",
      "32\n",
      "33\n",
      "34\n",
      "35\n",
      "36\n",
      "37\n",
      "38\n",
      "39\n",
      "40\n",
      "41\n",
      "42\n",
      "43\n",
      "44\n",
      "45\n",
      "46\n",
      "47\n",
      "48\n",
      "49\n",
      "50\n"
     ]
    }
   ],
   "source": [
    "i= 0\n",
    "while i<50:\n",
    "    i+=1\n",
    "    if i==25:\n",
    "        continue\n",
    "    print(i)"
   ]
  },
  {
   "cell_type": "code",
   "execution_count": 21,
   "id": "ccfd53ba-ab3c-4f3d-bd84-725cf3288132",
   "metadata": {},
   "outputs": [
    {
     "name": "stdin",
     "output_type": "stream",
     "text": [
      "Enter Password: p\n"
     ]
    },
    {
     "name": "stdout",
     "output_type": "stream",
     "text": [
      "Enter valid password\n"
     ]
    },
    {
     "name": "stdin",
     "output_type": "stream",
     "text": [
      "Enter Password: python123\n"
     ]
    },
    {
     "name": "stdout",
     "output_type": "stream",
     "text": [
      "Hi Maarij! Welcome\n"
     ]
    }
   ],
   "source": [
    "# password attempts\n",
    "password = 'python123'\n",
    "attempts = 0\n",
    "while attempts <3:\n",
    "    typed = input('Enter Password:')\n",
    "    if typed == password:\n",
    "        print('Hi Maarij! Welcome')\n",
    "        break\n",
    "    else:\n",
    "        attempts+=1\n",
    "        print('Enter valid password')\n",
    "if attempts == 3:\n",
    "    print('Access denied. You have entered invalid Password 3 times')"
   ]
  },
  {
   "cell_type": "code",
   "execution_count": 17,
   "id": "5a22b592-34b7-45dd-b462-333e8351ca7f",
   "metadata": {},
   "outputs": [
    {
     "name": "stdin",
     "output_type": "stream",
     "text": [
      "Enter Your Pin: 1234\n"
     ]
    },
    {
     "name": "stdout",
     "output_type": "stream",
     "text": [
      "Welcome to Atm Machine\n"
     ]
    }
   ],
   "source": [
    "# atm pin\n",
    "pin = 1234\n",
    "attempt = 0\n",
    "while attempt < 3:\n",
    "    ent_pin = int(input('Enter Your Pin:'))\n",
    "    if ent_pin == pin:\n",
    "        print('Welcome to Atm Machine')\n",
    "        break\n",
    "    else :\n",
    "        attempt+=1\n",
    "        print('Your attempt number is:',attempt)\n",
    "if attempt == 3:\n",
    "    print('You have used 3 attempts! Try after 5 minutes')\n",
    "    \n",
    "    "
   ]
  },
  {
   "cell_type": "code",
   "execution_count": 19,
   "id": "88819300-71f6-4e18-b2a5-69e79a96d59c",
   "metadata": {},
   "outputs": [
    {
     "name": "stdin",
     "output_type": "stream",
     "text": [
      "Enter Your countdown time: 6\n"
     ]
    },
    {
     "name": "stdout",
     "output_type": "stream",
     "text": [
      "5\n",
      "4\n",
      "3\n",
      "2\n",
      "1\n",
      "0\n"
     ]
    }
   ],
   "source": [
    "# countdown\n",
    "count_time = int(input('Enter Your countdown time:'))\n",
    "timer= 1\n",
    "while count_time>0:\n",
    "    count_time-=timer\n",
    "    print(count_time)"
   ]
  },
  {
   "cell_type": "code",
   "execution_count": 20,
   "id": "bb9280dc-f7af-47c7-aff0-3267b64cf0ff",
   "metadata": {},
   "outputs": [
    {
     "name": "stdin",
     "output_type": "stream",
     "text": [
      "Enter Your Atm pin 1234\n"
     ]
    },
    {
     "name": "stdout",
     "output_type": "stream",
     "text": [
      "Welcome to Atm machine\n"
     ]
    },
    {
     "name": "stdin",
     "output_type": "stream",
     "text": [
      "\n",
      "        1.Balance Check\n",
      "        2.Deposit Amount\n",
      "        3.Withdraw Amount\n",
      "        4.Exit\n",
      "         4\n"
     ]
    },
    {
     "name": "stdout",
     "output_type": "stream",
     "text": [
      "Thank you for using our Atm\n"
     ]
    }
   ],
   "source": [
    "# atm machine with password restriction\n",
    "passw = 1234\n",
    "balance1=4500\n",
    "trial = 0\n",
    "while trial <3:\n",
    "    # print('Your try number is :',trial)\n",
    "    atm_pin = int(input('Enter Your Atm pin'))\n",
    "    if atm_pin == passw:\n",
    "        print('Welcome to Atm machine')\n",
    "        option = input('''\n",
    "        1.Balance Check\n",
    "        2.Deposit Amount\n",
    "        3.Withdraw Amount\n",
    "        4.Exit\n",
    "        ''')\n",
    "        if option == '1':\n",
    "            print('Your Balance is :',balance1)\n",
    "        elif option == '2':\n",
    "            add_amount = int(input('Enter Amount to deposit:'))\n",
    "            if add_amount>0:\n",
    "                balance1+=add_amount\n",
    "                print('Your new balance is:',balance1)\n",
    "            else:\n",
    "                print('Enter Valid Amount')\n",
    "        elif option == '3':\n",
    "            withdr = int(input('Enter amount to withdraw:'))\n",
    "            if 0<withdr<balance1:\n",
    "                balance1-=withdr\n",
    "                print('Balance after withdraw is :',balance1)\n",
    "            else:\n",
    "                print('You donot have enough amount in your account:',balance1)\n",
    "        elif option == '4':\n",
    "            print('Thank you for using our Atm')\n",
    "        else:\n",
    "            print('Enter valid option')\n",
    "        break\n",
    "    else:\n",
    "        trial+=1\n",
    "if trial == 3:\n",
    "    print('You are restricted to enter pin')"
   ]
  },
  {
   "cell_type": "markdown",
   "id": "5b936eb9-7acc-4c26-8904-8e56450244d5",
   "metadata": {},
   "source": [
    "# "
   ]
  }
 ],
 "metadata": {
  "kernelspec": {
   "display_name": "Python 3 (ipykernel)",
   "language": "python",
   "name": "python3"
  },
  "language_info": {
   "codemirror_mode": {
    "name": "ipython",
    "version": 3
   },
   "file_extension": ".py",
   "mimetype": "text/x-python",
   "name": "python",
   "nbconvert_exporter": "python",
   "pygments_lexer": "ipython3",
   "version": "3.12.4"
  }
 },
 "nbformat": 4,
 "nbformat_minor": 5
}
