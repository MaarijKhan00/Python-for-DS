{
 "cells": [
  {
   "cell_type": "code",
   "execution_count": 7,
   "id": "ebfc2bac-f288-477f-960d-f35ed7341fb8",
   "metadata": {},
   "outputs": [
    {
     "name": "stdout",
     "output_type": "stream",
     "text": [
      "#\n",
      "##\n",
      "###\n",
      "####\n",
      "#####\n",
      "######\n",
      "#######\n"
     ]
    }
   ],
   "source": [
    "# Maarij Irfan\n",
    "#1\n",
    "for i in range(1,8):\n",
    "    for j in range(1,i+1):\n",
    "        print('#',end='')\n",
    "    print()"
   ]
  },
  {
   "cell_type": "code",
   "execution_count": 9,
   "id": "ceb85d06-a3b8-4972-9745-3538fc3efc38",
   "metadata": {},
   "outputs": [
    {
     "name": "stdout",
     "output_type": "stream",
     "text": [
      "########\n",
      "########\n",
      "########\n",
      "########\n",
      "########\n",
      "########\n",
      "########\n",
      "########\n"
     ]
    }
   ],
   "source": [
    "#2\n",
    "for i in range (1,9):\n",
    "    for j in range(1,9):\n",
    "        print('#',end='')\n",
    "    print()"
   ]
  },
  {
   "cell_type": "code",
   "execution_count": 16,
   "id": "b14c84f7-fb2e-4212-a54d-41eda0d9da9a",
   "metadata": {},
   "outputs": [
    {
     "name": "stdout",
     "output_type": "stream",
     "text": [
      "Python\n",
      "Numpy\n",
      "Pandas\n",
      "Django\n",
      "Flask\n"
     ]
    }
   ],
   "source": [
    "#3\n",
    "list1=['Python', 'Numpy','Pandas','Django', 'Flask']\n",
    "for i in list1:\n",
    "    print(i)"
   ]
  },
  {
   "cell_type": "code",
   "execution_count": 28,
   "id": "3b4ee2e0-b50c-49a9-9696-7bab4189fc57",
   "metadata": {},
   "outputs": [
    {
     "name": "stdout",
     "output_type": "stream",
     "text": [
      "Sum of even numbers is: 2550\n",
      "Sum of odd numbers is: 2500\n"
     ]
    }
   ],
   "source": [
    "#4\n",
    "even_sum=0\n",
    "odd_sum=0\n",
    "for i in range(0,101):\n",
    "    if i%2==0:\n",
    "        even_sum+=i\n",
    "    elif i%2!=0:\n",
    "        odd_sum+=i\n",
    "print('Sum of even numbers is:',even_sum)\n",
    "print('Sum of odd numbers is:',odd_sum)"
   ]
  },
  {
   "cell_type": "code",
   "execution_count": 34,
   "id": "13ccbfc0-ec7a-45fe-a353-20eb07f93449",
   "metadata": {},
   "outputs": [
    {
     "name": "stdin",
     "output_type": "stream",
     "text": [
      "Enter number: 6\n"
     ]
    },
    {
     "name": "stdout",
     "output_type": "stream",
     "text": [
      "cube of 0 is 0\n",
      "cube of 1 is 1\n",
      "cube of 2 is 8\n",
      "cube of 3 is 27\n",
      "cube of 4 is 64\n",
      "cube of 5 is 125\n",
      "cube of 6 is 216\n"
     ]
    }
   ],
   "source": [
    "#5\n",
    "nm = int(input('Enter number:'))\n",
    "for i in range(0,nm+1):\n",
    "    cube=i**3\n",
    "    print('cube of',i,'is',cube)"
   ]
  },
  {
   "cell_type": "code",
   "execution_count": 7,
   "id": "b6d58a53-1b43-4fa9-96c4-25c11e7ef804",
   "metadata": {},
   "outputs": [
    {
     "name": "stdin",
     "output_type": "stream",
     "text": [
      "Enter first number: 10\n",
      "Enter second number: 20\n"
     ]
    },
    {
     "data": {
      "text/plain": [
       "30"
      ]
     },
     "execution_count": 7,
     "metadata": {},
     "output_type": "execute_result"
    }
   ],
   "source": [
    "#6\n",
    "def summission():\n",
    "    num1=int(input('Enter first number:'))\n",
    "    num2=int(input('Enter second number:'))\n",
    "    return num1+num2\n",
    "summission()"
   ]
  },
  {
   "cell_type": "code",
   "execution_count": 13,
   "id": "9588ee8b-0298-49e0-89a8-a536b98fb62d",
   "metadata": {},
   "outputs": [
    {
     "name": "stdin",
     "output_type": "stream",
     "text": [
      "Enter radius: 60\n"
     ]
    },
    {
     "data": {
      "text/plain": [
       "7704.0"
      ]
     },
     "execution_count": 13,
     "metadata": {},
     "output_type": "execute_result"
    }
   ],
   "source": [
    "#7\n",
    "def calc():\n",
    "    rad = float(input('Enter radius:'))\n",
    "    area = 2.14*rad**2\n",
    "    return area\n",
    "calc()"
   ]
  },
  {
   "cell_type": "code",
   "execution_count": 3,
   "id": "0391267b-680b-4718-8a29-adc44ae49414",
   "metadata": {},
   "outputs": [
    {
     "name": "stdout",
     "output_type": "stream",
     "text": [
      "Invalid input\n",
      "13\n"
     ]
    }
   ],
   "source": [
    "#8\n",
    "def add_all(*args):\n",
    "    total = 0\n",
    "    for items in args:\n",
    "        if type(items)== float or type(items)== int:\n",
    "            total+=items\n",
    "        else:\n",
    "            print('Invalid input')\n",
    "    return total\n",
    "result = add_all(1,'b',3,4,5)\n",
    "print(result)\n",
    "        "
   ]
  },
  {
   "cell_type": "code",
   "execution_count": 7,
   "id": "fcb696a5-8d4d-4ca8-ab8a-c13206efaaba",
   "metadata": {},
   "outputs": [
    {
     "name": "stdin",
     "output_type": "stream",
     "text": [
      "Enter temp in Celcius: 25\n"
     ]
    },
    {
     "data": {
      "text/plain": [
       "77.0"
      ]
     },
     "execution_count": 7,
     "metadata": {},
     "output_type": "execute_result"
    }
   ],
   "source": [
    "#9\n",
    "def convert():\n",
    "    temp = float(input('Enter temp in Celcius:'))\n",
    "    fahr = (temp*9/5)+32\n",
    "    return fahr\n",
    "convert()"
   ]
  },
  {
   "cell_type": "code",
   "execution_count": 17,
   "id": "0816ec26-5679-4c8e-9be2-907c5e7dcfa0",
   "metadata": {},
   "outputs": [
    {
     "name": "stdin",
     "output_type": "stream",
     "text": [
      "Enter month: july\n"
     ]
    },
    {
     "data": {
      "text/plain": [
       "'Summer'"
      ]
     },
     "execution_count": 17,
     "metadata": {},
     "output_type": "execute_result"
    }
   ],
   "source": [
    "#10\n",
    "def check_season():\n",
    "    month= input('Enter month:').lower()\n",
    "    if month in ['december','january','feburary']:\n",
    "        return 'Winter'\n",
    "    elif month in  ['march','april','may']:\n",
    "        return 'Spring'\n",
    "    elif month in ['june','july','august']:\n",
    "        return 'Summer'\n",
    "    elif month in ['september','october','november']:\n",
    "        return 'Autumn'\n",
    "    else:\n",
    "        return 'Invalid month'\n",
    "\n",
    "check_season()\n"
   ]
  },
  {
   "cell_type": "code",
   "execution_count": 21,
   "id": "7674b713-f23b-4303-a80e-3a7c2ba742e6",
   "metadata": {},
   "outputs": [
    {
     "name": "stdin",
     "output_type": "stream",
     "text": [
      "Enter x1: 20\n",
      "Enter x2: 30\n",
      "Enter y1: 40\n",
      "Enter y2: 50\n"
     ]
    },
    {
     "data": {
      "text/plain": [
       "1.0"
      ]
     },
     "execution_count": 21,
     "metadata": {},
     "output_type": "execute_result"
    }
   ],
   "source": [
    "#11\n",
    "def cal_slope():\n",
    "    x1 = float(input('Enter x1:'))\n",
    "    x2 = float(input('Enter x2:'))\n",
    "    y1 = float(input('Enter y1:'))\n",
    "    y2 = float(input('Enter y2:'))\n",
    "    if x2-x1 == 0:\n",
    "        return 'undefined'\n",
    "    slope = (y2-y1)/(x2-x1)\n",
    "    return slope\n",
    "\n",
    "cal_slope()"
   ]
  },
  {
   "cell_type": "code",
   "execution_count": 33,
   "id": "a11c9f5a-aa94-4687-bd66-3d50b9dade5d",
   "metadata": {},
   "outputs": [
    {
     "name": "stdin",
     "output_type": "stream",
     "text": [
      "Enter the coefficient a:  1\n",
      "Enter the coefficient b:  2\n",
      "Enter the coefficient c:  5\n"
     ]
    },
    {
     "data": {
      "text/plain": [
       "('The equation has two complex roots:', -1.0, '+', 2.0, -1.0, '-', 2.0)"
      ]
     },
     "execution_count": 33,
     "metadata": {},
     "output_type": "execute_result"
    }
   ],
   "source": [
    "#12\n",
    "import math\n",
    "\n",
    "def solve_quadratic_eqn():\n",
    "    a = float(input(\"Enter the coefficient a: \"))\n",
    "    b = float(input(\"Enter the coefficient b: \"))\n",
    "    c = float(input(\"Enter the coefficient c: \"))\n",
    "\n",
    "    discriminant = b**2 - 4*a*c\n",
    "    if discriminant > 0:\n",
    "        root1 = (-b + math.sqrt(discriminant)) / (2 * a)\n",
    "        root2 = (-b - math.sqrt(discriminant)) / (2 * a)\n",
    "        return 'The equation has two real roots:', root1,root2\n",
    "    elif discriminant == 0:\n",
    "        root = -b / (2 * a)\n",
    "        return 'The equation has one real root:', root\n",
    "    else:\n",
    "        real_part = -b / (2 * a)\n",
    "        imaginary_part = math.sqrt(abs(discriminant)) / (2 * a)\n",
    "        return 'The equation has two complex roots:', real_part,'+',imaginary_part,real_part,'-',imaginary_part\n",
    "solve_quadratic_eqn()"
   ]
  },
  {
   "cell_type": "code",
   "execution_count": 37,
   "id": "142bf110-2c8f-43d6-b3d5-312bcf80169b",
   "metadata": {},
   "outputs": [
    {
     "name": "stdout",
     "output_type": "stream",
     "text": [
      "1\n",
      "2\n",
      "3\n",
      "4\n",
      "5\n"
     ]
    }
   ],
   "source": [
    "#13\n",
    "def print_list(list):\n",
    "    for i in list:\n",
    "        print(i)\n",
    "\n",
    "print_list([1,2,3,4,5])"
   ]
  },
  {
   "cell_type": "code",
   "execution_count": 39,
   "id": "f4983759-ad92-4dfb-ab88-3113ca175790",
   "metadata": {},
   "outputs": [
    {
     "name": "stdout",
     "output_type": "stream",
     "text": [
      "[5, 4, 3, 2, 1]\n",
      "['C', 'B', 'A']\n"
     ]
    }
   ],
   "source": [
    "#14\n",
    "def reverse_list(arr):\n",
    "    return sorted(arr,reverse= True)\n",
    "\n",
    "print(reverse_list([1,2,3,4,5]))\n",
    "print(reverse_list(['A','B','C']))"
   ]
  },
  {
   "cell_type": "code",
   "execution_count": 41,
   "id": "4f3677f9-c311-4d4e-804a-d8095698662a",
   "metadata": {},
   "outputs": [
    {
     "data": {
      "text/plain": [
       "('even are:', 3, 'odd are:', 4)"
      ]
     },
     "execution_count": 41,
     "metadata": {},
     "output_type": "execute_result"
    }
   ],
   "source": [
    "#15\n",
    "def evens_odds(numbers):\n",
    "    even=0\n",
    "    odd=0\n",
    "    for i in str(numbers):\n",
    "        if int(i)%2==0:\n",
    "            even+=1\n",
    "        else:\n",
    "            odd+=1\n",
    "    return 'even are:',even,'odd are:',odd\n",
    "evens_odds(1234457)"
   ]
  },
  {
   "cell_type": "code",
   "execution_count": 5,
   "id": "4078748d-d261-4bab-ad97-a97660b6e8be",
   "metadata": {},
   "outputs": [
    {
     "name": "stdout",
     "output_type": "stream",
     "text": [
      "Mean: 5.5\n",
      "Median: 5.5\n",
      "Mode: None\n",
      "Range: 9\n",
      "Variance: 8.25\n",
      "Standard Deviation: 2.8722813232690143\n"
     ]
    }
   ],
   "source": [
    "#16\n",
    "def calculate_mean(numbers):\n",
    "    return sum(numbers) / len(numbers)\n",
    "def calculate_median(numbers):\n",
    "    numbers.sort()\n",
    "    n = len(numbers)\n",
    "    if n % 2 == 0:\n",
    "        return (numbers[n // 2 - 1] + numbers[n // 2]) / 2\n",
    "    else:\n",
    "        return numbers[n // 2]\n",
    "def calculate_mode(lst):\n",
    "    mode = None\n",
    "    max_count = 0\n",
    "    for num in lst:\n",
    "        count = lst.count(num)\n",
    "        if count > max_count:\n",
    "            max_count = count\n",
    "            mode = num\n",
    "        elif count == max_count and num != mode:\n",
    "            mode = None\n",
    "    return mode\n",
    "def calculate_range(numbers):\n",
    "    return max(numbers) - min(numbers)\n",
    "def calculate_variance(numbers):\n",
    "    mean = calculate_mean(numbers)\n",
    "    return sum((x - mean) ** 2 for x in numbers) / len(numbers)\n",
    "def calculate_std(numbers):\n",
    "    variance = calculate_variance(numbers)\n",
    "    return variance ** 0.5\n",
    "numbers = [1, 2, 3, 4, 5, 6, 7, 8, 9, 10]\n",
    "print(\"Mean:\", calculate_mean(numbers))\n",
    "print(\"Median:\", calculate_median(numbers))\n",
    "print(\"Mode:\", calculate_mode(numbers))\n",
    "print(\"Range:\", calculate_range(numbers))\n",
    "print(\"Variance:\", calculate_variance(numbers))\n",
    "print(\"Standard Deviation:\", calculate_std(numbers))"
   ]
  },
  {
   "cell_type": "code",
   "execution_count": 7,
   "id": "332e7c50-4183-4fac-b069-a9ebd7ccb0da",
   "metadata": {},
   "outputs": [
    {
     "name": "stdout",
     "output_type": "stream",
     "text": [
      "All items are unique: True\n",
      "All items are unique: False\n"
     ]
    }
   ],
   "source": [
    "#17\n",
    "def are_items_unique(lst):\n",
    "    return len(lst) == len(set(lst))\n",
    "numbers = [1, 2, 3, 4, 5]\n",
    "print(\"All items are unique:\", are_items_unique(numbers))\n",
    "numbers_with_duplicates = [1, 2, 3, 3, 4, 5]\n",
    "print(\"All items are unique:\", are_items_unique(numbers_with_duplicates))"
   ]
  },
  {
   "cell_type": "code",
   "execution_count": 9,
   "id": "a68c8079-ccfd-4200-8d33-9b9e9012057f",
   "metadata": {},
   "outputs": [
    {
     "name": "stdout",
     "output_type": "stream",
     "text": [
      "All items are of the same data type: True\n",
      "All items are of the same data type: False\n"
     ]
    }
   ],
   "source": [
    "#18\n",
    "def are_items_same_type(lst):\n",
    "    first_item_type = type(lst[0])\n",
    "    for item in lst:\n",
    "        if type(item) != first_item_type:\n",
    "            return False\n",
    "    return True\n",
    "numbers = [1, 2, 3, 4, 5]\n",
    "print(\"All items are of the same data type:\", are_items_same_type(numbers))\n",
    "mixed_list = [1, 2, 'three', 4]\n",
    "print(\"All items are of the same data type:\", are_items_same_type(mixed_list))"
   ]
  },
  {
   "cell_type": "code",
   "execution_count": 11,
   "id": "a3a8a91f-2cd3-46bc-a012-faab645a581f",
   "metadata": {},
   "outputs": [
    {
     "name": "stdout",
     "output_type": "stream",
     "text": [
      "True\n",
      "False\n",
      "False\n",
      "True\n"
     ]
    }
   ],
   "source": [
    "#19\n",
    "import keyword\n",
    "\n",
    "def is_valid_variable(variable_name):\n",
    "    if variable_name.isidentifier() and not keyword.iskeyword(variable_name):\n",
    "        return True\n",
    "    else:\n",
    "        return False\n",
    "print(is_valid_variable(\"my_var\"))\n",
    "print(is_valid_variable(\"123var\"))\n",
    "print(is_valid_variable(\"def\")) \n",
    "print(is_valid_variable(\"var_1\"))\n"
   ]
  },
  {
   "cell_type": "code",
   "execution_count": 3,
   "id": "6da1182a-ab3a-465b-8047-b0aea3b2304c",
   "metadata": {},
   "outputs": [
    {
     "name": "stdout",
     "output_type": "stream",
     "text": [
      "Number of local variables: 5\n"
     ]
    }
   ],
   "source": [
    "#20\n",
    "def count_local_variables():\n",
    "    a = 10\n",
    "    b = 20\n",
    "    c = 30\n",
    "    d = 40\n",
    "    e = 50\n",
    "    local_vars = locals()\n",
    "    return len(local_vars)\n",
    "print(\"Number of local variables:\", count_local_variables())\n"
   ]
  },
  {
   "cell_type": "code",
   "execution_count": null,
   "id": "1499e7fb-d528-4e25-9666-365d8fdee73e",
   "metadata": {},
   "outputs": [],
   "source": []
  }
 ],
 "metadata": {
  "kernelspec": {
   "display_name": "Python 3 (ipykernel)",
   "language": "python",
   "name": "python3"
  },
  "language_info": {
   "codemirror_mode": {
    "name": "ipython",
    "version": 3
   },
   "file_extension": ".py",
   "mimetype": "text/x-python",
   "name": "python",
   "nbconvert_exporter": "python",
   "pygments_lexer": "ipython3",
   "version": "3.12.4"
  }
 },
 "nbformat": 4,
 "nbformat_minor": 5
}
