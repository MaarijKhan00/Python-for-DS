{
 "cells": [
  {
   "cell_type": "code",
   "execution_count": 27,
   "id": "6297f137-ca80-4d6e-95c5-6c953657a6b4",
   "metadata": {},
   "outputs": [
    {
     "name": "stdout",
     "output_type": "stream",
     "text": [
      "1\n",
      "2\n",
      "3\n",
      "4\n",
      "5\n",
      "6\n",
      "7\n",
      "8\n",
      "9\n",
      "10\n"
     ]
    }
   ],
   "source": [
    "# Maarij Irfan\n",
    "#1\n",
    "for i in range(1,11):\n",
    "    print(i)"
   ]
  },
  {
   "cell_type": "code",
   "execution_count": 29,
   "id": "7610023b-eddf-4ce3-830f-7e9843e89fe2",
   "metadata": {},
   "outputs": [
    {
     "name": "stdout",
     "output_type": "stream",
     "text": [
      "1\n",
      "2\n",
      "3\n",
      "4\n",
      "5\n"
     ]
    }
   ],
   "source": [
    "#2\n",
    "numbers = [1,2,3,4,5]\n",
    "for j in numbers:\n",
    "    print(j)"
   ]
  },
  {
   "cell_type": "code",
   "execution_count": 31,
   "id": "146d8fce-e342-42b9-85f6-e61c76540ffd",
   "metadata": {},
   "outputs": [
    {
     "data": {
      "text/plain": [
       "55"
      ]
     },
     "execution_count": 31,
     "metadata": {},
     "output_type": "execute_result"
    }
   ],
   "source": [
    "#3\n",
    "def sum_of_numbers(numbers):\n",
    "    return sum(num)\n",
    "num = [1,2,3,4,5,6,7,8,9,10]\n",
    "sum_of_numbers(numbers)"
   ]
  },
  {
   "cell_type": "code",
   "execution_count": 33,
   "id": "0ac5cb74-b521-491a-8f0c-e306a17beed8",
   "metadata": {},
   "outputs": [
    {
     "data": {
      "text/plain": [
       "'Muhammad Maarij Irfan '"
      ]
     },
     "execution_count": 33,
     "metadata": {},
     "output_type": "execute_result"
    }
   ],
   "source": [
    "#4\n",
    "def con_str(given):\n",
    "    result = ''\n",
    "    for i in given:\n",
    "        result+=i+' '\n",
    "    return result\n",
    "given = ['Muhammad','Maarij','Irfan']\n",
    "con_str(given)"
   ]
  },
  {
   "cell_type": "code",
   "execution_count": 35,
   "id": "59ae2e49-b08b-477a-89ce-0be9a08d3e60",
   "metadata": {
    "jp-MarkdownHeadingCollapsed": true
   },
   "outputs": [
    {
     "data": {
      "text/plain": [
       "26"
      ]
     },
     "execution_count": 35,
     "metadata": {},
     "output_type": "execute_result"
    }
   ],
   "source": [
    "#5\n",
    "def largest_num(nums):\n",
    "    nums.sort(reverse= True)\n",
    "    return nums[0]\n",
    "\n",
    "nums= [1,8,2,26,5]\n",
    "largest_num(nums)"
   ]
  },
  {
   "cell_type": "code",
   "execution_count": 37,
   "id": "eb1731aa-fdc8-4af0-9a19-bbee4d955cd5",
   "metadata": {},
   "outputs": [
    {
     "data": {
      "text/plain": [
       "[1, 4, 9, 16, 25, 36, 49]"
      ]
     },
     "execution_count": 37,
     "metadata": {},
     "output_type": "execute_result"
    }
   ],
   "source": [
    "#6\n",
    "def square_each(nums):\n",
    "    resultedd = []\n",
    "    for i in nums:\n",
    "        i=i**2\n",
    "        resultedd.append(i)\n",
    "    return resultedd\n",
    "\n",
    "nums = [1,2,3,4,5,6,7]\n",
    "square_each(nums)"
   ]
  },
  {
   "cell_type": "code",
   "execution_count": 39,
   "id": "d19a3a2b-705d-4066-8ec0-f4bb58031e31",
   "metadata": {},
   "outputs": [
    {
     "data": {
      "text/plain": [
       "[2, 4, 6, 8, 10]"
      ]
     },
     "execution_count": 39,
     "metadata": {},
     "output_type": "execute_result"
    }
   ],
   "source": [
    "#7\n",
    "def even_nums(nums_list):\n",
    "    res = []\n",
    "    for i in nums_list:\n",
    "        if i%2==0:\n",
    "            res.append(i)\n",
    "    return res\n",
    "\n",
    "nums_list = [1,2,3,4,5,6,7,8,9,10]\n",
    "even_nums(nums_list)\n"
   ]
  },
  {
   "cell_type": "code",
   "execution_count": 41,
   "id": "ac6248cd-1274-42fd-b8af-a0635d7d4e2f",
   "metadata": {},
   "outputs": [
    {
     "data": {
      "text/plain": [
       "[1, 2, 3, 4, 5, 6, 7, 8, 9, 10]"
      ]
     },
     "execution_count": 41,
     "metadata": {},
     "output_type": "execute_result"
    }
   ],
   "source": [
    "#8\n",
    "def combine_list(list1,list2):\n",
    "    result = []\n",
    "    for i in range(min(len(list1),len(list2))):\n",
    "        result.append(list1[i])\n",
    "        result.append(list2[i])\n",
    "    return result\n",
    "\n",
    "list1 = [1,3,5,7,9]\n",
    "list2 = [2,4,6,8,10]\n",
    "combine_list(list1,list2)"
   ]
  },
  {
   "cell_type": "code",
   "execution_count": 43,
   "id": "895a2a5c-1410-4cc8-87c3-d2da22cbd8b9",
   "metadata": {},
   "outputs": [
    {
     "data": {
      "text/plain": [
       "[8, 6, 5, 4]"
      ]
     },
     "execution_count": 43,
     "metadata": {},
     "output_type": "execute_result"
    }
   ],
   "source": [
    "#9\n",
    "def length_strings(given_list):\n",
    "    resulted = []\n",
    "    for i in given_list:\n",
    "        resulted.append(len(i))\n",
    "    return resulted\n",
    "\n",
    "given_list = ['Muhammad','Maarij','Irfan','khan']\n",
    "length_strings(given_list)"
   ]
  },
  {
   "cell_type": "code",
   "execution_count": 45,
   "id": "c5436857-0642-48b2-9fce-42dce5780f48",
   "metadata": {},
   "outputs": [
    {
     "data": {
      "text/plain": [
       "[2, 4, 6, 8, 10]"
      ]
     },
     "execution_count": 45,
     "metadata": {},
     "output_type": "execute_result"
    }
   ],
   "source": [
    "#10\n",
    "def sliced_list(list_toslice):\n",
    "    resulted_list = []\n",
    "    for i in range(1,len(list_toslice),2):\n",
    "        resulted_list.append(list_toslice[i])\n",
    "    return resulted_list\n",
    "list_toslice = [1,2,3,4,5,6,7,8,9,10]\n",
    "sliced_list(list_toslice)"
   ]
  },
  {
   "cell_type": "code",
   "execution_count": null,
   "id": "cf0686b1-cf53-4503-97c6-2dca916ad3e6",
   "metadata": {},
   "outputs": [],
   "source": []
  }
 ],
 "metadata": {
  "kernelspec": {
   "display_name": "Python 3 (ipykernel)",
   "language": "python",
   "name": "python3"
  },
  "language_info": {
   "codemirror_mode": {
    "name": "ipython",
    "version": 3
   },
   "file_extension": ".py",
   "mimetype": "text/x-python",
   "name": "python",
   "nbconvert_exporter": "python",
   "pygments_lexer": "ipython3",
   "version": "3.12.4"
  }
 },
 "nbformat": 4,
 "nbformat_minor": 5
}
