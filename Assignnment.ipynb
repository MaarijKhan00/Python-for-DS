{
 "cells": [
  {
   "cell_type": "markdown",
   "id": "9c6fd645-4ead-4bd7-8e78-5381c5b6c7a7",
   "metadata": {},
   "source": [
    "Name = Maarij Irfan\n",
    "Question 1\n",
    "part 1:"
   ]
  },
  {
   "cell_type": "code",
   "execution_count": 33,
   "id": "24fb6441-0958-4953-9866-26ee85e000f5",
   "metadata": {},
   "outputs": [
    {
     "name": "stdin",
     "output_type": "stream",
     "text": [
      "Enter your first name = maarij\n",
      "Enter your second name = irfan\n"
     ]
    },
    {
     "name": "stdout",
     "output_type": "stream",
     "text": [
      "Is first name length greater than the second : True\n",
      "Is first name length smaller than the second : False\n",
      "Is first name length equal to the second : False\n",
      "Is first name length greater than or equal to the second : True\n",
      "Is first name length less than or equal to the second : False\n",
      "Is first name length not equal to the second : True\n"
     ]
    }
   ],
   "source": [
    "fir_name = str(input('Enter your first name ='))\n",
    "sec_name = str(input('Enter your second name ='))\n",
    "length1 = len(fir_name)\n",
    "length2 = len(sec_name)\n",
    "print('Is first name length greater than the second :',length1>length2)\n",
    "print('Is first name length smaller than the second :',length1<length2)\n",
    "print('Is first name length equal to the second :',length1==length2)\n",
    "print('Is first name length greater than or equal to the second :',length1>=length2)\n",
    "print('Is first name length less than or equal to the second :',length1<=length2)\n",
    "print('Is first name length not equal to the second :',length1!=length2)"
   ]
  },
  {
   "cell_type": "markdown",
   "id": "c54d2f03-02a3-4724-af48-b4d8e8a0bf7c",
   "metadata": {},
   "source": [
    "part 2:"
   ]
  },
  {
   "cell_type": "code",
   "execution_count": 3,
   "id": "799762de-4469-45fd-b82c-3aade7c3c3f2",
   "metadata": {},
   "outputs": [
    {
     "name": "stdout",
     "output_type": "stream",
     "text": [
      "Length of your first name is = 6\n"
     ]
    }
   ],
   "source": [
    "length1 = len(fir_name)\n",
    "length2 = len(sec_name)\n",
    "print('Length of your first name is =',length1)"
   ]
  },
  {
   "cell_type": "markdown",
   "id": "a1a8b4d3-78b8-4261-adf9-bf3246379b8d",
   "metadata": {},
   "source": [
    "Question 2\n",
    "part 1:"
   ]
  },
  {
   "cell_type": "code",
   "execution_count": 5,
   "id": "97dbdd8b-7e7a-484c-a68a-9c5ad127e27d",
   "metadata": {},
   "outputs": [
    {
     "name": "stdout",
     "output_type": "stream",
     "text": [
      "Sum is: 9\n"
     ]
    }
   ],
   "source": [
    "num1 = 5\n",
    "num2 = 4\n",
    "total = num1+num2\n",
    "print('Sum is:',total)"
   ]
  },
  {
   "cell_type": "markdown",
   "id": "be40dca0-df4d-4b71-80c1-0652c39b118d",
   "metadata": {},
   "source": [
    "Part 2:"
   ]
  },
  {
   "cell_type": "code",
   "execution_count": 7,
   "id": "293447ab-edbd-4be9-a682-29fb96817bfd",
   "metadata": {},
   "outputs": [
    {
     "name": "stdout",
     "output_type": "stream",
     "text": [
      "Subtraction of num2 from num1 is: 1\n"
     ]
    }
   ],
   "source": [
    "diff = num1-num2\n",
    "print('Subtraction of num2 from num1 is:',diff)"
   ]
  },
  {
   "cell_type": "markdown",
   "id": "e03bdea5-6291-42d2-85b1-8374ba5e8f61",
   "metadata": {},
   "source": [
    "Part 3:"
   ]
  },
  {
   "cell_type": "code",
   "execution_count": 9,
   "id": "6ca5e16b-ad4a-4200-b408-3ed1c7f3dc46",
   "metadata": {},
   "outputs": [
    {
     "name": "stdout",
     "output_type": "stream",
     "text": [
      "Product of num1 and num2 is: 20\n"
     ]
    }
   ],
   "source": [
    "product = num1*num2\n",
    "print('Product of num1 and num2 is:',product)"
   ]
  },
  {
   "cell_type": "markdown",
   "id": "2c2fa551-4821-4d9f-ab31-925e20465b17",
   "metadata": {},
   "source": [
    "Part 4:"
   ]
  },
  {
   "cell_type": "code",
   "execution_count": 11,
   "id": "b2b81f87-5b1f-434c-aea9-061d44474290",
   "metadata": {},
   "outputs": [
    {
     "name": "stdout",
     "output_type": "stream",
     "text": [
      "Dividing num_one by num_two is: 1.25\n"
     ]
    }
   ],
   "source": [
    "div = num1/num2\n",
    "print('Dividing num_one by num_two is:',div)"
   ]
  },
  {
   "cell_type": "markdown",
   "id": "a3790a46-a311-4a65-bb6f-8a4251c9a510",
   "metadata": {},
   "source": [
    "Part 5:"
   ]
  },
  {
   "cell_type": "code",
   "execution_count": 35,
   "id": "51cf2c35-b594-4b99-8a77-b32e73f10759",
   "metadata": {},
   "outputs": [
    {
     "name": "stdout",
     "output_type": "stream",
     "text": [
      "modulus division num_two divided by num_one: 4\n"
     ]
    }
   ],
   "source": [
    "remainder = num2%num1\n",
    "print('modulus division num_two divided by num_one:',remainder)"
   ]
  },
  {
   "cell_type": "markdown",
   "id": "42e1a420-d9a9-4aa2-a4b6-96f1ddf55530",
   "metadata": {},
   "source": [
    "Part 6:"
   ]
  },
  {
   "cell_type": "code",
   "execution_count": 15,
   "id": "241f8bcc-61f4-41c5-a357-33a07d623e39",
   "metadata": {},
   "outputs": [
    {
     "name": "stdout",
     "output_type": "stream",
     "text": [
      "num1 to the power of num2 625\n"
     ]
    }
   ],
   "source": [
    "exp = num1**num2\n",
    "print('num1 to the power of num2',exp)"
   ]
  },
  {
   "cell_type": "markdown",
   "id": "b812b330-9267-4151-9995-0e4183efb600",
   "metadata": {},
   "source": [
    "Part 7:"
   ]
  },
  {
   "cell_type": "code",
   "execution_count": 17,
   "id": "b5f71890-6dce-4862-b8c0-d002bf1eb921",
   "metadata": {},
   "outputs": [
    {
     "name": "stdout",
     "output_type": "stream",
     "text": [
      "floor division of num_one by num_two: 1\n"
     ]
    }
   ],
   "source": [
    "floor_division = num1//num2\n",
    "print('floor division of num_one by num_two:',floor_division)"
   ]
  },
  {
   "cell_type": "markdown",
   "id": "608b5064-8164-418a-8c7b-e85e4ba3ef7d",
   "metadata": {},
   "source": [
    "Question 3:\n",
    "Part 1:"
   ]
  },
  {
   "cell_type": "code",
   "execution_count": 19,
   "id": "aef95605-67b0-4551-967a-801cc8da9ae1",
   "metadata": {},
   "outputs": [
    {
     "name": "stdout",
     "output_type": "stream",
     "text": [
      "Radius is: 30\n"
     ]
    }
   ],
   "source": [
    "rad = 30\n",
    "print('Radius is:',rad)"
   ]
  },
  {
   "cell_type": "markdown",
   "id": "e5b61402-7ea1-4670-a93c-0bb79c803679",
   "metadata": {},
   "source": [
    "Part 2:"
   ]
  },
  {
   "cell_type": "code",
   "execution_count": 21,
   "id": "96fa731d-ffbd-4e83-810c-da7f29064816",
   "metadata": {},
   "outputs": [
    {
     "name": "stdout",
     "output_type": "stream",
     "text": [
      "Area is : 2827.44 sq.meters\n"
     ]
    }
   ],
   "source": [
    "pi = 3.1416\n",
    "area_of_circle = pi*(rad**2)\n",
    "print('Area is :',area_of_circle,'sq.meters')"
   ]
  },
  {
   "cell_type": "markdown",
   "id": "8ead0189-ee70-4b3e-86e4-d11fb6f541b9",
   "metadata": {},
   "source": [
    "Part 3:"
   ]
  },
  {
   "cell_type": "code",
   "execution_count": 23,
   "id": "64adb657-1d54-4270-94ae-e69f51dcf47f",
   "metadata": {},
   "outputs": [
    {
     "name": "stdout",
     "output_type": "stream",
     "text": [
      "Circumference is : 188.496 meters\n"
     ]
    }
   ],
   "source": [
    "cir = 2*pi*rad\n",
    "print('Circumference is :',cir,'meters')"
   ]
  },
  {
   "cell_type": "markdown",
   "id": "0db15f56-87ed-48c1-9e96-8ef83dda217e",
   "metadata": {},
   "source": [
    "Part 4:"
   ]
  },
  {
   "cell_type": "code",
   "execution_count": 25,
   "id": "640ed669-bc3d-4d50-a263-c1bc6cb3d07b",
   "metadata": {},
   "outputs": [
    {
     "name": "stdin",
     "output_type": "stream",
     "text": [
      "Enter radius 12\n"
     ]
    },
    {
     "name": "stdout",
     "output_type": "stream",
     "text": [
      "Area for input is: 452.3904 sq.meters\n"
     ]
    }
   ],
   "source": [
    "radius = float(input('Enter radius'))\n",
    "area = pi*(radius**2)\n",
    "print('Area for input is:',area,'sq.meters')"
   ]
  },
  {
   "cell_type": "markdown",
   "id": "d3b43bfb-82a0-458b-a2d0-dea884d8d294",
   "metadata": {},
   "source": [
    "Question 4:"
   ]
  },
  {
   "cell_type": "code",
   "execution_count": 1,
   "id": "ff3af734-8d73-410a-a437-61798782d8ff",
   "metadata": {},
   "outputs": [
    {
     "name": "stdout",
     "output_type": "stream",
     "text": [
      "Profit per bag is: 0.25\n",
      "Total profit of 500 bags is: 125.0\n"
     ]
    }
   ],
   "source": [
    "ice_bag = 1.25\n",
    "profit = 20/100\n",
    "total_bags = 500\n",
    "profit_per_bag = ice_bag*profit\n",
    "print('Profit per bag is:',profit_per_bag)\n",
    "profit_total = profit_per_bag*total_bags\n",
    "print('Total profit of 500 bags is:',profit_total)"
   ]
  },
  {
   "cell_type": "markdown",
   "id": "f3fdac75-eb30-4f40-8eb7-100c40aa58d1",
   "metadata": {},
   "source": [
    "Question 5:"
   ]
  },
  {
   "cell_type": "code",
   "execution_count": 3,
   "id": "a984ffaf-5e75-4200-9dd5-b7dd76736694",
   "metadata": {},
   "outputs": [
    {
     "name": "stdout",
     "output_type": "stream",
     "text": [
      "Earned by persons = 5800\n",
      "Profit earned by airline = 800\n"
     ]
    }
   ],
   "source": [
    "cost_to_fly = 5000\n",
    "people_signed = 29\n",
    "charge_per_person = 200\n",
    "earned_by_persons = people_signed*charge_per_person\n",
    "print('Earned by persons =',earned_by_persons)\n",
    "profit = earned_by_persons-cost_to_fly\n",
    "print('Profit earned by airline =',profit)"
   ]
  },
  {
   "cell_type": "code",
   "execution_count": null,
   "id": "c2a6cc52-1cf0-41e0-876d-d869c22af2df",
   "metadata": {},
   "outputs": [],
   "source": []
  }
 ],
 "metadata": {
  "kernelspec": {
   "display_name": "Python 3 (ipykernel)",
   "language": "python",
   "name": "python3"
  },
  "language_info": {
   "codemirror_mode": {
    "name": "ipython",
    "version": 3
   },
   "file_extension": ".py",
   "mimetype": "text/x-python",
   "name": "python",
   "nbconvert_exporter": "python",
   "pygments_lexer": "ipython3",
   "version": "3.12.4"
  }
 },
 "nbformat": 4,
 "nbformat_minor": 5
}
