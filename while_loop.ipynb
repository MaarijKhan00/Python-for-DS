{
 "cells": [
  {
   "cell_type": "code",
   "execution_count": null,
   "id": "3abb3fb1-9e46-464a-9c37-0f52d7cff8dc",
   "metadata": {},
   "outputs": [
    {
     "name": "stdin",
     "output_type": "stream",
     "text": [
      "Guess the Number: 10\n"
     ]
    },
    {
     "name": "stderr",
     "output_type": "stream",
     "text": [
      "IOPub data rate exceeded.\n",
      "The Jupyter server will temporarily stop sending output\n",
      "to the client in order to avoid crashing it.\n",
      "To change this limit, set the config variable\n",
      "`--ServerApp.iopub_data_rate_limit`.\n",
      "\n",
      "Current values:\n",
      "ServerApp.iopub_data_rate_limit=1000000.0 (bytes/sec)\n",
      "ServerApp.rate_limit_window=3.0 (secs)\n",
      "\n"
     ]
    }
   ],
   "source": [
    "#guess game\n",
    "import random\n",
    "jackpot = random.randint(1,100)\n",
    "guess_num = int(input('Guess the Number:'))\n",
    "while guess_num != jackpot:\n",
    "    if guess_num < jackpot:\n",
    "        print('Guess number is less, guess higher')\n",
    "    else:\n",
    "        print('Guess lower')\n",
    "        guess_num = int(input('Guess the Number:'))\n",
    "else:\n",
    "    print('Correct guess')"
   ]
  },
  {
   "cell_type": "code",
   "execution_count": null,
   "id": "6354cde1-a7e8-4832-81a7-fcad7e46a3f7",
   "metadata": {},
   "outputs": [],
   "source": []
  }
 ],
 "metadata": {
  "kernelspec": {
   "display_name": "Python 3 (ipykernel)",
   "language": "python",
   "name": "python3"
  },
  "language_info": {
   "codemirror_mode": {
    "name": "ipython",
    "version": 3
   },
   "file_extension": ".py",
   "mimetype": "text/x-python",
   "name": "python",
   "nbconvert_exporter": "python",
   "pygments_lexer": "ipython3",
   "version": "3.12.4"
  }
 },
 "nbformat": 4,
 "nbformat_minor": 5
}
