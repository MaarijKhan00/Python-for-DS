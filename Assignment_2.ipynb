{
 "cells": [
  {
   "cell_type": "code",
   "execution_count": 115,
   "id": "63058ef0-27d0-49b8-8d22-cedc0d10511b",
   "metadata": {},
   "outputs": [
    {
     "data": {
      "text/plain": [
       "list"
      ]
     },
     "execution_count": 115,
     "metadata": {},
     "output_type": "execute_result"
    }
   ],
   "source": [
    "# [Maarij Irfan] assignment\n",
    "#1\n",
    "emp_list = []\n",
    "type(emp_list)"
   ]
  },
  {
   "cell_type": "code",
   "execution_count": 3,
   "id": "60b504a6-0a61-428b-a482-b6f450af3627",
   "metadata": {},
   "outputs": [
    {
     "name": "stdout",
     "output_type": "stream",
     "text": [
      "['Stove', 'Plate', 'Spoon', 'Bowl', 'Cup', 'Glass', 'Fork']\n",
      "Length is 7\n"
     ]
    }
   ],
   "source": [
    "#2\n",
    "my_list = ['Stove','Plate','Spoon','Bowl','Cup','Glass','Fork']\n",
    "print(my_list)\n",
    "#3\n",
    "print('Length is',len(my_list))"
   ]
  },
  {
   "cell_type": "code",
   "execution_count": 4,
   "id": "ff02764f-e4e5-4f31-8bf4-2e34d17877c4",
   "metadata": {},
   "outputs": [
    {
     "name": "stdout",
     "output_type": "stream",
     "text": [
      "first,middle and last are ['Stove', 'Bowl', 'Fork']\n"
     ]
    }
   ],
   "source": [
    "#4\n",
    "print('first,middle and last are',my_list[0::3])"
   ]
  },
  {
   "cell_type": "code",
   "execution_count": 5,
   "id": "9f8d35de-3e9f-4712-ac82-d63bdba7c9a5",
   "metadata": {},
   "outputs": [
    {
     "name": "stdout",
     "output_type": "stream",
     "text": [
      "mixed data types are: ['Maarij', 24, '5.9 feet', 'Single', 'Karachi']\n"
     ]
    }
   ],
   "source": [
    "#5\n",
    "mixed_data_types = ['Maarij',24,'5.9 feet','Single','Karachi']\n",
    "print('mixed data types are:',mixed_data_types)"
   ]
  },
  {
   "cell_type": "code",
   "execution_count": 9,
   "id": "0018f415-a3c4-45a8-932b-ff8427353345",
   "metadata": {},
   "outputs": [
    {
     "name": "stdout",
     "output_type": "stream",
     "text": [
      "companies are ['Facebook', 'Google', 'Microsoft', 'Apple', 'IBM', 'Oracle', 'Amazon']\n",
      "Length is 7\n"
     ]
    }
   ],
   "source": [
    "#6\n",
    "it_companies = ['Facebook','Google','Microsoft','Apple','IBM','Oracle','Amazon']\n",
    "print('companies are',it_companies)\n",
    "print('Length is',len(it_companies))"
   ]
  },
  {
   "cell_type": "code",
   "execution_count": 11,
   "id": "46624cb3-15ed-48b8-ab71-cf616844a587",
   "metadata": {},
   "outputs": [
    {
     "name": "stdout",
     "output_type": "stream",
     "text": [
      "all it_companies are: ['Facebook', 'Google', 'Microsoft', 'Apple', 'IBM', 'Oracle', 'Amazon']\n",
      "first,middle and the last : ['Facebook', 'Apple', 'Amazon']\n"
     ]
    }
   ],
   "source": [
    "#7\n",
    "print('all it_companies are:',it_companies)\n",
    "print('first,middle and the last :',it_companies[0::3])"
   ]
  },
  {
   "cell_type": "code",
   "execution_count": 13,
   "id": "5a2de64a-2c10-4074-ae61-69b99bfce243",
   "metadata": {},
   "outputs": [
    {
     "name": "stdout",
     "output_type": "stream",
     "text": [
      "modified list of companies is : ['Facebook', 'Google', 'Windows', 'Apple', 'IBM', 'Oracle', 'Amazon']\n"
     ]
    }
   ],
   "source": [
    "#8\n",
    "it_companies[2] = 'Windows'\n",
    "print('modified list of companies is :',it_companies)"
   ]
  },
  {
   "cell_type": "code",
   "execution_count": 15,
   "id": "e1df60b7-8c16-4089-8dea-b058c75efdbb",
   "metadata": {},
   "outputs": [
    {
     "name": "stdout",
     "output_type": "stream",
     "text": [
      "all it_companies are: ['Facebook', 'Google', 'Windows', 'Apple', 'IBM', 'Oracle', 'Amazon']\n",
      "Appending a company: ['Facebook', 'Google', 'Windows', 'Apple', 'IBM', 'Oracle', 'Amazon', 'Shopify']\n"
     ]
    }
   ],
   "source": [
    "#9\n",
    "print('all it_companies are:',it_companies)\n",
    "it_companies.append('Shopify')\n",
    "print('Appending a company:',it_companies)"
   ]
  },
  {
   "cell_type": "code",
   "execution_count": 17,
   "id": "806a6658-669a-41b1-934f-5bcb3204dcf4",
   "metadata": {},
   "outputs": [
    {
     "name": "stdout",
     "output_type": "stream",
     "text": [
      "all it_companies are: ['Facebook', 'Google', 'Windows', 'Apple', 'IBM', 'Oracle', 'Amazon', 'Shopify']\n",
      "After inserting one: ['Facebook', 'Google', 'Windows', 'Apple', 'Twitter', 'IBM', 'Oracle', 'Amazon', 'Shopify']\n"
     ]
    }
   ],
   "source": [
    "#10\n",
    "print('all it_companies are:',it_companies)\n",
    "it_companies.insert(4,'Twitter')\n",
    "print('After inserting one:',it_companies)"
   ]
  },
  {
   "cell_type": "code",
   "execution_count": 19,
   "id": "55c947f9-a7bd-40b4-8522-8a9f803eda58",
   "metadata": {},
   "outputs": [
    {
     "name": "stdout",
     "output_type": "stream",
     "text": [
      "all it_companies are: ['Facebook', 'Google', 'Windows', 'Apple', 'Twitter', 'IBM', 'Oracle', 'Amazon', 'Shopify']\n",
      "List after uppercase applying on Apple: ['Facebook', 'Google', 'Windows', 'APPLE', 'Twitter', 'IBM', 'Oracle', 'Amazon', 'Shopify']\n"
     ]
    }
   ],
   "source": [
    "#11\n",
    "print('all it_companies are:',it_companies)\n",
    "it_companies[3] = it_companies[3].upper()\n",
    "print('List after uppercase applying on Apple:',it_companies)"
   ]
  },
  {
   "cell_type": "code",
   "execution_count": 21,
   "id": "cee2390d-6178-4262-99a3-b0a4b27998e8",
   "metadata": {},
   "outputs": [
    {
     "name": "stdout",
     "output_type": "stream",
     "text": [
      "all it_companies are: ['Facebook', 'Google', 'Windows', 'APPLE', 'Twitter', 'IBM', 'Oracle', 'Amazon', 'Shopify']\n",
      "Sorted it_companies list: ['APPLE', 'Amazon', 'Facebook', 'Google', 'IBM', 'Oracle', 'Shopify', 'Twitter', 'Windows']\n"
     ]
    }
   ],
   "source": [
    "#12\n",
    "print('all it_companies are:',it_companies)\n",
    "it_companies.sort()\n",
    "print('Sorted it_companies list:',it_companies)"
   ]
  },
  {
   "cell_type": "code",
   "execution_count": 23,
   "id": "9b4a18fa-7a8d-42fa-a5b9-1838a435a370",
   "metadata": {},
   "outputs": [
    {
     "name": "stdout",
     "output_type": "stream",
     "text": [
      "all it_companies are: ['APPLE', 'Amazon', 'Facebook', 'Google', 'IBM', 'Oracle', 'Shopify', 'Twitter', 'Windows']\n",
      "Reversing it_companies List: ['Windows', 'Twitter', 'Shopify', 'Oracle', 'IBM', 'Google', 'Facebook', 'Amazon', 'APPLE']\n"
     ]
    }
   ],
   "source": [
    "#13\n",
    "print('all it_companies are:',it_companies)\n",
    "it_companies.reverse()\n",
    "print('Reversing it_companies List:',it_companies)"
   ]
  },
  {
   "cell_type": "code",
   "execution_count": 25,
   "id": "910c11c1-18c9-4cc0-b944-8ce3f67b4eaa",
   "metadata": {},
   "outputs": [
    {
     "name": "stdout",
     "output_type": "stream",
     "text": [
      "all it_companies are: ['Windows', 'Twitter', 'Shopify', 'Oracle', 'IBM', 'Google', 'Facebook', 'Amazon', 'APPLE']\n",
      "Slicing out first three companies: ['Windows', 'Twitter', 'Shopify']\n"
     ]
    }
   ],
   "source": [
    "#14\n",
    "print('all it_companies are:',it_companies)\n",
    "first_three = it_companies[:3]\n",
    "print('Slicing out first three companies:',first_three)"
   ]
  },
  {
   "cell_type": "code",
   "execution_count": 27,
   "id": "1bfe0778-f912-4232-b4d6-381ac168cccb",
   "metadata": {},
   "outputs": [
    {
     "name": "stdout",
     "output_type": "stream",
     "text": [
      "all it_companies are: ['Windows', 'Twitter', 'Shopify', 'Oracle', 'IBM', 'Google', 'Facebook', 'Amazon', 'APPLE']\n",
      "Slicing out last three companies: ['Facebook', 'Amazon', 'APPLE']\n"
     ]
    }
   ],
   "source": [
    "#15\n",
    "print('all it_companies are:',it_companies)\n",
    "last_three = it_companies[-3::]\n",
    "print('Slicing out last three companies:',last_three)"
   ]
  },
  {
   "cell_type": "code",
   "execution_count": 29,
   "id": "b13767ba-db90-4b28-873c-6d416018b230",
   "metadata": {},
   "outputs": [
    {
     "name": "stdout",
     "output_type": "stream",
     "text": [
      "all it_companies are: ['Windows', 'Twitter', 'Shopify', 'Oracle', 'IBM', 'Google', 'Facebook', 'Amazon', 'APPLE']\n",
      "miidle index is : 4\n",
      "slicing out the middle it_company: ['IBM']\n"
     ]
    }
   ],
   "source": [
    "#16\n",
    "print('all it_companies are:',it_companies)\n",
    "middle_index= len(it_companies)//2\n",
    "print('miidle index is :',middle_index)\n",
    "print('slicing out the middle it_company:',it_companies[4:5])"
   ]
  },
  {
   "cell_type": "code",
   "execution_count": 31,
   "id": "96d0842f-ed12-4d17-925b-e685987911fc",
   "metadata": {},
   "outputs": [
    {
     "name": "stdout",
     "output_type": "stream",
     "text": [
      "all it_companies are: ['Windows', 'Twitter', 'Shopify', 'Oracle', 'IBM', 'Google', 'Facebook', 'Amazon', 'APPLE']\n",
      "After removing first company: ['Twitter', 'Shopify', 'Oracle', 'IBM', 'Google', 'Facebook', 'Amazon', 'APPLE']\n"
     ]
    }
   ],
   "source": [
    "#17\n",
    "print('all it_companies are:',it_companies)\n",
    "it_companies.pop(0)\n",
    "print('After removing first company:',it_companies)"
   ]
  },
  {
   "cell_type": "code",
   "execution_count": 33,
   "id": "c56cc94b-699a-4669-9faf-c36fd5b1e391",
   "metadata": {},
   "outputs": [
    {
     "name": "stdout",
     "output_type": "stream",
     "text": [
      "all it_companies are: ['Twitter', 'Shopify', 'Oracle', 'IBM', 'Google', 'Facebook', 'Amazon', 'APPLE']\n",
      "After removing middle companies: ['Twitter', 'Shopify', 'Oracle', 'Google', 'Amazon', 'APPLE']\n"
     ]
    }
   ],
   "source": [
    "#18\n",
    "print('all it_companies are:',it_companies)\n",
    "it_companies.pop(3)\n",
    "it_companies.pop(4)\n",
    "print('After removing middle companies:',it_companies)"
   ]
  },
  {
   "cell_type": "code",
   "execution_count": 35,
   "id": "be2cb102-bf17-46c0-97a7-c4a4c5a0404f",
   "metadata": {},
   "outputs": [
    {
     "name": "stdout",
     "output_type": "stream",
     "text": [
      "all it_companies are: ['Twitter', 'Shopify', 'Oracle', 'Google', 'Amazon', 'APPLE']\n",
      "After removing last: ['Twitter', 'Shopify', 'Oracle', 'Google', 'Amazon']\n"
     ]
    }
   ],
   "source": [
    "#19\n",
    "print('all it_companies are:',it_companies)\n",
    "it_companies.pop(-1)\n",
    "print('After removing last:',it_companies)"
   ]
  },
  {
   "cell_type": "code",
   "execution_count": 37,
   "id": "1c235cfd-6a34-4184-8d22-b6f16b6aa30b",
   "metadata": {},
   "outputs": [
    {
     "name": "stdout",
     "output_type": "stream",
     "text": [
      "all it_companies are: ['Twitter', 'Shopify', 'Oracle', 'Google', 'Amazon']\n",
      "After clearing all []\n"
     ]
    }
   ],
   "source": [
    "#20\n",
    "print('all it_companies are:',it_companies)\n",
    "it_companies.clear()\n",
    "print('After clearing all',it_companies)"
   ]
  },
  {
   "cell_type": "code",
   "execution_count": 39,
   "id": "3a0a89f1-dd8d-4cfa-946e-38e54abdecd2",
   "metadata": {},
   "outputs": [
    {
     "name": "stdout",
     "output_type": "stream",
     "text": [
      "all it_companies are: []\n"
     ]
    },
    {
     "ename": "NameError",
     "evalue": "name 'it_companies' is not defined",
     "output_type": "error",
     "traceback": [
      "\u001b[1;31m---------------------------------------------------------------------------\u001b[0m",
      "\u001b[1;31mNameError\u001b[0m                                 Traceback (most recent call last)",
      "Cell \u001b[1;32mIn[39], line 4\u001b[0m\n\u001b[0;32m      2\u001b[0m \u001b[38;5;28mprint\u001b[39m(\u001b[38;5;124m'\u001b[39m\u001b[38;5;124mall it_companies are:\u001b[39m\u001b[38;5;124m'\u001b[39m,it_companies)\n\u001b[0;32m      3\u001b[0m \u001b[38;5;28;01mdel\u001b[39;00m it_companies\n\u001b[1;32m----> 4\u001b[0m \u001b[38;5;28mprint\u001b[39m(it_companies)\n",
      "\u001b[1;31mNameError\u001b[0m: name 'it_companies' is not defined"
     ]
    }
   ],
   "source": [
    "#21\n",
    "print('all it_companies are:',it_companies)\n",
    "del it_companies\n",
    "print(it_companies)"
   ]
  },
  {
   "cell_type": "code",
   "execution_count": 40,
   "id": "aaf87cf7-6cfa-499c-a755-3c406e827bd6",
   "metadata": {},
   "outputs": [
    {
     "name": "stdout",
     "output_type": "stream",
     "text": [
      "['HTML', 'CSS', 'JS', 'React', 'Redux', 'Node', 'Express', 'MongoDB']\n"
     ]
    }
   ],
   "source": [
    "#22 Join the following lists:\n",
    "#23 \n",
    "front_end = ['HTML', 'CSS', 'JS', 'React', 'Redux']\n",
    "back_end = ['Node','Express', 'MongoDB']\n",
    "joined_list = front_end+back_end\n",
    "print(joined_list)"
   ]
  },
  {
   "cell_type": "code",
   "execution_count": 43,
   "id": "6c4565b7-ace1-4b2f-b2e0-fd972b9fb64d",
   "metadata": {},
   "outputs": [
    {
     "name": "stdout",
     "output_type": "stream",
     "text": [
      "['HTML', 'CSS', 'JS', 'React', 'Redux', 'Node', 'Express', 'MongoDB']\n",
      "['HTML', 'CSS', 'JS', 'React', 'Redux', 'Python', 'SQL', 'Node', 'Express', 'MongoDB']\n"
     ]
    }
   ],
   "source": [
    "#24\n",
    "full_stack=joined_list.copy()\n",
    "print(full_stack)\n",
    "full_stack.insert(5,'Python')\n",
    "full_stack.insert(6,'SQL')\n",
    "print(full_stack)"
   ]
  },
  {
   "cell_type": "code",
   "execution_count": 45,
   "id": "d621eb97-f78a-46ae-a322-1f505681f48e",
   "metadata": {},
   "outputs": [],
   "source": [
    "#25\n",
    "#26\n",
    "ages = [19, 22, 19, 24, 20, 25, 26, 24, 25, 24]"
   ]
  },
  {
   "cell_type": "code",
   "execution_count": 47,
   "id": "c7ffd6c7-cf4a-4f68-9b13-1648c1fb46ff",
   "metadata": {},
   "outputs": [
    {
     "name": "stdout",
     "output_type": "stream",
     "text": [
      "[19, 19, 20, 22, 24, 24, 24, 25, 25, 26]\n",
      "19\n",
      "26\n"
     ]
    }
   ],
   "source": [
    "#27\n",
    "ages.sort()\n",
    "print(ages)\n",
    "print(min(ages))\n",
    "print(max(ages))"
   ]
  },
  {
   "cell_type": "code",
   "execution_count": 49,
   "id": "dcbbd000-91a0-4529-8d97-b963fb2473f5",
   "metadata": {},
   "outputs": [
    {
     "name": "stdout",
     "output_type": "stream",
     "text": [
      "[19, 19, 20, 22, 24, 24, 24, 25, 25, 26, 19, 26]\n"
     ]
    }
   ],
   "source": [
    "#28\n",
    "ages.append(min(ages))\n",
    "ages.append(max(ages))\n",
    "print(ages)"
   ]
  },
  {
   "cell_type": "code",
   "execution_count": 51,
   "id": "6a9a6570-ca9c-4f30-952b-447adf050978",
   "metadata": {},
   "outputs": [
    {
     "name": "stdout",
     "output_type": "stream",
     "text": [
      "[19, 19, 19, 20, 22, 24, 24, 24, 25, 25, 26, 26]\n"
     ]
    }
   ],
   "source": [
    "ages.sort()\n",
    "print(ages)"
   ]
  },
  {
   "cell_type": "code",
   "execution_count": 53,
   "id": "56719d26-5a6c-4703-aeee-66b5ebe09e08",
   "metadata": {},
   "outputs": [
    {
     "name": "stdout",
     "output_type": "stream",
     "text": [
      "6.0\n",
      "24.0\n"
     ]
    }
   ],
   "source": [
    "#29\n",
    "med_index = len(ages)/2\n",
    "print(med_index)\n",
    "median_age = (ages[5]+ages[6])/2\n",
    "print(median_age)"
   ]
  },
  {
   "cell_type": "code",
   "execution_count": 55,
   "id": "f252844f-478e-4f15-b509-152a758cb7f6",
   "metadata": {},
   "outputs": [
    {
     "name": "stdout",
     "output_type": "stream",
     "text": [
      "22.75\n"
     ]
    }
   ],
   "source": [
    "#30\n",
    "avg_age = sum(ages)/len(ages)\n",
    "print(avg_age)"
   ]
  },
  {
   "cell_type": "code",
   "execution_count": 57,
   "id": "dd38ee12-3f2b-4c97-9357-4375b26963c8",
   "metadata": {},
   "outputs": [
    {
     "name": "stdout",
     "output_type": "stream",
     "text": [
      "7\n"
     ]
    }
   ],
   "source": [
    "#31\n",
    "range =  max(ages)-min(ages)\n",
    "print(range)"
   ]
  },
  {
   "cell_type": "code",
   "execution_count": 59,
   "id": "36352c82-a883-4c53-b7d9-2776b472a6b1",
   "metadata": {},
   "outputs": [
    {
     "name": "stdout",
     "output_type": "stream",
     "text": [
      "3.75\n",
      "3.25\n"
     ]
    }
   ],
   "source": [
    "#32\n",
    "min_diff = abs(min(ages) - avg_age)\n",
    "max_diff = abs(max(ages) - avg_age)\n",
    "print(min_diff)\n",
    "print(max_diff)"
   ]
  },
  {
   "cell_type": "code",
   "execution_count": 61,
   "id": "d188df83-13a9-423b-b8bb-2bd6296a97bb",
   "metadata": {},
   "outputs": [
    {
     "name": "stdout",
     "output_type": "stream",
     "text": [
      "3.5\n"
     ]
    }
   ],
   "source": [
    "#33\n",
    "countries = ['China', 'Russia', 'USA', 'Finland', 'Sweden', 'Norway', 'Denmark']\n",
    "middle_index = len(countries)/2\n",
    "print(middle_index)"
   ]
  },
  {
   "cell_type": "code",
   "execution_count": 63,
   "id": "b88df090-9219-45e0-a9ab-a0ff34e08d8e",
   "metadata": {},
   "outputs": [
    {
     "name": "stdout",
     "output_type": "stream",
     "text": [
      "['China', 'Russia', 'USA', 'Finland']\n",
      "['Sweden', 'Norway', 'Denmark']\n"
     ]
    }
   ],
   "source": [
    "#34\n",
    "first_half = countries[:4]\n",
    "second_half = countries[4:]\n",
    "print(first_half)\n",
    "print(second_half)"
   ]
  },
  {
   "cell_type": "code",
   "execution_count": 65,
   "id": "7135af06-cade-441d-840d-1e43420c87ea",
   "metadata": {},
   "outputs": [
    {
     "name": "stdout",
     "output_type": "stream",
     "text": [
      "China\n",
      "Russia\n",
      "USA\n",
      "['Finland', 'Sweden', 'Norway', 'Denmark']\n"
     ]
    }
   ],
   "source": [
    "#35\n",
    "fir_one,sec_one,third_one,*scandic_countries = countries\n",
    "print(fir_one)\n",
    "print(sec_one)\n",
    "print(third_one)\n",
    "print(scandic_countries)"
   ]
  },
  {
   "cell_type": "code",
   "execution_count": 67,
   "id": "bd0ea0fb-b828-4ea0-8525-b1312a282364",
   "metadata": {},
   "outputs": [
    {
     "name": "stdout",
     "output_type": "stream",
     "text": [
      "<class 'tuple'>\n"
     ]
    }
   ],
   "source": [
    "#tuple\n",
    "#1\n",
    "emp_tuple = ()\n",
    "print(type(emp_tuple))\n"
   ]
  },
  {
   "cell_type": "code",
   "execution_count": 69,
   "id": "ea41b8b8-3ddf-4ddb-81fb-d7f8c93bbc2f",
   "metadata": {},
   "outputs": [
    {
     "name": "stdout",
     "output_type": "stream",
     "text": [
      "('Maryam', 'Ayesha', 'Zainab', 'Hamza', 'Ahmad')\n"
     ]
    }
   ],
   "source": [
    "#2\n",
    "sisters = ('Maryam','Ayesha','Zainab')\n",
    "brothers = ('Hamza','Ahmad')\n",
    "#3\n",
    "siblings = sisters+brothers\n",
    "print(siblings)\n"
   ]
  },
  {
   "cell_type": "code",
   "execution_count": 71,
   "id": "5e690a2b-4238-4dad-babb-8ec0b78f50b9",
   "metadata": {},
   "outputs": [
    {
     "name": "stdout",
     "output_type": "stream",
     "text": [
      "Siblings i have: 5\n"
     ]
    }
   ],
   "source": [
    "#4\n",
    "print('Siblings i have:',len(siblings))"
   ]
  },
  {
   "cell_type": "code",
   "execution_count": 73,
   "id": "48f624d6-6db1-44c9-bfcb-70381426bf74",
   "metadata": {},
   "outputs": [
    {
     "name": "stdout",
     "output_type": "stream",
     "text": [
      "('Maryam', 'Ayesha', 'Zainab', 'Hamza', 'Ahmad', 'Rabia', 'Irfan')\n"
     ]
    }
   ],
   "source": [
    "#5\n",
    "family_members = siblings+('Rabia','Irfan')\n",
    "print(family_members)"
   ]
  },
  {
   "cell_type": "code",
   "execution_count": 75,
   "id": "1a4d6154-a345-49b8-baec-949ce0952ac5",
   "metadata": {},
   "outputs": [
    {
     "name": "stdout",
     "output_type": "stream",
     "text": [
      "['Maryam', 'Ayesha', 'Zainab', 'Hamza', 'Ahmad']\n",
      "Rabia\n",
      "Irfan\n"
     ]
    }
   ],
   "source": [
    "#6\n",
    "*sibling,mother,father = family_members\n",
    "print(sibling)\n",
    "print(mother)\n",
    "print(father)"
   ]
  },
  {
   "cell_type": "code",
   "execution_count": 77,
   "id": "596f7ec3-0581-4d85-a17c-864f9813840f",
   "metadata": {},
   "outputs": [
    {
     "name": "stdout",
     "output_type": "stream",
     "text": [
      "('apple', 'orange', 'grape', 'tomato', 'potato', 'carrot', 'milk', 'egg', 'butter')\n"
     ]
    }
   ],
   "source": [
    "#7\n",
    "fruits = (\"apple\", \"orange\", \"grape\")\n",
    "vegetables = (\"tomato\", \"potato\", \"carrot\")\n",
    "animal_products = (\"milk\", \"egg\", \"butter\")\n",
    "food_stuff_tp = fruits+vegetables+animal_products\n",
    "print(food_stuff_tp)"
   ]
  },
  {
   "cell_type": "code",
   "execution_count": 79,
   "id": "dcf18b9f-6e31-4be9-a48b-acae2aef2720",
   "metadata": {},
   "outputs": [
    {
     "name": "stdout",
     "output_type": "stream",
     "text": [
      "<class 'list'>\n",
      "4.5\n",
      "middle item is: potato\n",
      "first three items are: ['apple', 'orange', 'grape']\n",
      "last three items are: ['milk', 'egg', 'butter']\n"
     ]
    }
   ],
   "source": [
    "#8\n",
    "food_stuff_li=list(food_stuff_tp)\n",
    "print(type(food_stuff_li))\n",
    "#9\n",
    "mid_index = len(food_stuff_li)/2\n",
    "print(mid_index)\n",
    "print('middle item is:',food_stuff_li[4])\n",
    "#10\n",
    "print('first three items are:',food_stuff_li[:3])\n",
    "print('last three items are:',food_stuff_li[-3:])"
   ]
  },
  {
   "cell_type": "code",
   "execution_count": 81,
   "id": "4c52dfb9-5ce5-46ee-a52b-dab29434efff",
   "metadata": {},
   "outputs": [
    {
     "ename": "NameError",
     "evalue": "name 'food_stuff_tp' is not defined",
     "output_type": "error",
     "traceback": [
      "\u001b[1;31m---------------------------------------------------------------------------\u001b[0m",
      "\u001b[1;31mNameError\u001b[0m                                 Traceback (most recent call last)",
      "Cell \u001b[1;32mIn[81], line 3\u001b[0m\n\u001b[0;32m      1\u001b[0m \u001b[38;5;66;03m#11\u001b[39;00m\n\u001b[0;32m      2\u001b[0m \u001b[38;5;28;01mdel\u001b[39;00m food_stuff_tp\n\u001b[1;32m----> 3\u001b[0m \u001b[38;5;28mprint\u001b[39m(food_stuff_tp)\n",
      "\u001b[1;31mNameError\u001b[0m: name 'food_stuff_tp' is not defined"
     ]
    }
   ],
   "source": [
    "#11\n",
    "del food_stuff_tp\n",
    "print(food_stuff_tp)"
   ]
  },
  {
   "cell_type": "code",
   "execution_count": 83,
   "id": "56130a1a-e601-47fc-9a3a-a6028d2178a7",
   "metadata": {},
   "outputs": [
    {
     "name": "stdout",
     "output_type": "stream",
     "text": [
      "7\n"
     ]
    }
   ],
   "source": [
    "#sets\n",
    "#1\n",
    "it_companies = {'Facebook', 'Google', 'Microsoft', 'Apple', 'IBM', 'Oracle','Amazon'}\n",
    "print(len(it_companies))"
   ]
  },
  {
   "cell_type": "code",
   "execution_count": 85,
   "id": "9021dbb5-e1e6-4c23-9a9c-a0cd9c1ad862",
   "metadata": {},
   "outputs": [
    {
     "name": "stdout",
     "output_type": "stream",
     "text": [
      "{'Oracle', 'Google', 'Apple', 'Facebook', 'Twitter', 'Microsoft', 'Amazon', 'IBM'}\n"
     ]
    }
   ],
   "source": [
    "#2\n",
    "it_companies.add('Twitter')\n",
    "print(it_companies)"
   ]
  },
  {
   "cell_type": "code",
   "execution_count": 87,
   "id": "56bded1c-6d36-40f2-b387-b5d4f1276c4b",
   "metadata": {},
   "outputs": [
    {
     "name": "stdout",
     "output_type": "stream",
     "text": [
      "{'Google', 'Oracle', 'Twitter', 'Apple', 'Microsoft', 'Amazon', 'IBM', 'SpaceX', 'Meta', 'Facebook', 'Ebay'}\n"
     ]
    }
   ],
   "source": [
    "#3\n",
    "it_companies.update(['Meta','SpaceX','Ebay'])\n",
    "print(it_companies)"
   ]
  },
  {
   "cell_type": "code",
   "execution_count": 89,
   "id": "df8648dd-4337-4dc3-8eab-fe90bef57103",
   "metadata": {},
   "outputs": [
    {
     "name": "stdout",
     "output_type": "stream",
     "text": [
      "{'Google', 'Oracle', 'Twitter', 'Apple', 'Microsoft', 'Amazon', 'IBM', 'SpaceX', 'Meta', 'Facebook'}\n"
     ]
    }
   ],
   "source": [
    "#4\n",
    "it_companies.remove('Ebay')\n",
    "print(it_companies)"
   ]
  },
  {
   "cell_type": "code",
   "execution_count": 91,
   "id": "20ef94ba-29ff-4566-8796-b584bd78ddb3",
   "metadata": {},
   "outputs": [
    {
     "ename": "KeyError",
     "evalue": "'Instagram'",
     "output_type": "error",
     "traceback": [
      "\u001b[1;31m---------------------------------------------------------------------------\u001b[0m",
      "\u001b[1;31mKeyError\u001b[0m                                  Traceback (most recent call last)",
      "Cell \u001b[1;32mIn[91], line 2\u001b[0m\n\u001b[0;32m      1\u001b[0m \u001b[38;5;66;03m#5 remove gives key error whenever the element is not in the set as you can see\u001b[39;00m\n\u001b[1;32m----> 2\u001b[0m it_companies\u001b[38;5;241m.\u001b[39mremove(\u001b[38;5;124m'\u001b[39m\u001b[38;5;124mInstagram\u001b[39m\u001b[38;5;124m'\u001b[39m)\n",
      "\u001b[1;31mKeyError\u001b[0m: 'Instagram'"
     ]
    }
   ],
   "source": [
    "#5 remove gives key error whenever the element is not in the set as you can see\n",
    "it_companies.remove('Instagram')"
   ]
  },
  {
   "cell_type": "code",
   "execution_count": 93,
   "id": "2fad9564-72ad-4f04-adfb-5207a23f0912",
   "metadata": {},
   "outputs": [],
   "source": [
    "# now see the discard does not give any error if element is not found\n",
    "it_companies.discard('Insta')"
   ]
  },
  {
   "cell_type": "code",
   "execution_count": 95,
   "id": "2cac8ec2-df78-4887-8b49-c71cb352ff9b",
   "metadata": {},
   "outputs": [
    {
     "name": "stdout",
     "output_type": "stream",
     "text": [
      "{19, 20, 22, 24, 25, 26, 27, 28}\n"
     ]
    }
   ],
   "source": [
    "#6\n",
    "A = {19, 22, 24, 20, 25, 26}\n",
    "B = {19, 22, 20, 25, 26, 24, 28, 27}\n",
    "print(A|B)"
   ]
  },
  {
   "cell_type": "code",
   "execution_count": 97,
   "id": "87458147-6386-4f48-922a-0f0239395838",
   "metadata": {},
   "outputs": [
    {
     "name": "stdout",
     "output_type": "stream",
     "text": [
      "{19, 20, 22, 24, 25, 26}\n"
     ]
    }
   ],
   "source": [
    "#7\n",
    "print(A&B)"
   ]
  },
  {
   "cell_type": "code",
   "execution_count": 99,
   "id": "f5c457d6-bac1-4b8b-a606-ce24bf0f8435",
   "metadata": {},
   "outputs": [
    {
     "name": "stdout",
     "output_type": "stream",
     "text": [
      "Is A subset of B: True\n"
     ]
    }
   ],
   "source": [
    "#8\n",
    "print('Is A subset of B:',A.issubset(B))"
   ]
  },
  {
   "cell_type": "code",
   "execution_count": 101,
   "id": "95910cd8-9880-40c8-b2f5-cfbe927eb722",
   "metadata": {},
   "outputs": [
    {
     "name": "stdout",
     "output_type": "stream",
     "text": [
      "Are A and B disjoint: False\n"
     ]
    }
   ],
   "source": [
    "#9\n",
    "print('Are A and B disjoint:',A.isdisjoint(B))"
   ]
  },
  {
   "cell_type": "code",
   "execution_count": 103,
   "id": "94251ecf-3795-41f5-9480-69ab240f8bf9",
   "metadata": {},
   "outputs": [
    {
     "name": "stdout",
     "output_type": "stream",
     "text": [
      "{19, 20, 22, 24, 25, 26, 27, 28}\n",
      "{19, 20, 22, 24, 25, 26, 27, 28}\n"
     ]
    }
   ],
   "source": [
    "#10\n",
    "print(A|B)\n",
    "print(B|A)"
   ]
  },
  {
   "cell_type": "code",
   "execution_count": 105,
   "id": "147d925e-f386-48b4-a834-b91e9a28e62f",
   "metadata": {},
   "outputs": [
    {
     "name": "stdout",
     "output_type": "stream",
     "text": [
      "{27, 28}\n",
      "{27, 28}\n"
     ]
    }
   ],
   "source": [
    "#11\n",
    "print(A^B)\n",
    "print(B^A)"
   ]
  },
  {
   "cell_type": "code",
   "execution_count": 107,
   "id": "5508e33a-5725-407e-9113-f8dc2fb55aef",
   "metadata": {},
   "outputs": [],
   "source": [
    "#12\n",
    "del A\n",
    "del B\n",
    "#print(A)\n",
    "#print(B)"
   ]
  },
  {
   "cell_type": "code",
   "execution_count": 109,
   "id": "c82da734-c656-4ae8-bb83-b3f018dfe7c3",
   "metadata": {},
   "outputs": [
    {
     "name": "stdout",
     "output_type": "stream",
     "text": [
      "[22, 19, 24, 25, 26, 24, 25, 24]\n",
      "<class 'list'>\n",
      "<class 'set'>\n",
      "[22, 19, 24, 25, 26, 24, 25, 24]\n",
      "{19, 22, 24, 25, 26}\n",
      "8\n",
      "5\n",
      "set length is bigger than list: False\n",
      "list length is bigger than set: True\n"
     ]
    }
   ],
   "source": [
    "#13 Set rmoves the duplicates , that's why length of set becomes less while list can contain duplicates\n",
    "age = [22, 19, 24, 25, 26, 24, 25, 24]\n",
    "print(age)\n",
    "age_set=set(age)\n",
    "print(type(age))\n",
    "print(type(age_set))\n",
    "print(age)\n",
    "print(age_set)\n",
    "print(len(age))\n",
    "print(len(age_set))\n",
    "print('set length is bigger than list:',len(age_set)>len(age))\n",
    "print('list length is bigger than set:',len(age)>len(age_set))"
   ]
  },
  {
   "cell_type": "code",
   "execution_count": 111,
   "id": "1abd43ac-2346-48b8-8d4a-1bda11b22c3f",
   "metadata": {},
   "outputs": [],
   "source": [
    "#14\n",
    "#String:A sequence of characters enclosed within single, double quotes,allows duplicate characters in quotes\n",
    "#List:An ordered collection of items that can havd elements of different data types.Lists are defined using square brackets [], these can be edited as are mutable\n",
    "#Tuple:An ordered collection of items, similar to a list, but defined using parentheses ().These are immutable\n",
    "#Sets:An unordered collection of unique items, defined using curly braces {}.These are mutable itself and allow only immutable items as elemennts."
   ]
  },
  {
   "cell_type": "code",
   "execution_count": null,
   "id": "f2cb632c-f50c-4e0e-8a8f-05e0683cad8b",
   "metadata": {},
   "outputs": [],
   "source": []
  }
 ],
 "metadata": {
  "kernelspec": {
   "display_name": "Python 3 (ipykernel)",
   "language": "python",
   "name": "python3"
  },
  "language_info": {
   "codemirror_mode": {
    "name": "ipython",
    "version": 3
   },
   "file_extension": ".py",
   "mimetype": "text/x-python",
   "name": "python",
   "nbconvert_exporter": "python",
   "pygments_lexer": "ipython3",
   "version": "3.12.4"
  }
 },
 "nbformat": 4,
 "nbformat_minor": 5
}
