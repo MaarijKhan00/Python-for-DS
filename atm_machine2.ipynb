{
 "cells": [
  {
   "cell_type": "code",
   "execution_count": null,
   "id": "31a6dc75-6949-44c4-b934-69a485a0cb12",
   "metadata": {},
   "outputs": [
    {
     "name": "stdin",
     "output_type": "stream",
     "text": [
      "\n",
      "    1.Display Current Balance\n",
      "    2.Deposit Money in account\n",
      "    3.Withdraw money from account\n",
      "    4.Exit Atm\n",
      "     1\n"
     ]
    },
    {
     "name": "stdout",
     "output_type": "stream",
     "text": [
      "Your Current Balance is : 5000\n"
     ]
    }
   ],
   "source": [
    "# atm machine\n",
    "default_amount = 5000\n",
    "while True:\n",
    "    option = input('''\n",
    "    1.Display Current Balance\n",
    "    2.Deposit Money in account\n",
    "    3.Withdraw money from account\n",
    "    4.Exit Atm\n",
    "    ''')\n",
    "    if option == '1':\n",
    "        print('Your Current Balance is :',default_amount)\n",
    "    elif option == '2':\n",
    "        print('Enter positive Amount')\n",
    "        user_deposit = int(input('Enter Amount to deposit:'))\n",
    "        if user_deposit>0:\n",
    "            default_amount+=user_deposit\n",
    "            print('Your new balance is:',default_amount)\n",
    "        else:\n",
    "            print('Please Enter valid positive amount')\n",
    "    elif option == '3':\n",
    "        user_withdraw = int(input('Enter Amount to withdraw:'))\n",
    "        if 0<user_withdraw<default_amount:\n",
    "            default_amount-=user_withdraw\n",
    "            print('Your new balance is:',default_amount)\n",
    "        else:\n",
    "            print('Insufficient Funds')\n",
    "    elif option == '4':\n",
    "        print('Quiting Atm')\n",
    "        break\n",
    "    else:\n",
    "        print('Please Enter Valid Option')"
   ]
  },
  {
   "cell_type": "code",
   "execution_count": null,
   "id": "d9b36b47-13f7-4351-acfe-2b30b76c29a4",
   "metadata": {},
   "outputs": [],
   "source": []
  }
 ],
 "metadata": {
  "kernelspec": {
   "display_name": "Python 3 (ipykernel)",
   "language": "python",
   "name": "python3"
  },
  "language_info": {
   "codemirror_mode": {
    "name": "ipython",
    "version": 3
   },
   "file_extension": ".py",
   "mimetype": "text/x-python",
   "name": "python",
   "nbconvert_exporter": "python",
   "pygments_lexer": "ipython3",
   "version": "3.12.4"
  }
 },
 "nbformat": 4,
 "nbformat_minor": 5
}
