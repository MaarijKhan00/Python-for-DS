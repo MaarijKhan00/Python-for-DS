{
 "cells": [
  {
   "cell_type": "code",
   "execution_count": 8,
   "id": "7cb0f740-7e57-47dc-9a07-f975cc465a78",
   "metadata": {},
   "outputs": [],
   "source": [
    "def welcome():\n",
    "    print('Good Morning, Have a Good Day!')"
   ]
  },
  {
   "cell_type": "code",
   "execution_count": 10,
   "id": "3a752fe0-40e9-421a-8c78-f022fe1c6959",
   "metadata": {},
   "outputs": [
    {
     "name": "stdout",
     "output_type": "stream",
     "text": [
      "Good Morning, Have a Good Day!\n"
     ]
    }
   ],
   "source": [
    "welcome()"
   ]
  },
  {
   "cell_type": "code",
   "execution_count": 16,
   "id": "a8ae4d88-e244-430f-8cf3-2706eb9dbe3a",
   "metadata": {},
   "outputs": [
    {
     "name": "stdin",
     "output_type": "stream",
     "text": [
      "Enter your name: maariij\n"
     ]
    },
    {
     "name": "stdout",
     "output_type": "stream",
     "text": [
      "Good Morning maariij Have a Good Day!\n"
     ]
    }
   ],
   "source": [
    "def welcome(name):\n",
    "    print('Good Morning',name, 'Have a Good Day!')\n",
    "name= input('Enter your name:')\n",
    "welcome(name)"
   ]
  },
  {
   "cell_type": "code",
   "execution_count": 26,
   "id": "b994c8d3-e9b1-45fb-9933-be97195ae8f7",
   "metadata": {},
   "outputs": [],
   "source": [
    "def welcome(name):\n",
    "    name = input('Enter your name:')\n",
    "    print('Good Morning',name, 'Have a Good Day!')"
   ]
  },
  {
   "cell_type": "code",
   "execution_count": 28,
   "id": "82fec0f1-5c25-4f53-b919-e767e9998e7f",
   "metadata": {},
   "outputs": [
    {
     "name": "stdin",
     "output_type": "stream",
     "text": [
      "Enter your name: Ahmed\n"
     ]
    },
    {
     "name": "stdout",
     "output_type": "stream",
     "text": [
      "Good Morning Ahmed Have a Good Day!\n"
     ]
    }
   ],
   "source": [
    "welcome(name)"
   ]
  },
  {
   "cell_type": "code",
   "execution_count": 11,
   "id": "5c0433d6-fe8a-4370-a8f0-da3f3b846d6d",
   "metadata": {},
   "outputs": [],
   "source": [
    "def addition(num1,num2):\n",
    "    print('Enter first number:',num1)\n",
    "    print('Enter second number:',num2)\n",
    "    result = num1+num2\n",
    "    return result"
   ]
  },
  {
   "cell_type": "code",
   "execution_count": 5,
   "id": "2d3543bd-0af5-4236-a6d6-bf24306596db",
   "metadata": {},
   "outputs": [],
   "source": [
    "def addi():\n",
    "    nm1 = float(input('Enter first num:'))\n",
    "    nm2 = float(input('Enter second num:'))\n",
    "    sum = nm1+nm2\n",
    "    return sum"
   ]
  },
  {
   "cell_type": "code",
   "execution_count": 7,
   "id": "7e00249f-c238-4ca3-bb22-42ad1f95025e",
   "metadata": {},
   "outputs": [
    {
     "name": "stdin",
     "output_type": "stream",
     "text": [
      "Enter first num: 5\n",
      "Enter second num: 5\n"
     ]
    },
    {
     "data": {
      "text/plain": [
       "10.0"
      ]
     },
     "execution_count": 7,
     "metadata": {},
     "output_type": "execute_result"
    }
   ],
   "source": [
    "addi()"
   ]
  },
  {
   "cell_type": "code",
   "execution_count": 13,
   "id": "7fdaed18-cab0-4b02-88a8-afb8bda034b0",
   "metadata": {},
   "outputs": [
    {
     "name": "stdout",
     "output_type": "stream",
     "text": [
      "Enter first number: 5\n",
      "Enter second number: 5\n"
     ]
    },
    {
     "data": {
      "text/plain": [
       "10"
      ]
     },
     "execution_count": 13,
     "metadata": {},
     "output_type": "execute_result"
    }
   ],
   "source": [
    "addition(5,5)"
   ]
  },
  {
   "cell_type": "code",
   "execution_count": 15,
   "id": "10027f69-c3c7-4ce3-b0d3-1e0d9e8939a4",
   "metadata": {},
   "outputs": [],
   "source": [
    "def add(num1,num2):\n",
    "    return num1+num2"
   ]
  },
  {
   "cell_type": "code",
   "execution_count": 17,
   "id": "fb50796c-6e55-4ac7-b522-ae1003de42f2",
   "metadata": {},
   "outputs": [
    {
     "data": {
      "text/plain": [
       "10"
      ]
     },
     "execution_count": 17,
     "metadata": {},
     "output_type": "execute_result"
    }
   ],
   "source": [
    "add(5,5)"
   ]
  },
  {
   "cell_type": "code",
   "execution_count": 19,
   "id": "801501e8-a26a-4682-8535-415819925089",
   "metadata": {},
   "outputs": [],
   "source": [
    "def is_even(num):\n",
    "    if num%2==0:\n",
    "        print('num is even')\n",
    "    else:\n",
    "        print('num is odd')"
   ]
  },
  {
   "cell_type": "code",
   "execution_count": 23,
   "id": "6497690c-57ea-40a0-b0d4-48d1b660e8ae",
   "metadata": {},
   "outputs": [
    {
     "name": "stdout",
     "output_type": "stream",
     "text": [
      "num is odd\n"
     ]
    }
   ],
   "source": [
    "is_even(5)"
   ]
  },
  {
   "cell_type": "code",
   "execution_count": 15,
   "id": "ad8de159-2ae9-4fb3-8913-6412b3ce99fd",
   "metadata": {},
   "outputs": [],
   "source": [
    "def is_even():\n",
    "    num = int(input('Enter number to check:'))\n",
    "    if num%2==0:\n",
    "        print('num is even')\n",
    "    else:\n",
    "        print('num is odd')"
   ]
  },
  {
   "cell_type": "code",
   "execution_count": 19,
   "id": "51aa1497-2813-4945-9a86-9d5fd6a81751",
   "metadata": {},
   "outputs": [
    {
     "name": "stdin",
     "output_type": "stream",
     "text": [
      "Enter number to check: 7\n"
     ]
    },
    {
     "name": "stdout",
     "output_type": "stream",
     "text": [
      "num is odd\n"
     ]
    }
   ],
   "source": [
    "is_even()"
   ]
  },
  {
   "cell_type": "code",
   "execution_count": 33,
   "id": "ce0a1a13-3e46-4aef-b13e-26809b8c6e96",
   "metadata": {},
   "outputs": [],
   "source": [
    "def calc():\n",
    "    rad = float(input('Enter radius:'))\n",
    "    area = 2.14*rad**2\n",
    "    circ = 2*2.14*rad\n",
    "    return area,circ"
   ]
  },
  {
   "cell_type": "code",
   "execution_count": 35,
   "id": "dc14464d-0f1c-442e-ab3c-6b3718f3d489",
   "metadata": {},
   "outputs": [
    {
     "name": "stdin",
     "output_type": "stream",
     "text": [
      "Enter radius: 6\n"
     ]
    },
    {
     "data": {
      "text/plain": [
       "(77.04, 25.68)"
      ]
     },
     "execution_count": 35,
     "metadata": {},
     "output_type": "execute_result"
    }
   ],
   "source": [
    "calc()"
   ]
  },
  {
   "cell_type": "code",
   "execution_count": 2,
   "id": "c369a998-6827-4174-a622-ed69bb134bf3",
   "metadata": {},
   "outputs": [],
   "source": [
    "# Local variables always replace global variables"
   ]
  },
  {
   "cell_type": "code",
   "execution_count": 1,
   "id": "e4f52e13-a3c8-494f-8085-3b7059b5f628",
   "metadata": {},
   "outputs": [
    {
     "name": "stdout",
     "output_type": "stream",
     "text": [
      "original list [2, 3, 4, 5]\n"
     ]
    },
    {
     "data": {
      "text/plain": [
       "[4, 9, 16, 25]"
      ]
     },
     "execution_count": 1,
     "metadata": {},
     "output_type": "execute_result"
    }
   ],
   "source": [
    "def list_square(num_list):\n",
    "    temp_list = []\n",
    "    for num in num_list:\n",
    "        temp_list.append(num**2)\n",
    "    return temp_list\n",
    "num_list = [2,3,4,5]\n",
    "print('original list',num_list)\n",
    "list_square(num_list)"
   ]
  },
  {
   "cell_type": "code",
   "execution_count": 17,
   "id": "f7815cd6-063e-4237-b499-d2922a320fb1",
   "metadata": {},
   "outputs": [
    {
     "data": {
      "text/plain": [
       "14"
      ]
     },
     "execution_count": 17,
     "metadata": {},
     "output_type": "execute_result"
    }
   ],
   "source": [
    "def summission_list(num_list):\n",
    "    sum = 0\n",
    "    for i in num_list:\n",
    "        sum = sum+i\n",
    "    return sum\n",
    "num_list = [2,3,4,5]\n",
    "summission_list(num_list)"
   ]
  },
  {
   "cell_type": "code",
   "execution_count": 21,
   "id": "92e6b423-777e-4596-923d-437490351cc7",
   "metadata": {},
   "outputs": [
    {
     "data": {
      "text/plain": [
       "120"
      ]
     },
     "execution_count": 21,
     "metadata": {},
     "output_type": "execute_result"
    }
   ],
   "source": [
    "def pro_tup(num_tup):\n",
    "    prod = 1\n",
    "    for i in num_tup:\n",
    "        prod = prod*i\n",
    "    return prod\n",
    "num_tup = (2,3,4,5)\n",
    "pro_tup(num_tup)"
   ]
  },
  {
   "cell_type": "code",
   "execution_count": 23,
   "id": "4a3112cf-dd7d-48d8-98cc-1a1253f230ac",
   "metadata": {},
   "outputs": [
    {
     "name": "stdout",
     "output_type": "stream",
     "text": [
      "Enter Valid num\n"
     ]
    }
   ],
   "source": [
    "def num_check(user):\n",
    "    if type(user)==int:\n",
    "        if user%2==0:\n",
    "            print('IS EVEN')\n",
    "        else:\n",
    "            print('is odd')\n",
    "    else:\n",
    "        print('Enter Valid num')\n",
    "#user = int(input('Enter number:'))\n",
    "num_check('h')"
   ]
  },
  {
   "cell_type": "code",
   "execution_count": 33,
   "id": "819512d3-11d7-4aad-b293-260f172d9bb7",
   "metadata": {},
   "outputs": [
    {
     "name": "stdout",
     "output_type": "stream",
     "text": [
      "IS EVEN\n",
      "is odd\n",
      "IS EVEN\n",
      "is odd\n",
      "IS EVEN\n",
      "is odd\n",
      "IS EVEN\n",
      "is odd\n",
      "IS EVEN\n",
      "is odd\n"
     ]
    }
   ],
   "source": [
    "for i in range(10,20):\n",
    "    num_check(i)"
   ]
  },
  {
   "cell_type": "code",
   "execution_count": null,
   "id": "c66b43b3-2256-4440-8f01-3d382b15e9a9",
   "metadata": {},
   "outputs": [],
   "source": []
  }
 ],
 "metadata": {
  "kernelspec": {
   "display_name": "Python 3 (ipykernel)",
   "language": "python",
   "name": "python3"
  },
  "language_info": {
   "codemirror_mode": {
    "name": "ipython",
    "version": 3
   },
   "file_extension": ".py",
   "mimetype": "text/x-python",
   "name": "python",
   "nbconvert_exporter": "python",
   "pygments_lexer": "ipython3",
   "version": "3.12.4"
  }
 },
 "nbformat": 4,
 "nbformat_minor": 5
}
