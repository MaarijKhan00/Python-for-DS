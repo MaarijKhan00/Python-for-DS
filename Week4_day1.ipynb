{
 "cells": [
  {
   "cell_type": "code",
   "execution_count": 1,
   "id": "fb6da3ab-185b-49e0-82b3-4f622ca6e536",
   "metadata": {},
   "outputs": [],
   "source": [
    "# dictionary\n",
    "# dictionary is collection of ordered, changeable and don't allow duplicates,\n",
    "# stores data values in key: value pairs {:}\n",
    "# key values are imutable and unique"
   ]
  },
  {
   "cell_type": "code",
   "execution_count": 2,
   "id": "464c152a-4c97-4238-9479-4332d907e627",
   "metadata": {},
   "outputs": [
    {
     "name": "stdout",
     "output_type": "stream",
     "text": [
      "{'Name': 'Maarij', 'Gender': 'Male', 'Skills': ['Data Science', 'ML', 'AI'], 'Age': '24'}\n"
     ]
    }
   ],
   "source": [
    "person = { 'Name' : 'Maarij',\n",
    "           'Gender' : 'Male',\n",
    "           'Skills' : ['Data Science','ML','AI'],\n",
    "           'Age' : '24'}\n",
    "print(person)"
   ]
  },
  {
   "cell_type": "code",
   "execution_count": 3,
   "id": "91362dba-216d-4d0a-b746-adc3e9dc55f6",
   "metadata": {},
   "outputs": [
    {
     "data": {
      "text/plain": [
       "dict_keys(['Name', 'Gender', 'Skills', 'Age'])"
      ]
     },
     "execution_count": 3,
     "metadata": {},
     "output_type": "execute_result"
    }
   ],
   "source": [
    "# keys of dictionary\n",
    "person.keys()"
   ]
  },
  {
   "cell_type": "code",
   "execution_count": 4,
   "id": "cb6a48d9-d88b-4c27-924d-d022d81e56ff",
   "metadata": {},
   "outputs": [
    {
     "data": {
      "text/plain": [
       "dict_values(['Maarij', 'Male', ['Data Science', 'ML', 'AI'], '24'])"
      ]
     },
     "execution_count": 4,
     "metadata": {},
     "output_type": "execute_result"
    }
   ],
   "source": [
    "# values of dictionary\n",
    "person.values()"
   ]
  },
  {
   "cell_type": "code",
   "execution_count": 5,
   "id": "d3614f2a-c601-4ac7-9a0a-3563e1c60d3e",
   "metadata": {},
   "outputs": [
    {
     "data": {
      "text/plain": [
       "dict_items([('Name', 'Maarij'), ('Gender', 'Male'), ('Skills', ['Data Science', 'ML', 'AI']), ('Age', '24')])"
      ]
     },
     "execution_count": 5,
     "metadata": {},
     "output_type": "execute_result"
    }
   ],
   "source": [
    "# keys and values together\n",
    "person.items()"
   ]
  },
  {
   "cell_type": "code",
   "execution_count": 6,
   "id": "cb46c378-dd42-4ac4-b25c-b99ef6b1779b",
   "metadata": {},
   "outputs": [
    {
     "data": {
      "text/plain": [
       "['Data Science', 'ML', 'AI']"
      ]
     },
     "execution_count": 6,
     "metadata": {},
     "output_type": "execute_result"
    }
   ],
   "source": [
    "# get specific key value\n",
    "person.get('Skills')"
   ]
  },
  {
   "cell_type": "code",
   "execution_count": 7,
   "id": "fad06ae3-2d4c-4f69-9d18-fa6380572928",
   "metadata": {},
   "outputs": [
    {
     "data": {
      "text/plain": [
       "'24'"
      ]
     },
     "execution_count": 7,
     "metadata": {},
     "output_type": "execute_result"
    }
   ],
   "source": [
    "person.get('Age')"
   ]
  },
  {
   "cell_type": "code",
   "execution_count": 8,
   "id": "91ee1801-efcb-4678-8011-1c684824fe13",
   "metadata": {},
   "outputs": [
    {
     "name": "stdout",
     "output_type": "stream",
     "text": [
      "{'Name': 'Maarij', 'Gender': 'Male', 'Marks': {'Python': 40, 'JS': 50, 'Java': 55}, 'Age': '24'}\n"
     ]
    }
   ],
   "source": [
    "person1 = { 'Name' : 'Maarij',\n",
    "           'Gender' : 'Male',\n",
    "           'Marks' : {'Python': 40,'JS': 50,'Java': 55},\n",
    "           'Age' : '24'}\n",
    "print(person1)"
   ]
  },
  {
   "cell_type": "code",
   "execution_count": 14,
   "id": "ceee99f2-99c6-4175-a775-3bd620f5b688",
   "metadata": {},
   "outputs": [
    {
     "ename": "AttributeError",
     "evalue": "'dict' object has no attribute 'add'",
     "output_type": "error",
     "traceback": [
      "\u001b[1;31m---------------------------------------------------------------------------\u001b[0m",
      "\u001b[1;31mAttributeError\u001b[0m                            Traceback (most recent call last)",
      "Cell \u001b[1;32mIn[14], line 1\u001b[0m\n\u001b[1;32m----> 1\u001b[0m person\u001b[38;5;241m.\u001b[39madd(person1)\n",
      "\u001b[1;31mAttributeError\u001b[0m: 'dict' object has no attribute 'add'"
     ]
    }
   ],
   "source": [
    "person.add(person1)"
   ]
  },
  {
   "cell_type": "code",
   "execution_count": null,
   "id": "32884615-07ee-41b6-af8f-4f5290beab0f",
   "metadata": {},
   "outputs": [],
   "source": [
    "person1.get('Marks')(\"Java\")"
   ]
  },
  {
   "cell_type": "code",
   "execution_count": null,
   "id": "66647329-d804-4263-9616-08ca0fca6695",
   "metadata": {},
   "outputs": [],
   "source": [
    "person1.get('Marks')[0]"
   ]
  },
  {
   "cell_type": "code",
   "execution_count": null,
   "id": "5af72705-5995-4523-90d8-715282dcf1bf",
   "metadata": {},
   "outputs": [],
   "source": [
    "# dictionary always looks with the key not with index\n",
    "person1.get('Marks')['Java']"
   ]
  },
  {
   "cell_type": "code",
   "execution_count": null,
   "id": "1b24c69d-ec76-4078-a6e3-a8a1f1520456",
   "metadata": {},
   "outputs": [],
   "source": [
    "person1.get('Marks')['Java','Gender']"
   ]
  },
  {
   "cell_type": "code",
   "execution_count": null,
   "id": "fe258357-8270-40c6-a57d-83db81f57cc8",
   "metadata": {},
   "outputs": [],
   "source": [
    "print(len(person))\n",
    "print(len(person1))"
   ]
  },
  {
   "cell_type": "code",
   "execution_count": null,
   "id": "00b35bbd-6685-4aef-985c-299376d8bbcc",
   "metadata": {},
   "outputs": [],
   "source": [
    "person+person1"
   ]
  },
  {
   "cell_type": "code",
   "execution_count": null,
   "id": "0bb54a9e-8165-4286-bf82-51d307df9cfe",
   "metadata": {},
   "outputs": [],
   "source": [
    "# you can see no duplicates in following, and made unique values\n",
    "person.update(person1)"
   ]
  },
  {
   "cell_type": "code",
   "execution_count": null,
   "id": "81f67dcc-b01c-4320-bd7b-f69a7ef6d204",
   "metadata": {},
   "outputs": [],
   "source": [
    "print(person)"
   ]
  },
  {
   "cell_type": "code",
   "execution_count": null,
   "id": "7ec526b4-82ec-4363-b2c3-289d5e21befe",
   "metadata": {},
   "outputs": [],
   "source": [
    "person.append()"
   ]
  },
  {
   "cell_type": "code",
   "execution_count": 25,
   "id": "6a05f9b7-f711-457e-92aa-7874be65da07",
   "metadata": {},
   "outputs": [],
   "source": [
    "person.get('Marks')"
   ]
  },
  {
   "cell_type": "code",
   "execution_count": 27,
   "id": "cdeee657-7404-4bf7-8635-b2b3e998c17b",
   "metadata": {},
   "outputs": [],
   "source": [
    "# update contains permanent changes"
   ]
  },
  {
   "cell_type": "code",
   "execution_count": 29,
   "id": "71e1b2af-9e5d-4154-8677-2260dfb64993",
   "metadata": {},
   "outputs": [],
   "source": [
    "# addng org name"
   ]
  },
  {
   "cell_type": "code",
   "execution_count": 31,
   "id": "ff138ac7-49f7-449d-a1ce-9bc258468ba2",
   "metadata": {},
   "outputs": [
    {
     "name": "stdout",
     "output_type": "stream",
     "text": [
      "{'Name': 'Maarij', 'Gender': 'Male', 'Skills': ['Data Science', 'ML', 'AI'], 'Age': '24', 'Organization': 'Institute of IT'}\n"
     ]
    }
   ],
   "source": [
    "person['Organization']= 'Institute of IT'\n",
    "print(person)"
   ]
  },
  {
   "cell_type": "code",
   "execution_count": 33,
   "id": "b0865803-cd0f-4ba9-860d-dbbe48ee3cc0",
   "metadata": {},
   "outputs": [],
   "source": [
    "# if key is unique then update will add up things , like gender and gen ... if both keys are same then it will overwrite the value you wanted at time of update "
   ]
  },
  {
   "cell_type": "code",
   "execution_count": 35,
   "id": "6e661f74-4b3d-4c44-9236-efdc364fbf3a",
   "metadata": {},
   "outputs": [
    {
     "name": "stdout",
     "output_type": "stream",
     "text": [
      "{'Name': 'Maarij', 'Gender': 'Male', 'Skills': ['Data Science', 'ML', 'AI'], 'Age': '24', 'Organization': 'Institute of IT', 'Roll no': 32, 'CNIC': 32404}\n"
     ]
    }
   ],
   "source": [
    "# when you want to add more values\n",
    "person.update({'Roll no':32, 'CNIC': 32404})\n",
    "print(person)"
   ]
  },
  {
   "cell_type": "code",
   "execution_count": 37,
   "id": "4f849a72-013b-40ea-b827-3a64f631aba9",
   "metadata": {},
   "outputs": [
    {
     "data": {
      "text/plain": [
       "dict_values(['Maarij', 'Male', ['Data Science', 'ML', 'AI'], '24', 'Institute of IT', 32, 32404])"
      ]
     },
     "execution_count": 37,
     "metadata": {},
     "output_type": "execute_result"
    }
   ],
   "source": [
    "person.values()"
   ]
  },
  {
   "cell_type": "code",
   "execution_count": 39,
   "id": "97dc6d11-8e0b-420e-946b-a13b0cc14f72",
   "metadata": {},
   "outputs": [
    {
     "data": {
      "text/plain": [
       "['Age', 'CNIC', 'Gender', 'Name', 'Organization', 'Roll no', 'Skills']"
      ]
     },
     "execution_count": 39,
     "metadata": {},
     "output_type": "execute_result"
    }
   ],
   "source": [
    "sorted(person)"
   ]
  },
  {
   "cell_type": "code",
   "execution_count": 41,
   "id": "ade1f6d1-11fe-45f7-8761-226c4d1e93fe",
   "metadata": {},
   "outputs": [
    {
     "ename": "TypeError",
     "evalue": "pop expected at least 1 argument, got 0",
     "output_type": "error",
     "traceback": [
      "\u001b[1;31m---------------------------------------------------------------------------\u001b[0m",
      "\u001b[1;31mTypeError\u001b[0m                                 Traceback (most recent call last)",
      "Cell \u001b[1;32mIn[41], line 1\u001b[0m\n\u001b[1;32m----> 1\u001b[0m person\u001b[38;5;241m.\u001b[39mpop()\n",
      "\u001b[1;31mTypeError\u001b[0m: pop expected at least 1 argument, got 0"
     ]
    }
   ],
   "source": [
    "person.pop()"
   ]
  },
  {
   "cell_type": "code",
   "execution_count": 43,
   "id": "e5ac2b01-80b0-40ba-bd45-798fca148e27",
   "metadata": {},
   "outputs": [],
   "source": [
    "# in case of dict , we have to give key"
   ]
  },
  {
   "cell_type": "code",
   "execution_count": 45,
   "id": "6de53c46-afca-4d8f-914e-813295c5e576",
   "metadata": {},
   "outputs": [
    {
     "name": "stdout",
     "output_type": "stream",
     "text": [
      "{'Name': 'Maarij', 'Skills': ['Data Science', 'ML', 'AI'], 'Age': '24', 'Organization': 'Institute of IT', 'Roll no': 32, 'CNIC': 32404}\n"
     ]
    }
   ],
   "source": [
    "person.pop('Gender')\n",
    "print(person)"
   ]
  },
  {
   "cell_type": "code",
   "execution_count": 47,
   "id": "f57f4a48-dee6-4804-a082-c89557488c74",
   "metadata": {},
   "outputs": [
    {
     "data": {
      "text/plain": [
       "('CNIC', 32404)"
      ]
     },
     "execution_count": 47,
     "metadata": {},
     "output_type": "execute_result"
    }
   ],
   "source": [
    "# removes last item\n",
    "person.popitem()"
   ]
  },
  {
   "cell_type": "code",
   "execution_count": 49,
   "id": "9cbfec9f-3ab5-4e16-8c4a-78b9c00f5f47",
   "metadata": {},
   "outputs": [
    {
     "name": "stdout",
     "output_type": "stream",
     "text": [
      "{'Name': 'Maarij', 'Skills': ['Data Science', 'ML', 'AI'], 'Age': '24', 'Organization': 'Institute of IT', 'Roll no': 32}\n"
     ]
    }
   ],
   "source": [
    "print(person)"
   ]
  },
  {
   "cell_type": "code",
   "execution_count": 51,
   "id": "151e3578-09e1-4129-8fec-f22a6e563f51",
   "metadata": {},
   "outputs": [
    {
     "data": {
      "text/plain": [
       "{'N': None, 'a': None, 'm': None, 'e': None}"
      ]
     },
     "execution_count": 51,
     "metadata": {},
     "output_type": "execute_result"
    }
   ],
   "source": [
    "# breaks the key and repeats the value\n",
    "person.fromkeys('Name')\n"
   ]
  },
  {
   "cell_type": "code",
   "execution_count": 53,
   "id": "71a2595b-b7dd-49f2-b5a1-8a97c78b2bd3",
   "metadata": {},
   "outputs": [
    {
     "name": "stdout",
     "output_type": "stream",
     "text": [
      "{'Name': 'Maarij', 'Skills': ['Data Science', 'ML', 'AI'], 'Age': '24', 'Organization': 'Institute of IT', 'Roll no': 32, 'Profession': 'Student'}\n"
     ]
    }
   ],
   "source": [
    "person['Profession'] = 'Student'\n",
    "print(person)"
   ]
  },
  {
   "cell_type": "code",
   "execution_count": 55,
   "id": "395e59cf-7ee3-4683-baa8-01a2a621f9f2",
   "metadata": {},
   "outputs": [],
   "source": [
    "person.clear()"
   ]
  },
  {
   "cell_type": "code",
   "execution_count": 57,
   "id": "8b2af7ba-2533-4d8b-8f78-56daae8863b2",
   "metadata": {},
   "outputs": [
    {
     "name": "stdout",
     "output_type": "stream",
     "text": [
      "{}\n"
     ]
    }
   ],
   "source": [
    "print(person)"
   ]
  },
  {
   "cell_type": "code",
   "execution_count": 59,
   "id": "59a6e3b7-2c1e-49b1-9771-024b6e410f15",
   "metadata": {},
   "outputs": [],
   "source": [
    "del person"
   ]
  },
  {
   "cell_type": "code",
   "execution_count": 61,
   "id": "35d102fe-c36b-4f76-a122-d3422dd57b24",
   "metadata": {},
   "outputs": [
    {
     "ename": "NameError",
     "evalue": "name 'person' is not defined",
     "output_type": "error",
     "traceback": [
      "\u001b[1;31m---------------------------------------------------------------------------\u001b[0m",
      "\u001b[1;31mNameError\u001b[0m                                 Traceback (most recent call last)",
      "Cell \u001b[1;32mIn[61], line 1\u001b[0m\n\u001b[1;32m----> 1\u001b[0m \u001b[38;5;28mprint\u001b[39m(person)\n",
      "\u001b[1;31mNameError\u001b[0m: name 'person' is not defined"
     ]
    }
   ],
   "source": [
    "print(person)"
   ]
  },
  {
   "cell_type": "code",
   "execution_count": 63,
   "id": "106e4c89-188c-40ae-9df8-9f46e7d3093b",
   "metadata": {},
   "outputs": [
    {
     "data": {
      "text/plain": [
       "{'brand': 'Mustang', 'year': '1964', 'model': 'bronco'}"
      ]
     },
     "execution_count": 63,
     "metadata": {},
     "output_type": "execute_result"
    }
   ],
   "source": [
    "car = {\n",
    "    'brand' : 'Mustang',\n",
    "\n",
    "    'year' : '1964'\n",
    "}\n",
    "x = car.setdefault('model','bronco')\n",
    "car"
   ]
  },
  {
   "cell_type": "code",
   "execution_count": 84,
   "id": "fee086b4-12f7-484d-894c-c5854010fad4",
   "metadata": {},
   "outputs": [
    {
     "data": {
      "text/plain": [
       "{'brand': 'Mustang', 'model': 'xyz', 'year': 1964}"
      ]
     },
     "execution_count": 84,
     "metadata": {},
     "output_type": "execute_result"
    }
   ],
   "source": [
    "car = {\n",
    "    'brand' : 'Mustang',\n",
    "    'model' : 'xyz',\n",
    "    'year' : 1964 \n",
    "}\n",
    "x = car.setdefault('model','bronco')\n",
    "car"
   ]
  },
  {
   "cell_type": "code",
   "execution_count": 70,
   "id": "283a9cea-e816-41fa-a223-fc762f6c8840",
   "metadata": {},
   "outputs": [
    {
     "name": "stdout",
     "output_type": "stream",
     "text": [
      "['__doc__', '__loader__', '__name__', '__package__', '__spec__', 'acos', 'acosh', 'asin', 'asinh', 'atan', 'atan2', 'atanh', 'cbrt', 'ceil', 'comb', 'copysign', 'cos', 'cosh', 'degrees', 'dist', 'e', 'erf', 'erfc', 'exp', 'exp2', 'expm1', 'fabs', 'factorial', 'floor', 'fmod', 'frexp', 'fsum', 'gamma', 'gcd', 'hypot', 'inf', 'isclose', 'isfinite', 'isinf', 'isnan', 'isqrt', 'lcm', 'ldexp', 'lgamma', 'log', 'log10', 'log1p', 'log2', 'modf', 'nan', 'nextafter', 'perm', 'pi', 'pow', 'prod', 'radians', 'remainder', 'sin', 'sinh', 'sqrt', 'sumprod', 'tan', 'tanh', 'tau', 'trunc', 'ulp']\n"
     ]
    }
   ],
   "source": [
    "import math\n",
    "print(dir(math))"
   ]
  },
  {
   "cell_type": "code",
   "execution_count": 72,
   "id": "fcf2ec5d-b4fd-4d8a-8202-f292be18f1b0",
   "metadata": {},
   "outputs": [
    {
     "data": {
      "text/plain": [
       "3"
      ]
     },
     "execution_count": 72,
     "metadata": {},
     "output_type": "execute_result"
    }
   ],
   "source": [
    "math.floor(3.5)"
   ]
  },
  {
   "cell_type": "code",
   "execution_count": 74,
   "id": "1e10a194-3a6c-48c8-93ed-518e3b4597ba",
   "metadata": {},
   "outputs": [
    {
     "data": {
      "text/plain": [
       "4"
      ]
     },
     "execution_count": 74,
     "metadata": {},
     "output_type": "execute_result"
    }
   ],
   "source": [
    "math.ceil(3.5)"
   ]
  },
  {
   "cell_type": "code",
   "execution_count": 76,
   "id": "fcb0fb5e-0bb9-42bf-ae01-703e98549509",
   "metadata": {},
   "outputs": [
    {
     "data": {
      "text/plain": [
       "4.0"
      ]
     },
     "execution_count": 76,
     "metadata": {},
     "output_type": "execute_result"
    }
   ],
   "source": [
    "math.sqrt(16)"
   ]
  },
  {
   "cell_type": "code",
   "execution_count": 78,
   "id": "a1ad9976-0674-48af-b067-947391ff7395",
   "metadata": {},
   "outputs": [
    {
     "data": {
      "text/plain": [
       "0.0"
      ]
     },
     "execution_count": 78,
     "metadata": {},
     "output_type": "execute_result"
    }
   ],
   "source": [
    "math.sin(0)"
   ]
  },
  {
   "cell_type": "code",
   "execution_count": 86,
   "id": "4c258ade-904a-4895-acae-4b2e5cd7e387",
   "metadata": {},
   "outputs": [
    {
     "data": {
      "text/plain": [
       "8.0"
      ]
     },
     "execution_count": 86,
     "metadata": {},
     "output_type": "execute_result"
    }
   ],
   "source": [
    "math.pow(2,3)"
   ]
  },
  {
   "cell_type": "code",
   "execution_count": 88,
   "id": "d793d761-ac5f-4ba4-9df9-774cba89cd59",
   "metadata": {},
   "outputs": [
    {
     "data": {
      "text/plain": [
       "720"
      ]
     },
     "execution_count": 88,
     "metadata": {},
     "output_type": "execute_result"
    }
   ],
   "source": [
    "math.factorial(6)"
   ]
  },
  {
   "cell_type": "code",
   "execution_count": 92,
   "id": "b261f6ba-8e11-4b0d-b415-e980e0ce01e5",
   "metadata": {},
   "outputs": [
    {
     "name": "stdout",
     "output_type": "stream",
     "text": [
      "['AddPackagePath', 'Module', 'ModuleFinder', 'ReplacePackage', '_C_BUILTIN', '_C_EXTENSION', '_PKG_DIRECTORY', '_PY_COMPILED', '_PY_FROZEN', '_PY_SOURCE', '_SEARCH_ERROR', '__builtins__', '__cached__', '__doc__', '__file__', '__loader__', '__name__', '__package__', '__spec__', '_find_module', 'dis', 'importlib', 'io', 'marshal', 'os', 'packagePathMap', 'replacePackageMap', 'sys', 'test']\n"
     ]
    }
   ],
   "source": [
    "import modulefinder\n",
    "print(dir(modulefinder))"
   ]
  },
  {
   "cell_type": "code",
   "execution_count": 94,
   "id": "fe519fb8-881e-4dc5-a7a4-5f65497a0bd2",
   "metadata": {},
   "outputs": [
    {
     "name": "stdout",
     "output_type": "stream",
     "text": [
      "['__all__', '__builtins__', '__cached__', '__doc__', '__file__', '__loader__', '__name__', '__package__', '__spec__', 'iskeyword', 'issoftkeyword', 'kwlist', 'softkwlist']\n"
     ]
    }
   ],
   "source": [
    "import keyword\n",
    "print(dir(keyword))"
   ]
  },
  {
   "cell_type": "code",
   "execution_count": 96,
   "id": "075119cc-f3e4-4046-8adc-6f3c660a616c",
   "metadata": {},
   "outputs": [
    {
     "name": "stdout",
     "output_type": "stream",
     "text": [
      "['BPF', 'LOG4', 'NV_MAGICCONST', 'RECIP_BPF', 'Random', 'SG_MAGICCONST', 'SystemRandom', 'TWOPI', '_ONE', '_Sequence', '__all__', '__builtins__', '__cached__', '__doc__', '__file__', '__loader__', '__name__', '__package__', '__spec__', '_accumulate', '_acos', '_bisect', '_ceil', '_cos', '_e', '_exp', '_fabs', '_floor', '_index', '_inst', '_isfinite', '_lgamma', '_log', '_log2', '_os', '_pi', '_random', '_repeat', '_sha512', '_sin', '_sqrt', '_test', '_test_generator', '_urandom', '_warn', 'betavariate', 'binomialvariate', 'choice', 'choices', 'expovariate', 'gammavariate', 'gauss', 'getrandbits', 'getstate', 'lognormvariate', 'normalvariate', 'paretovariate', 'randbytes', 'randint', 'random', 'randrange', 'sample', 'seed', 'setstate', 'shuffle', 'triangular', 'uniform', 'vonmisesvariate', 'weibullvariate']\n"
     ]
    }
   ],
   "source": [
    "import random\n",
    "print(dir(random))"
   ]
  },
  {
   "cell_type": "code",
   "execution_count": 104,
   "id": "4075da44-e073-4d5d-9a62-31b4560fcdfc",
   "metadata": {},
   "outputs": [
    {
     "data": {
      "text/plain": [
       "4"
      ]
     },
     "execution_count": 104,
     "metadata": {},
     "output_type": "execute_result"
    }
   ],
   "source": [
    "# CALLIng random integer from start count to end count\n",
    "random.randint(1,5)"
   ]
  },
  {
   "cell_type": "code",
   "execution_count": 114,
   "id": "7d04ce88-2370-49bc-a7db-2c925707831b",
   "metadata": {},
   "outputs": [
    {
     "name": "stdout",
     "output_type": "stream",
     "text": [
      "<class 'list'>\n",
      "['Apple', 'Banana', 'Kiwi', 'Mango', 'Melon']\n"
     ]
    }
   ],
   "source": [
    "L1 = ['Apple','Banana','Kiwi','Mango','Melon']\n",
    "print(type(L1))\n",
    "print(L1)"
   ]
  },
  {
   "cell_type": "code",
   "execution_count": 116,
   "id": "e54246ad-db0b-4e67-8433-2c23e4aa3144",
   "metadata": {},
   "outputs": [],
   "source": [
    "T1 = ('Maarij','Irfan','Khan','Hamza','Ahmad')"
   ]
  },
  {
   "cell_type": "code",
   "execution_count": 118,
   "id": "986f3dd9-bcfa-40eb-b739-70a96ff28986",
   "metadata": {},
   "outputs": [
    {
     "name": "stdout",
     "output_type": "stream",
     "text": [
      "('Maarij', 'Irfan', 'Khan', 'Hamza', 'Ahmad')\n",
      "<class 'tuple'>\n"
     ]
    }
   ],
   "source": [
    "print(T1)\n",
    "print(type(T1))"
   ]
  },
  {
   "cell_type": "code",
   "execution_count": 120,
   "id": "1924ab16-6d4e-430d-960e-521311d8907a",
   "metadata": {},
   "outputs": [
    {
     "name": "stdout",
     "output_type": "stream",
     "text": [
      "{1, 2, 3, 4, 5}\n",
      "<class 'set'>\n"
     ]
    }
   ],
   "source": [
    "S1 = {1,2,3,4,5,5}\n",
    "print(S1)\n",
    "print(type(S1))"
   ]
  },
  {
   "cell_type": "code",
   "execution_count": 122,
   "id": "9459ffec-e679-4e91-8dff-0f5799735241",
   "metadata": {},
   "outputs": [
    {
     "name": "stdout",
     "output_type": "stream",
     "text": [
      "{'Name': 'Khan', 'Age': 23}\n",
      "<class 'dict'>\n"
     ]
    }
   ],
   "source": [
    "D1 = {'Name':'Khan','Age':23}\n",
    "print(D1)\n",
    "print(type(D1))"
   ]
  }
 ],
 "metadata": {
  "kernelspec": {
   "display_name": "Python 3 (ipykernel)",
   "language": "python",
   "name": "python3"
  },
  "language_info": {
   "codemirror_mode": {
    "name": "ipython",
    "version": 3
   },
   "file_extension": ".py",
   "mimetype": "text/x-python",
   "name": "python",
   "nbconvert_exporter": "python",
   "pygments_lexer": "ipython3",
   "version": "3.12.4"
  }
 },
 "nbformat": 4,
 "nbformat_minor": 5
}
