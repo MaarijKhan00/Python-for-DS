{
 "cells": [
  {
   "cell_type": "code",
   "execution_count": 3,
   "id": "e5dc2e83-a49c-4e70-b21b-29e912d33e2a",
   "metadata": {},
   "outputs": [
    {
     "name": "stdin",
     "output_type": "stream",
     "text": [
      "Enter your number: 9\n"
     ]
    },
    {
     "name": "stdout",
     "output_type": "stream",
     "text": [
      "9 = is divisible by 3\n"
     ]
    }
   ],
   "source": [
    "# Maarij Irfan\n",
    "#1\n",
    "user_inp = int(input('Enter your number:'))\n",
    "if user_inp%3==0:\n",
    "    print(user_inp,'= is divisible by 3')\n",
    "else:\n",
    "    print(user_inp,'= is not divisible by 3')"
   ]
  },
  {
   "cell_type": "code",
   "execution_count": 7,
   "id": "d93cab66-1f80-4684-9e12-305fad98a528",
   "metadata": {},
   "outputs": [
    {
     "name": "stdin",
     "output_type": "stream",
     "text": [
      "Enter your number: 9\n"
     ]
    },
    {
     "name": "stdout",
     "output_type": "stream",
     "text": [
      "9 : is odd number\n"
     ]
    }
   ],
   "source": [
    "#2\n",
    "user_inp = int(input('Enter your number:'))\n",
    "if user_inp%2==0:\n",
    "    print(user_inp,': is even number')\n",
    "else:\n",
    "    print(user_inp,': is odd number')"
   ]
  },
  {
   "cell_type": "code",
   "execution_count": 19,
   "id": "4cd2403f-03fa-468f-afc2-33cbdeb96af2",
   "metadata": {},
   "outputs": [
    {
     "name": "stdin",
     "output_type": "stream",
     "text": [
      "Enter your number: -1\n"
     ]
    },
    {
     "name": "stdout",
     "output_type": "stream",
     "text": [
      "invalid age\n"
     ]
    }
   ],
   "source": [
    "#3\n",
    "user_inp = int(input('Enter your number:'))\n",
    "if user_inp>=18:\n",
    "    print(user_inp,': Old enough')\n",
    "elif 0<user_inp<18:\n",
    "    print(user_inp,': Too young')\n",
    "else:\n",
    "    print('invalid age')"
   ]
  },
  {
   "cell_type": "code",
   "execution_count": 27,
   "id": "00d99812-0a03-4ec2-a9d7-a30193babaa9",
   "metadata": {},
   "outputs": [
    {
     "name": "stdin",
     "output_type": "stream",
     "text": [
      "Enter your name: maarij\n"
     ]
    },
    {
     "name": "stdout",
     "output_type": "stream",
     "text": [
      "maarij ...hey! Good Morning!\n"
     ]
    }
   ],
   "source": [
    "#4\n",
    "name = input('Enter your name:')\n",
    "if name == 'maarij':\n",
    "    print(name,'...hey! Good Morning!')\n",
    "else:\n",
    "    exit"
   ]
  },
  {
   "cell_type": "code",
   "execution_count": 29,
   "id": "0a814de5-35c5-4105-af29-c2cd2e76da1a",
   "metadata": {},
   "outputs": [
    {
     "name": "stdin",
     "output_type": "stream",
     "text": [
      "Enter the year: 2020\n"
     ]
    },
    {
     "name": "stdout",
     "output_type": "stream",
     "text": [
      "2020 : is leap year\n"
     ]
    }
   ],
   "source": [
    "#5\n",
    "year = int(input('Enter the year:'))\n",
    "if (year%4==0 and year%100!=0)or(year%400==0):\n",
    "    print(year,': is leap year')\n",
    "else:\n",
    "    print(year,': is not leap year')"
   ]
  },
  {
   "cell_type": "code",
   "execution_count": 31,
   "id": "9c6a980f-ad7b-42e5-bdf2-c8fc968c15b2",
   "metadata": {},
   "outputs": [
    {
     "name": "stdin",
     "output_type": "stream",
     "text": [
      "Enter first integer: 20\n",
      "Enter second integer: 40\n"
     ]
    },
    {
     "name": "stdout",
     "output_type": "stream",
     "text": [
      "40 : is greater\n"
     ]
    }
   ],
   "source": [
    "#6\n",
    "num1 = int(input('Enter first integer:'))\n",
    "num2 = int(input('Enter second integer:'))\n",
    "if num1>num2:\n",
    "    print(num1,': is greater')\n",
    "elif num1<num2:\n",
    "    print(num2,': is greater')\n",
    "else:\n",
    "    print('Both integers are equal')"
   ]
  },
  {
   "cell_type": "code",
   "execution_count": 39,
   "id": "78bc6f64-96ef-4fd8-a48c-0fe767b19c80",
   "metadata": {},
   "outputs": [
    {
     "name": "stdin",
     "output_type": "stream",
     "text": [
      "Enter your number: 7\n"
     ]
    },
    {
     "name": "stdout",
     "output_type": "stream",
     "text": [
      "7 is positive\n"
     ]
    }
   ],
   "source": [
    "#7\n",
    "user_inp = int(input('Enter your number:'))\n",
    "if user_inp>0:\n",
    "    print(user_inp,'is positive')\n",
    "elif user_inp<0:\n",
    "    print(user_inp,'is negative')\n",
    "else:\n",
    "    print('number is zero')\n",
    "    "
   ]
  },
  {
   "cell_type": "code",
   "execution_count": 43,
   "id": "d37078c1-1ac1-4dd3-ba35-86d35bac00fb",
   "metadata": {},
   "outputs": [
    {
     "name": "stdin",
     "output_type": "stream",
     "text": [
      "Enter a character: o\n"
     ]
    },
    {
     "name": "stdout",
     "output_type": "stream",
     "text": [
      "o is a vowel\n"
     ]
    }
   ],
   "source": [
    "#8\n",
    "char = input('Enter a character:').lower()\n",
    "if char in 'aeiou':\n",
    "    print(char,'is a vowel')\n",
    "else:\n",
    "    print('False')"
   ]
  },
  {
   "cell_type": "code",
   "execution_count": 51,
   "id": "778519e0-ee50-4ea7-a17c-786e1e1c50dd",
   "metadata": {},
   "outputs": [
    {
     "name": "stdin",
     "output_type": "stream",
     "text": [
      "Enter your age: 30\n"
     ]
    },
    {
     "name": "stdout",
     "output_type": "stream",
     "text": [
      "old enough\n"
     ]
    }
   ],
   "source": [
    "#9\n",
    "age = int(input('Enter your age:'))\n",
    "voteable= 'old enough' if age>18 else 'too young'\n",
    "print(voteable)"
   ]
  },
  {
   "cell_type": "code",
   "execution_count": 55,
   "id": "ff4aeb7d-08e5-497b-9215-99a615e4d172",
   "metadata": {},
   "outputs": [
    {
     "name": "stdin",
     "output_type": "stream",
     "text": [
      "Please enter your password: \n"
     ]
    },
    {
     "name": "stdout",
     "output_type": "stream",
     "text": [
      "Please enter password\n"
     ]
    }
   ],
   "source": [
    "#10\n",
    "correct = 'maarij123'\n",
    "user_inp = input('Please enter your password:')\n",
    "if user_inp=='':\n",
    "    print('Please enter password')\n",
    "elif user_inp==correct:\n",
    "    print('Correct! The password you entered matches the original password.')\n",
    "else:\n",
    "    print('Incorrect password')"
   ]
  },
  {
   "cell_type": "code",
   "execution_count": 57,
   "id": "83ef7846-8a1b-4801-9014-d5a505f2487b",
   "metadata": {},
   "outputs": [
    {
     "name": "stdin",
     "output_type": "stream",
     "text": [
      "Enter time in 24 hours clock format: 1200\n"
     ]
    },
    {
     "name": "stdout",
     "output_type": "stream",
     "text": [
      "Good afternoon\n"
     ]
    }
   ],
   "source": [
    "#11\n",
    "time= int(input('Enter time in 24 hours clock format:'))\n",
    "if len(str(time))==4:\n",
    "    if time>=0000 and time<1200:\n",
    "        print('Good morning!')\n",
    "    elif time>=1200 and time<1700:\n",
    "        print('Good afternoon')\n",
    "    elif time>=1700 and time<2100:\n",
    "        print('Good evening')\n",
    "    elif time>=1200 and time<=2359:\n",
    "        print('Good night!')\n",
    "else:\n",
    "    print('not correct format')"
   ]
  },
  {
   "cell_type": "code",
   "execution_count": null,
   "id": "244548a5-3f71-4d57-8f32-8f2ee68407a4",
   "metadata": {},
   "outputs": [],
   "source": []
  }
 ],
 "metadata": {
  "kernelspec": {
   "display_name": "Python 3 (ipykernel)",
   "language": "python",
   "name": "python3"
  },
  "language_info": {
   "codemirror_mode": {
    "name": "ipython",
    "version": 3
   },
   "file_extension": ".py",
   "mimetype": "text/x-python",
   "name": "python",
   "nbconvert_exporter": "python",
   "pygments_lexer": "ipython3",
   "version": "3.12.4"
  }
 },
 "nbformat": 4,
 "nbformat_minor": 5
}
