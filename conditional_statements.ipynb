{
 "cells": [
  {
   "cell_type": "code",
   "execution_count": 1,
   "id": "d4d58f84-7f6a-41e1-ab8b-1267d65db70b",
   "metadata": {},
   "outputs": [
    {
     "ename": "IndentationError",
     "evalue": "expected an indented block after 'if' statement on line 4 (2305566376.py, line 5)",
     "output_type": "error",
     "traceback": [
      "\u001b[1;36m  Cell \u001b[1;32mIn[1], line 5\u001b[1;36m\u001b[0m\n\u001b[1;33m    print('You can cast a vote')\u001b[0m\n\u001b[1;37m    ^\u001b[0m\n\u001b[1;31mIndentationError\u001b[0m\u001b[1;31m:\u001b[0m expected an indented block after 'if' statement on line 4\n"
     ]
    }
   ],
   "source": [
    "# as name says conditions exist\n",
    "# if/else\n",
    "age = 18\n",
    "if age >= 18:\n",
    "print('You can cast a vote')"
   ]
  },
  {
   "cell_type": "code",
   "execution_count": 3,
   "id": "f7cde872-f972-49ed-928d-33be960bb216",
   "metadata": {},
   "outputs": [
    {
     "name": "stdout",
     "output_type": "stream",
     "text": [
      "You can cast a vote\n"
     ]
    }
   ],
   "source": [
    "age = 18\n",
    "if age >= 18:\n",
    "    print('You can cast a vote')"
   ]
  },
  {
   "cell_type": "code",
   "execution_count": 4,
   "id": "49c04d75-5fde-4207-aacb-2156f1a7c6c3",
   "metadata": {},
   "outputs": [],
   "source": [
    "# 4 spaces are its indent"
   ]
  },
  {
   "cell_type": "code",
   "execution_count": 5,
   "id": "1317f33d-d352-45d3-8fe6-3f9644258c95",
   "metadata": {},
   "outputs": [],
   "source": [
    "age = 18\n",
    "if age > 18:\n",
    "    print('You can cast a vote')"
   ]
  },
  {
   "cell_type": "code",
   "execution_count": 6,
   "id": "a421c4a8-eed5-49d2-abf2-59c6ac274dca",
   "metadata": {},
   "outputs": [
    {
     "name": "stdout",
     "output_type": "stream",
     "text": [
      "You can not cast a vote\n"
     ]
    }
   ],
   "source": [
    "age = 18\n",
    "if age > 18: # it is known as placing condition\n",
    "    print('You can cast a vote')\n",
    "else:\n",
    "    print('You can not cast a vote')"
   ]
  },
  {
   "cell_type": "code",
   "execution_count": 7,
   "id": "c8f10b4f-40c0-40cf-96d2-dec202e9055f",
   "metadata": {},
   "outputs": [
    {
     "name": "stdin",
     "output_type": "stream",
     "text": [
      "Enter Your Age: 80\n"
     ]
    },
    {
     "name": "stdout",
     "output_type": "stream",
     "text": [
      "You can cast a vote and your age is : 80\n"
     ]
    }
   ],
   "source": [
    "age = int(input('Enter Your Age:'))\n",
    "if age > 18:\n",
    "    print('You can cast a vote and your age is :',age)\n",
    "elif age == 18:\n",
    "    print('Your age is 18 years')\n",
    "else:\n",
    "    print('You can not cast a vote and your age is', age)"
   ]
  },
  {
   "cell_type": "code",
   "execution_count": 10,
   "id": "32dba4a5-36ad-498e-b437-22c04747bf03",
   "metadata": {},
   "outputs": [
    {
     "name": "stdin",
     "output_type": "stream",
     "text": [
      "Enter Your Name: 90\n"
     ]
    },
    {
     "name": "stdout",
     "output_type": "stream",
     "text": [
      "Your Name length is good 2\n"
     ]
    }
   ],
   "source": [
    "name = str(input('Enter Your Name:'))\n",
    "if len(name) >= 10:\n",
    "    print('Your Name length is too long',len(name))\n",
    "elif len(name) == 8:\n",
    "    print('Your Name length is moderate',len(name))\n",
    "else:\n",
    "    print('Your Name length is good',len(name))\n",
    "\n",
    "    "
   ]
  },
  {
   "cell_type": "code",
   "execution_count": 16,
   "id": "54770aba-bed6-45f2-b82d-66a5801dd9fe",
   "metadata": {},
   "outputs": [
    {
     "name": "stdin",
     "output_type": "stream",
     "text": [
      "Enter First number : 10\n",
      "Enter Second number : 30\n",
      "Enter Third number : 50\n"
     ]
    },
    {
     "name": "stdout",
     "output_type": "stream",
     "text": [
      "Largest number is second number: 30.0\n"
     ]
    }
   ],
   "source": [
    "num1 = float(input('Enter First number :'))\n",
    "num2 = float(input('Enter Second number :'))\n",
    "num3 = float(input('Enter Third number :'))\n",
    "if num1>num2 and num1>num3:\n",
    "    print('Largest number is first number:',num1)\n",
    "elif num2>num3:\n",
    "    print('Largest number is second number:',num2)\n",
    "else:\n",
    "    print('Largest number is third number:',num3)\n",
    "    \n",
    "    "
   ]
  },
  {
   "cell_type": "code",
   "execution_count": 25,
   "id": "906dc6f7-485c-42bd-b455-054ff337d98b",
   "metadata": {},
   "outputs": [
    {
     "name": "stdin",
     "output_type": "stream",
     "text": [
      "Enter number : 9\n"
     ]
    },
    {
     "name": "stdout",
     "output_type": "stream",
     "text": [
      "num1 is positive\n"
     ]
    }
   ],
   "source": [
    "num1 = float(input('Enter number :'))\n",
    "if num1>0:\n",
    "    print('num1 is positive')\n",
    "elif num1<0:\n",
    "    print('num1 is negative')\n",
    "else:\n",
    "     print('num1 is zero')\n",
    "    "
   ]
  },
  {
   "cell_type": "code",
   "execution_count": 23,
   "id": "d8499aaa-0763-46bf-b61f-2da0e39a438d",
   "metadata": {},
   "outputs": [
    {
     "name": "stdin",
     "output_type": "stream",
     "text": [
      "Enter number : ?\n"
     ]
    },
    {
     "name": "stdout",
     "output_type": "stream",
     "text": [
      "Enter Valid number\n"
     ]
    }
   ],
   "source": [
    "num1 = (input('Enter number :'))\n",
    "if num1.replace('.','').replace('?','').isdigit():\n",
    "    num = float(num1)\n",
    "    if num>0:\n",
    "          print('num1 is positive')\n",
    "    elif num<0:\n",
    "          print('num1 is negative')\n",
    "    else:\n",
    "          print('num1 is zero')\n",
    "else:\n",
    "     print('Enter Valid number')"
   ]
  },
  {
   "cell_type": "code",
   "execution_count": 29,
   "id": "00094ab5-74ef-4be5-9f26-7fdac3ea6675",
   "metadata": {},
   "outputs": [
    {
     "name": "stdin",
     "output_type": "stream",
     "text": [
      " abc\n",
      " 123\n"
     ]
    },
    {
     "ename": "NameError",
     "evalue": "name 'abc' is not defined",
     "output_type": "error",
     "traceback": [
      "\u001b[1;31m---------------------------------------------------------------------------\u001b[0m",
      "\u001b[1;31mNameError\u001b[0m                                 Traceback (most recent call last)",
      "Cell \u001b[1;32mIn[29], line 3\u001b[0m\n\u001b[0;32m      1\u001b[0m username \u001b[38;5;241m=\u001b[39m \u001b[38;5;28minput\u001b[39m()\n\u001b[0;32m      2\u001b[0m password \u001b[38;5;241m=\u001b[39m \u001b[38;5;28mint\u001b[39m(\u001b[38;5;28minput\u001b[39m())\n\u001b[1;32m----> 3\u001b[0m \u001b[38;5;28;01mif\u001b[39;00m username \u001b[38;5;241m==\u001b[39m abc\u001b[38;5;129m@gmail\u001b[39m\u001b[38;5;241m.\u001b[39mcom \u001b[38;5;129;01mand\u001b[39;00m password \u001b[38;5;241m==\u001b[39m \u001b[38;5;241m12345\u001b[39m:\n\u001b[0;32m      4\u001b[0m     \u001b[38;5;28mprint\u001b[39m(\u001b[38;5;124m'\u001b[39m\u001b[38;5;124mWelcome on dashboard\u001b[39m\u001b[38;5;124m'\u001b[39m)\n\u001b[0;32m      5\u001b[0m \u001b[38;5;28;01melse\u001b[39;00m:\n",
      "\u001b[1;31mNameError\u001b[0m: name 'abc' is not defined"
     ]
    }
   ],
   "source": [
    "username = input()\n",
    "password = int(input())\n",
    "if username == abc@gmail.com and password == 12345:\n",
    "    print('Welcome on dashboard')\n",
    "else:\n",
    "    print('Enter valid Username and Password')"
   ]
  },
  {
   "cell_type": "code",
   "execution_count": 3,
   "id": "e16c5005-6b67-4438-977c-7467c011590e",
   "metadata": {},
   "outputs": [
    {
     "name": "stdin",
     "output_type": "stream",
     "text": [
      "Enter username: maarij\n",
      "Enter Password: 123\n"
     ]
    },
    {
     "name": "stdout",
     "output_type": "stream",
     "text": [
      "Enter valid credentials\n"
     ]
    }
   ],
   "source": [
    "username= input('Enter username:')\n",
    "password= input('Enter Password:')\n",
    "if username == 'maarij@gmail.com' and password == '123456':\n",
    "    print('Welcome Maarij!')\n",
    "elif username == 'maarij@gmail.com' and password != '123456':\n",
    "    print('Password is incorrect')\n",
    "    password= input('Enter Password Again:')\n",
    "    if password == '123456':\n",
    "        print('Password is correct')\n",
    "    else:\n",
    "        print('Password is incorrect')\n",
    "else:\n",
    "    print('Enter valid credentials')\n"
   ]
  },
  {
   "cell_type": "code",
   "execution_count": 16,
   "id": "6040ca0c-f0ba-4377-878c-8464f7689732",
   "metadata": {},
   "outputs": [
    {
     "name": "stdin",
     "output_type": "stream",
     "text": [
      "Enter username: maarij\n",
      "Enter Password: 123456\n"
     ]
    },
    {
     "name": "stdout",
     "output_type": "stream",
     "text": [
      "Enter Valid email\n"
     ]
    }
   ],
   "source": [
    "username= input('Enter username:')\n",
    "password= input('Enter Password:')\n",
    "if '@' in username:\n",
    "    if username == 'maarij@gmail.com' and password == '123456':\n",
    "        print('Welcome Maarij!')\n",
    "    elif username == 'maarij@gmail.com' and password != '123456':\n",
    "        print('Password is incorrect')\n",
    "        password= input('Enter Password Again:')\n",
    "        if password == '123456':\n",
    "            print('Password is correct')\n",
    "        else:\n",
    "            print('Password is incorrect')\n",
    "    else:\n",
    "        print('Enter valid credentials')\n",
    "else:\n",
    "    print('Enter Valid email')"
   ]
  },
  {
   "cell_type": "code",
   "execution_count": null,
   "id": "441996f6-189b-4d9b-a033-0c4da1797e94",
   "metadata": {},
   "outputs": [],
   "source": []
  },
  {
   "cell_type": "code",
   "execution_count": 5,
   "id": "75b9dce0-c07b-48c4-9d76-2271ed74cd71",
   "metadata": {},
   "outputs": [
    {
     "name": "stdin",
     "output_type": "stream",
     "text": [
      "\n",
      "1-addition\n",
      "2-substraction\n",
      "3-multiplication\n",
      "4-division\n",
      " 4\n",
      "Enter your number: 4\n",
      "Enter your number 2: 2\n"
     ]
    },
    {
     "name": "stdout",
     "output_type": "stream",
     "text": [
      "Division of 4.0 and 2.0 : 2.0\n"
     ]
    }
   ],
   "source": [
    "# menu driven program\n",
    "option = input('''\n",
    "1-addition\n",
    "2-substraction\n",
    "3-multiplication\n",
    "4-division\n",
    "''')\n",
    "num1=float(input('Enter your number:'))\n",
    "num2=float(input('Enter your number 2:'))\n",
    "if option == '1':\n",
    "    print('Addition of',num1,'and',num2,':',num1+num2)\n",
    "elif option == '2':\n",
    "    print('Difference of',num1,'and',num2,':',num1-num2)\n",
    "elif option == '3':\n",
    "    print('Multiplication of',num1,'and',num2,':',num1*num2)\n",
    "else :\n",
    "    print('Division of',num1,'and',num2,':',num1/num2)\n"
   ]
  },
  {
   "cell_type": "code",
   "execution_count": 1,
   "id": "5a1b80ee-d58c-4c17-bbbb-174fa2af5db2",
   "metadata": {},
   "outputs": [],
   "source": [
    "#iterative Statements\n",
    "# while (condition):\n",
    "      # body of while\n",
    "# outside body of while"
   ]
  },
  {
   "cell_type": "code",
   "execution_count": 11,
   "id": "3760b564-f030-4b27-abb5-394bbcad4038",
   "metadata": {},
   "outputs": [
    {
     "name": "stdout",
     "output_type": "stream",
     "text": [
      "1\n",
      "We are learning Python\n",
      "2\n",
      "We are learning Python\n",
      "3\n",
      "We are learning Python\n",
      "4\n",
      "We are learning Python\n",
      "5\n",
      "We are learning Python\n",
      "6\n",
      "We are learning Python\n",
      "7\n",
      "We are learning Python\n",
      "8\n",
      "We are learning Python\n",
      "9\n",
      "We are learning Python\n",
      "I am outside loop\n"
     ]
    }
   ],
   "source": [
    "i = 1\n",
    "while i<10:\n",
    "    print(i)\n",
    "    print('We are learning Python')\n",
    "    i+=1\n",
    "print('I am outside loop')"
   ]
  },
  {
   "cell_type": "code",
   "execution_count": 3,
   "id": "7e760c58-fd44-4d2a-8ff5-695cd5d138ee",
   "metadata": {},
   "outputs": [
    {
     "name": "stdin",
     "output_type": "stream",
     "text": [
      "Enter number: 5\n"
     ]
    },
    {
     "name": "stdout",
     "output_type": "stream",
     "text": [
      "5 * 1 = 5\n",
      "5 * 2 = 10\n",
      "5 * 3 = 15\n",
      "5 * 4 = 20\n",
      "5 * 5 = 25\n",
      "5 * 6 = 30\n",
      "5 * 7 = 35\n",
      "5 * 8 = 40\n",
      "5 * 9 = 45\n",
      "5 * 10 = 50\n"
     ]
    }
   ],
   "source": [
    "num = int(input('Enter number:'))\n",
    "i=1\n",
    "while i<11:\n",
    "    print(num,'*',i,'=',num*i)\n",
    "    i+=1"
   ]
  },
  {
   "cell_type": "code",
   "execution_count": 9,
   "id": "e241a106-4ec9-40ab-9911-9b2f0dfd521e",
   "metadata": {},
   "outputs": [
    {
     "name": "stdout",
     "output_type": "stream",
     "text": [
      "1\n",
      "2\n",
      "3\n",
      "4\n",
      "5\n",
      "6\n",
      "7\n"
     ]
    }
   ],
   "source": [
    "i=1\n",
    "while i<10:\n",
    "    print(i)\n",
    "    if i == 7:\n",
    "        break\n",
    "    i+=1"
   ]
  },
  {
   "cell_type": "code",
   "execution_count": 14,
   "id": "75a9f7de-8c06-4af8-92f4-15c11b7c5528",
   "metadata": {},
   "outputs": [
    {
     "name": "stdout",
     "output_type": "stream",
     "text": [
      "1\n",
      "2\n",
      "limit crossed\n"
     ]
    }
   ],
   "source": [
    "# while with else\n",
    "x =1\n",
    "while x<3:\n",
    "    print(x)\n",
    "    x+=1\n",
    "else:\n",
    "    print('limit crossed')"
   ]
  },
  {
   "cell_type": "code",
   "execution_count": 18,
   "id": "933dc275-e0ec-4815-9a54-499ab10b18e6",
   "metadata": {},
   "outputs": [
    {
     "name": "stdout",
     "output_type": "stream",
     "text": [
      "1\n",
      "2\n",
      "3\n",
      "4\n",
      "5\n",
      "6\n",
      "8\n",
      "9\n"
     ]
    }
   ],
   "source": [
    "# skip  one value\n",
    "i=1\n",
    "while i<10:\n",
    "    if i != 7:\n",
    "       print(i)\n",
    "    i+=1\n",
    "        "
   ]
  },
  {
   "cell_type": "code",
   "execution_count": 22,
   "id": "05d560fd-dd44-4ff2-b9f0-3b2283f62a8b",
   "metadata": {},
   "outputs": [
    {
     "name": "stdout",
     "output_type": "stream",
     "text": [
      "20\n",
      "30\n",
      "40\n",
      "60\n",
      "70\n",
      "80\n",
      "90\n",
      "100\n"
     ]
    }
   ],
   "source": [
    "num=10\n",
    "while num<100:\n",
    "    num=num+10\n",
    "    if num == 50:\n",
    "        continue\n",
    "    print(num)"
   ]
  },
  {
   "cell_type": "code",
   "execution_count": 24,
   "id": "6475fa6c-e755-4d12-88da-54b1359c0b42",
   "metadata": {},
   "outputs": [
    {
     "name": "stdout",
     "output_type": "stream",
     "text": [
      "20\n",
      "30\n",
      "40\n",
      "60\n",
      "70\n",
      "80\n"
     ]
    }
   ],
   "source": [
    "num=10\n",
    "while num<100:\n",
    "    num=num+10\n",
    "    if num == 50:\n",
    "        continue\n",
    "    if num == 90:\n",
    "        break\n",
    "    print(num)"
   ]
  },
  {
   "cell_type": "code",
   "execution_count": null,
   "id": "6cbc03ca-3e6b-4409-94f9-225d4a351721",
   "metadata": {},
   "outputs": [],
   "source": []
  }
 ],
 "metadata": {
  "kernelspec": {
   "display_name": "Python 3 (ipykernel)",
   "language": "python",
   "name": "python3"
  },
  "language_info": {
   "codemirror_mode": {
    "name": "ipython",
    "version": 3
   },
   "file_extension": ".py",
   "mimetype": "text/x-python",
   "name": "python",
   "nbconvert_exporter": "python",
   "pygments_lexer": "ipython3",
   "version": "3.12.4"
  }
 },
 "nbformat": 4,
 "nbformat_minor": 5
}
