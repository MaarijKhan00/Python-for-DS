{
 "cells": [
  {
   "cell_type": "code",
   "execution_count": 7,
   "id": "33c6e3d9-75af-40bc-b906-70128f5552ae",
   "metadata": {},
   "outputs": [
    {
     "name": "stdout",
     "output_type": "stream",
     "text": [
      "['apple', 'banana', 'cherry', 'date', 'elderberry']\n",
      "['apple', 'cherry', 'date', 'elderberry']\n",
      "['apple', 'cherry', 'elderberry']\n"
     ]
    }
   ],
   "source": [
    "# Maarij Irfan\n",
    "#Q1\n",
    "fruits = ['apple','banana','cherry','date']\n",
    "#a)\n",
    "fruits.append('elderberry')\n",
    "print(fruits)\n",
    "# append adds elderberry in the list at the very last index as you can see in the output\n",
    "#b)\n",
    "fruits.remove('banana')\n",
    "print(fruits)\n",
    "# remove asthe name indicates removes that element from the lis\n",
    "#c)\n",
    "fruits.pop(2)\n",
    "print(fruits)\n",
    "# pop removes the element as in the input we have given the index 2 so it will remove the element from the second index"
   ]
  },
  {
   "cell_type": "code",
   "execution_count": 13,
   "id": "c556d68f-7e24-4461-9207-17fdd2e36cec",
   "metadata": {},
   "outputs": [
    {
     "name": "stdin",
     "output_type": "stream",
     "text": [
      "Please Type your name: maarij\n",
      "Please type your age: 12\n"
     ]
    },
    {
     "name": "stdout",
     "output_type": "stream",
     "text": [
      "Hello maarij ,You are 12 years old\n"
     ]
    }
   ],
   "source": [
    "#Q2\n",
    "name = input('Please Type your name:')\n",
    "age = int(input('Please type your age:'))\n",
    "print('Hello',name,',You are',age,'years old')"
   ]
  },
  {
   "cell_type": "code",
   "execution_count": 21,
   "id": "ea26b156-0073-4cee-8bd0-b695bdb1b55b",
   "metadata": {},
   "outputs": [
    {
     "name": "stdin",
     "output_type": "stream",
     "text": [
      "Type number to check 3\n"
     ]
    },
    {
     "name": "stdout",
     "output_type": "stream",
     "text": [
      "Number you have typed 3.0 is positive!\n"
     ]
    }
   ],
   "source": [
    "#Q3\n",
    "num = float(input('Type number to check'))\n",
    "if num < 0:\n",
    "    print('Number you have typed',num,'is negative!')\n",
    "elif num == 0:\n",
    "    print('Number you have typed',num,'is Zero!')\n",
    "elif num>0:\n",
    "    print('Number you have typed',num,'is positive!')\n",
    "else:\n",
    "    print('Please enter valid input')"
   ]
  },
  {
   "cell_type": "code",
   "execution_count": 27,
   "id": "2ac4b434-d18c-4cf4-acbd-f6bf959f62c1",
   "metadata": {},
   "outputs": [
    {
     "name": "stdout",
     "output_type": "stream",
     "text": [
      "Area is 120.465\n",
      "Circumference of circle is: 32.124\n"
     ]
    }
   ],
   "source": [
    "#Q5\n",
    "#1\n",
    "diam = 15\n",
    "rad = diam/2\n",
    "pi = 2.1416\n",
    "area = pi*(rad**2)\n",
    "print('Area is',area)\n",
    "#2\n",
    "circum_of_circle = 2*pi*rad\n",
    "print('Circumference of circle is:',circum_of_circle)"
   ]
  },
  {
   "cell_type": "code",
   "execution_count": 29,
   "id": "0f58084b-6347-4ed9-93b2-0baf5679fb8f",
   "metadata": {},
   "outputs": [
    {
     "name": "stdin",
     "output_type": "stream",
     "text": [
      "Enter Diameter: 20\n"
     ]
    },
    {
     "name": "stdout",
     "output_type": "stream",
     "text": [
      "Area is 214.16\n"
     ]
    }
   ],
   "source": [
    "#3\n",
    "dia = int(input('Enter Diameter:'))\n",
    "rad = dia/2\n",
    "pi = 2.1416\n",
    "area = pi*(rad**2)\n",
    "print('Area is',area)"
   ]
  },
  {
   "cell_type": "code",
   "execution_count": 35,
   "id": "b66af32d-40a9-4119-8091-de14cc8ffa60",
   "metadata": {},
   "outputs": [
    {
     "name": "stdout",
     "output_type": "stream",
     "text": [
      "Profit made by company is: 800 $\n"
     ]
    }
   ],
   "source": [
    "#Q6\n",
    "cost_to_fly = 5000\n",
    "people_signed = 29\n",
    "charges_per_tick = 200\n",
    "total_earned_by_flight = people_signed*charges_per_tick\n",
    "profit_to_company = total_earned_by_flight-cost_to_fly\n",
    "print('Profit made by company is:',profit_to_company,'$')"
   ]
  },
  {
   "cell_type": "code",
   "execution_count": 43,
   "id": "05b52988-3dd6-4931-9eae-c417173b2fa9",
   "metadata": {},
   "outputs": [
    {
     "name": "stdin",
     "output_type": "stream",
     "text": [
      "Enter your email: maarij@gmail\n"
     ]
    },
    {
     "name": "stdout",
     "output_type": "stream",
     "text": [
      "Enter valid email\n"
     ]
    }
   ],
   "source": [
    "#Q8\n",
    "#1)\n",
    "user_value = input('Enter your email:')\n",
    "if '@' in user_value and '.' in user_value:\n",
    "    print('You have entered correct email')\n",
    "else:\n",
    "    print('Enter valid email')"
   ]
  },
  {
   "cell_type": "code",
   "execution_count": 53,
   "id": "4a125656-99b5-4762-8377-367ba3a67495",
   "metadata": {},
   "outputs": [
    {
     "name": "stdin",
     "output_type": "stream",
     "text": [
      "Enter your email: maarij@gmail.com\n"
     ]
    },
    {
     "name": "stdout",
     "output_type": "stream",
     "text": [
      "You have entered correct email\n"
     ]
    },
    {
     "name": "stdin",
     "output_type": "stream",
     "text": [
      "Enter Your username: maarij.irfan\n",
      "Enter Your Password: 123456\n"
     ]
    },
    {
     "name": "stdout",
     "output_type": "stream",
     "text": [
      "Hey Ahmed! Welcome here\n"
     ]
    }
   ],
   "source": [
    "#2)\n",
    "username = 'maarij.irfan'\n",
    "password = '123456'\n",
    "user_value = input('Enter your email:')\n",
    "if '@' in user_value and '.' in user_value:\n",
    "    print('You have entered correct email')\n",
    "    user_nam = input('Enter Your username:')\n",
    "    passw = input('Enter Your Password:')\n",
    "    if user_nam == username and passw == password:\n",
    "        print('Hey Ahmed! Welcome here')\n",
    "    else:\n",
    "        print('You have entered invalid credentials')\n",
    "else:\n",
    "    print('Enter valid email')"
   ]
  },
  {
   "cell_type": "code",
   "execution_count": 105,
   "id": "232b3ca4-c565-4c38-99c1-83ef360c3afe",
   "metadata": {},
   "outputs": [
    {
     "name": "stdin",
     "output_type": "stream",
     "text": [
      "Enter your email: maarij@gmail.\n"
     ]
    },
    {
     "name": "stdout",
     "output_type": "stream",
     "text": [
      "You have entered correct email\n"
     ]
    },
    {
     "name": "stdin",
     "output_type": "stream",
     "text": [
      "Enter Your username: ahmed@gmail.com\n",
      "Enter Your Password: ahmed@321\n"
     ]
    },
    {
     "name": "stdout",
     "output_type": "stream",
     "text": [
      "Hey Ahmed! Welcome here\n"
     ]
    }
   ],
   "source": [
    "#3)\n",
    "username = 'ahmed@gmail.com'\n",
    "password = 'ahmed@321'\n",
    "attempt = 0\n",
    "user_value = input('Enter your email:')\n",
    "if '@' in user_value and '.' in user_value:\n",
    "    print('You have entered correct email')\n",
    "    while attempt<2:\n",
    "        user_nam = input('Enter Your username:')\n",
    "        passw = input('Enter Your Password:')\n",
    "        if user_nam == username and passw == password:\n",
    "            print('Hey Ahmed! Welcome here')\n",
    "            break\n",
    "        else:\n",
    "            attempt+=1\n",
    "            if attempt == 2:\n",
    "                print('You are not allowed to use again')\n",
    "else:\n",
    "    print('Enter valid email')\n",
    "    "
   ]
  },
  {
   "cell_type": "code",
   "execution_count": 75,
   "id": "16785006-9576-48b2-bb9c-1ed593396025",
   "metadata": {},
   "outputs": [
    {
     "name": "stdout",
     "output_type": "stream",
     "text": [
      "x: 12.5\n",
      "y: 45.8\n",
      "z: 33.1\n"
     ]
    }
   ],
   "source": [
    "#Q9\n",
    "#a)\n",
    "coordinates = (12.5,45.8,33.1)\n",
    "x,y,z = coordinates\n",
    "print('x:',x)\n",
    "print('y:',y)\n",
    "print('z:',z)\n",
    "#b)\n",
    "#tuples are ideal for storing fixed data because they provide immutability, better performance, and guarantee data integrity, \n",
    "#whereas lists are more suitable for data that may need to change over time."
   ]
  },
  {
   "cell_type": "code",
   "execution_count": 77,
   "id": "442ca679-ee88-4634-862b-c2c3ce99d366",
   "metadata": {},
   "outputs": [
    {
     "name": "stdout",
     "output_type": "stream",
     "text": [
      "{'Ali': 85, 'Saima': 90, 'Kabeer': 78, 'Ahmed': 92}\n"
     ]
    }
   ],
   "source": [
    "#b)\n",
    "student_scores = {'Ali':85,'Saima':90,'Kabeer':78}\n",
    "student_scores['Ahmed'] = 92\n",
    "print(student_scores)"
   ]
  },
  {
   "cell_type": "code",
   "execution_count": 79,
   "id": "6dec84ab-b675-4012-96ec-c51d4af3e7f0",
   "metadata": {},
   "outputs": [
    {
     "name": "stdout",
     "output_type": "stream",
     "text": [
      "{'Ali': 85, 'Saima': 90, 'Kabeer': 82, 'Ahmed': 92}\n"
     ]
    }
   ],
   "source": [
    "student_scores.update({'Kabeer':82})\n",
    "print(student_scores)"
   ]
  },
  {
   "cell_type": "code",
   "execution_count": 89,
   "id": "18881294-9f30-4c1d-b21b-8539f35b9a89",
   "metadata": {},
   "outputs": [
    {
     "name": "stdin",
     "output_type": "stream",
     "text": [
      "\n",
      "   1.Addition\n",
      "   2.Substraction\n",
      "   3.Multiplication\n",
      "   4.Factorial\n",
      "   5.Division\n",
      "   6.Exponential\n",
      "   7.Square root\n",
      " 6\n",
      "Enter the base:  3\n",
      "Enter the exponent:  6\n"
     ]
    },
    {
     "name": "stdout",
     "output_type": "stream",
     "text": [
      "The result of 3.0 raised to the power of exponent is: 729.0\n"
     ]
    }
   ],
   "source": [
    "#Q7\n",
    "option = input('''\n",
    "   1.Addition\n",
    "   2.Substraction\n",
    "   3.Multiplication\n",
    "   4.Factorial\n",
    "   5.Division\n",
    "   6.Exponential\n",
    "   7.Square root\n",
    "''')\n",
    "if option == '1':\n",
    "    num1 = float(input(\"Enter the first number: \"))\n",
    "    num2 = float(input(\"Enter the second number: \"))\n",
    "    addition = num1 + num2\n",
    "    print(\"Addition result:\", addition)\n",
    "if option == '2':\n",
    "    num1 = float(input(\"Enter the first number: \"))\n",
    "    num2 = float(input(\"Enter the second number: \"))\n",
    "    substraction = num1 - num2\n",
    "    print(\"Substraction result:\", substraction)\n",
    "if option == '3':\n",
    "    num1 = float(input(\"Enter the first number: \"))\n",
    "    num2 = float(input(\"Enter the second number: \"))\n",
    "    multi = num1 * num2\n",
    "    print(\"Multiplication result:\", multi)\n",
    "if option == '4':\n",
    "    num1 = int(input(\"Enter a number for factorial: \"))\n",
    "    fact_result = 1\n",
    "    i = 1\n",
    "    while i <= num1: \n",
    "        fact_result *= i\n",
    "        i += 1\n",
    "        print('factorial is:',fact_result)\n",
    "if option == '5':\n",
    "    num2 = float(input(\"Enter the numerator for division: \"))\n",
    "    num3 = float(input(\"Enter the denominator for division: \"))\n",
    "    if num3 == 0:\n",
    "        print(\"Error: Division by zero is not allowed!\")\n",
    "    else:  \n",
    "        result = num2 / num3  # Simple division\n",
    "        print('Division result:',result)\n",
    "if option == '6':\n",
    "    base = float(input(\"Enter the base: \"))\n",
    "    exponent = float(input(\"Enter the exponent: \"))\n",
    "    result = base ** exponent\n",
    "    print('The result of',base, 'raised to the power of exponent is:',result)\n",
    "if option == '7':\n",
    "    num = float(input(\"Enter a number to find its square root: \"))\n",
    "    if num < 0:  \n",
    "        print(\"Error: Cannot calculate the square root of a negative number!\")\n",
    "    else:    \n",
    "        result = num ** 0.5    \n",
    "        print('The square root of',num, 'is:',result)\n",
    "else :\n",
    "    print('Type valid option')"
   ]
  },
  {
   "cell_type": "code",
   "execution_count": 97,
   "id": "ab65e475-eba8-4104-95bc-8d55f80e95f2",
   "metadata": {},
   "outputs": [
    {
     "name": "stdout",
     "output_type": "stream",
     "text": [
      "1.7000000000000004\n"
     ]
    }
   ],
   "source": [
    "#Q4\n",
    "result = (2 / 5) * (17 / 3) / (4 / 3)\n",
    "print(result)"
   ]
  },
  {
   "cell_type": "code",
   "execution_count": null,
   "id": "0e9764ec-fd25-4461-9a2f-8c6ad222c105",
   "metadata": {},
   "outputs": [],
   "source": []
  }
 ],
 "metadata": {
  "kernelspec": {
   "display_name": "Python 3 (ipykernel)",
   "language": "python",
   "name": "python3"
  },
  "language_info": {
   "codemirror_mode": {
    "name": "ipython",
    "version": 3
   },
   "file_extension": ".py",
   "mimetype": "text/x-python",
   "name": "python",
   "nbconvert_exporter": "python",
   "pygments_lexer": "ipython3",
   "version": "3.12.4"
  }
 },
 "nbformat": 4,
 "nbformat_minor": 5
}
