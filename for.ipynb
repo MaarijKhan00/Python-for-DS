{
 "cells": [
  {
   "cell_type": "code",
   "execution_count": 5,
   "id": "115f864d-fe65-4ffd-8f7e-23b6a8aa2cb3",
   "metadata": {},
   "outputs": [
    {
     "name": "stdout",
     "output_type": "stream",
     "text": [
      "1\n",
      "2\n",
      "3\n",
      "4\n",
      "5\n",
      "6\n",
      "7\n",
      "8\n",
      "9\n"
     ]
    }
   ],
   "source": [
    "# for loop\n",
    "for num in range(1,10):\n",
    "    print(num)"
   ]
  },
  {
   "cell_type": "code",
   "execution_count": 11,
   "id": "4b6adf64-95ad-4496-af44-869337c76124",
   "metadata": {},
   "outputs": [
    {
     "name": "stdout",
     "output_type": "stream",
     "text": [
      "1\n",
      "3\n",
      "5\n",
      "7\n",
      "9\n"
     ]
    }
   ],
   "source": [
    "for num in range(1,10,2):\n",
    "    print(num)"
   ]
  },
  {
   "cell_type": "code",
   "execution_count": 13,
   "id": "17fdce69-44b8-454c-be96-1c30b9e2fcee",
   "metadata": {},
   "outputs": [
    {
     "name": "stdout",
     "output_type": "stream",
     "text": [
      "kiwi\n",
      "Apple\n",
      "Banana\n"
     ]
    }
   ],
   "source": [
    "fruits = ['kiwi','Apple','Banana']\n",
    "for num in fruits:\n",
    "    print(num)"
   ]
  },
  {
   "cell_type": "code",
   "execution_count": 15,
   "id": "c4ab58b5-edee-4a9b-b632-65d77968dd73",
   "metadata": {},
   "outputs": [
    {
     "name": "stdout",
     "output_type": "stream",
     "text": [
      "M\n",
      "a\n",
      "a\n",
      "r\n",
      "i\n",
      "j\n"
     ]
    }
   ],
   "source": [
    "name = 'Maarij'\n",
    "for num in name:\n",
    "    print(num)"
   ]
  },
  {
   "cell_type": "code",
   "execution_count": 23,
   "id": "ba0f380c-ada0-4c0f-8c31-916548b07d5b",
   "metadata": {},
   "outputs": [
    {
     "name": "stdout",
     "output_type": "stream",
     "text": [
      "('name', 'Maarij')\n",
      "('class', 'PGD')\n",
      "('age', 24)\n",
      "('interest', 'AI')\n"
     ]
    }
   ],
   "source": [
    "ids = {'name':'Maarij','class':'PGD','age':24,'interest':'AI'}\n",
    "for num in ids.items():\n",
    "    print(num)"
   ]
  },
  {
   "cell_type": "code",
   "execution_count": 25,
   "id": "24618144-b544-4a87-bb2e-82fd04fff982",
   "metadata": {},
   "outputs": [
    {
     "name": "stdout",
     "output_type": "stream",
     "text": [
      "name\n",
      "class\n",
      "age\n",
      "interest\n"
     ]
    }
   ],
   "source": [
    "ids = {'name':'Maarij','class':'PGD','age':24,'interest':'AI'}\n",
    "for num in ids.keys():\n",
    "    print(num)"
   ]
  },
  {
   "cell_type": "code",
   "execution_count": 29,
   "id": "6805a789-ae2d-43b4-93e5-f60fac96240b",
   "metadata": {},
   "outputs": [
    {
     "name": "stdout",
     "output_type": "stream",
     "text": [
      "name Maarij\n",
      "class PGD\n",
      "age 24\n",
      "interest AI\n"
     ]
    }
   ],
   "source": [
    "ids = {'name':'Maarij','class':'PGD','age':24,'interest':'AI'}\n",
    "for num in ids:\n",
    "    print(num,ids[num])"
   ]
  },
  {
   "cell_type": "code",
   "execution_count": 3,
   "id": "c2b07bd6-fb1b-4a7a-8ba3-b8680dfd17fe",
   "metadata": {},
   "outputs": [
    {
     "name": "stdout",
     "output_type": "stream",
     "text": [
      "Year: 0 11000.0\n",
      "Year: 1 12000.0\n",
      "Year: 2 13000.0\n",
      "Year: 3 14000.0\n",
      "Year: 4 15000.0\n",
      "Year: 5 16000.0\n",
      "Year: 6 17000.0\n",
      "Year: 7 18000.0\n",
      "Year: 8 19000.0\n",
      "Year: 9 20000.0\n"
     ]
    }
   ],
   "source": [
    "pop = 10000\n",
    "pop_inc = 10000*.10\n",
    "\n",
    "for inc in range(0,10):\n",
    "    pop = pop+pop_inc\n",
    "    print('Year:',inc,pop)"
   ]
  },
  {
   "cell_type": "code",
   "execution_count": 4,
   "id": "00578e39-4064-4436-aebf-b955eeebf4c8",
   "metadata": {},
   "outputs": [
    {
     "name": "stdout",
     "output_type": "stream",
     "text": [
      "Year: 10 11000.0\n",
      "Year: 9 12100.0\n",
      "Year: 8 13310.0\n",
      "Year: 7 14641.0\n",
      "Year: 6 16105.1\n",
      "Year: 5 17715.61\n",
      "Year: 4 19487.171000000002\n",
      "Year: 3 21435.888100000004\n",
      "Year: 2 23579.476910000005\n",
      "Year: 1 25937.424601000006\n"
     ]
    }
   ],
   "source": [
    "pop = 10000\n",
    "pop_inc = .10\n",
    "\n",
    "for inc in range(10,0,-1):\n",
    "    pop+=pop*pop_inc\n",
    "    print('Year:',inc,pop)"
   ]
  },
  {
   "cell_type": "code",
   "execution_count": 7,
   "id": "c7993e82-707f-4ebf-ac50-fda0df4d9d0e",
   "metadata": {},
   "outputs": [],
   "source": [
    "#nested loop"
   ]
  },
  {
   "cell_type": "code",
   "execution_count": 5,
   "id": "c3f10ab6-87b6-4e32-819a-19e077801031",
   "metadata": {},
   "outputs": [
    {
     "name": "stdout",
     "output_type": "stream",
     "text": [
      "1 1\n",
      "1 2\n",
      "1 3\n",
      "1 4\n",
      "2 1\n",
      "2 2\n",
      "2 3\n",
      "2 4\n",
      "3 1\n",
      "3 2\n",
      "3 3\n",
      "3 4\n",
      "4 1\n",
      "4 2\n",
      "4 3\n",
      "4 4\n"
     ]
    }
   ],
   "source": [
    "for i in range(1,5):\n",
    "    for j in range(1,5):\n",
    "        print(i,j)"
   ]
  },
  {
   "cell_type": "code",
   "execution_count": 21,
   "id": "15f26ee3-1bbd-42ce-bf96-4282df0de043",
   "metadata": {},
   "outputs": [
    {
     "name": "stdin",
     "output_type": "stream",
     "text": [
      "Enter no of rows for pattern: 8\n"
     ]
    },
    {
     "name": "stdout",
     "output_type": "stream",
     "text": [
      "*\n",
      "**\n",
      "***\n",
      "****\n",
      "*****\n",
      "******\n",
      "*******\n",
      "********\n"
     ]
    }
   ],
   "source": [
    "# pattern1\n",
    "#*\n",
    "#**\n",
    "#***\n",
    "#****\n",
    "rows = int(input('Enter no of rows for pattern:'))\n",
    "for i in range(1,rows+1):\n",
    "    for j in range(1,i+1):\n",
    "        print('*',end='')\n",
    "    print()"
   ]
  },
  {
   "cell_type": "code",
   "execution_count": 29,
   "id": "3734602b-588c-4791-b775-8fe110927b2c",
   "metadata": {},
   "outputs": [
    {
     "name": "stdin",
     "output_type": "stream",
     "text": [
      "Enter no of rows for pattern: 8\n"
     ]
    },
    {
     "name": "stdout",
     "output_type": "stream",
     "text": [
      "********\n",
      "*******\n",
      "******\n",
      "*****\n",
      "****\n",
      "***\n",
      "**\n",
      "*\n"
     ]
    }
   ],
   "source": [
    "# in reverse order\n",
    "rows = int(input('Enter no of rows for pattern:'))\n",
    "for i in range(rows,0,-1):\n",
    "    for j in range(1,i+1):\n",
    "        print('*',end='')\n",
    "    print()"
   ]
  },
  {
   "cell_type": "code",
   "execution_count": 12,
   "id": "1fc89d5f-faa8-4bd6-a7e8-ce89a25f6a4c",
   "metadata": {},
   "outputs": [
    {
     "name": "stdin",
     "output_type": "stream",
     "text": [
      "Enter no of rows for pattern: 5\n"
     ]
    },
    {
     "name": "stdout",
     "output_type": "stream",
     "text": [
      "1\n",
      "12\n",
      "123\n",
      "1234\n",
      "12345\n"
     ]
    }
   ],
   "source": [
    "rows = int(input('Enter no of rows for pattern:'))\n",
    "for i in range(1,rows+1):\n",
    "    for j in range(1,i+1):\n",
    "        print(j,end='')\n",
    "    print()"
   ]
  },
  {
   "cell_type": "code",
   "execution_count": 14,
   "id": "0126a3a7-3cd9-4c3c-8e2c-1ed005484d6e",
   "metadata": {},
   "outputs": [
    {
     "name": "stdin",
     "output_type": "stream",
     "text": [
      "Enter no of rows for pattern: 5\n"
     ]
    },
    {
     "name": "stdout",
     "output_type": "stream",
     "text": [
      "1\n",
      "121\n",
      "12321\n",
      "1234321\n",
      "123454321\n"
     ]
    }
   ],
   "source": [
    "rows = int(input('Enter no of rows for pattern:'))\n",
    "for i in range(1,rows+1):\n",
    "    for j in range(1,i+1):\n",
    "        print(j,end='')\n",
    "    for k in range(i-1,0,-1):\n",
    "        print(k,end='')\n",
    "    print()"
   ]
  },
  {
   "cell_type": "code",
   "execution_count": 16,
   "id": "ef4572d5-55d3-4ebc-8a2e-16280ddd3178",
   "metadata": {},
   "outputs": [
    {
     "name": "stdout",
     "output_type": "stream",
     "text": [
      "Mango\n",
      "Goat\n",
      "Maarij\n",
      "4\n"
     ]
    }
   ],
   "source": [
    "mix = ['Mango','Goat','Maarij',4]\n",
    "for item in mix:\n",
    "    print(item)"
   ]
  },
  {
   "cell_type": "code",
   "execution_count": null,
   "id": "01f90bc5-1cec-4a88-abc5-02872f9529a7",
   "metadata": {},
   "outputs": [],
   "source": []
  }
 ],
 "metadata": {
  "kernelspec": {
   "display_name": "Python 3 (ipykernel)",
   "language": "python",
   "name": "python3"
  },
  "language_info": {
   "codemirror_mode": {
    "name": "ipython",
    "version": 3
   },
   "file_extension": ".py",
   "mimetype": "text/x-python",
   "name": "python",
   "nbconvert_exporter": "python",
   "pygments_lexer": "ipython3",
   "version": "3.12.4"
  }
 },
 "nbformat": 4,
 "nbformat_minor": 5
}
